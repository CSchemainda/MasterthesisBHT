{
 "cells": [
  {
   "cell_type": "code",
   "execution_count": 1,
   "id": "57a93c43-2137-4222-9649-0a7b5ac21cc9",
   "metadata": {},
   "outputs": [],
   "source": [
    "import pandas as pd\n",
    "import matplotlib.pyplot as plt\n",
    "import numpy as np\n",
    "from sklearn.metrics import mean_absolute_error\n",
    "from sklearn.metrics import mean_squared_error\n",
    "import math"
   ]
  },
  {
   "cell_type": "code",
   "execution_count": 4,
   "id": "087f06bd-95ab-44e7-b027-a4adb0f06e54",
   "metadata": {},
   "outputs": [
    {
     "data": {
      "text/html": [
       "<div>\n",
       "<style scoped>\n",
       "    .dataframe tbody tr th:only-of-type {\n",
       "        vertical-align: middle;\n",
       "    }\n",
       "\n",
       "    .dataframe tbody tr th {\n",
       "        vertical-align: top;\n",
       "    }\n",
       "\n",
       "    .dataframe thead th {\n",
       "        text-align: right;\n",
       "    }\n",
       "</style>\n",
       "<table border=\"1\" class=\"dataframe\">\n",
       "  <thead>\n",
       "    <tr style=\"text-align: right;\">\n",
       "      <th></th>\n",
       "      <th>Rating1</th>\n",
       "      <th>Secure1</th>\n",
       "      <th>Rating2</th>\n",
       "      <th>Secure2</th>\n",
       "      <th>Expert</th>\n",
       "      <th>Unnamed: 5</th>\n",
       "    </tr>\n",
       "  </thead>\n",
       "  <tbody>\n",
       "    <tr>\n",
       "      <th>0</th>\n",
       "      <td>4</td>\n",
       "      <td>3</td>\n",
       "      <td>2</td>\n",
       "      <td>3</td>\n",
       "      <td>1</td>\n",
       "      <td>NaN</td>\n",
       "    </tr>\n",
       "    <tr>\n",
       "      <th>1</th>\n",
       "      <td>4</td>\n",
       "      <td>5</td>\n",
       "      <td>3</td>\n",
       "      <td>2</td>\n",
       "      <td>0</td>\n",
       "      <td>NaN</td>\n",
       "    </tr>\n",
       "    <tr>\n",
       "      <th>2</th>\n",
       "      <td>3</td>\n",
       "      <td>4</td>\n",
       "      <td>2</td>\n",
       "      <td>4</td>\n",
       "      <td>0</td>\n",
       "      <td>NaN</td>\n",
       "    </tr>\n",
       "    <tr>\n",
       "      <th>3</th>\n",
       "      <td>4</td>\n",
       "      <td>4</td>\n",
       "      <td>4</td>\n",
       "      <td>5</td>\n",
       "      <td>0</td>\n",
       "      <td>NaN</td>\n",
       "    </tr>\n",
       "    <tr>\n",
       "      <th>4</th>\n",
       "      <td>3</td>\n",
       "      <td>4</td>\n",
       "      <td>4</td>\n",
       "      <td>4</td>\n",
       "      <td>1</td>\n",
       "      <td>NaN</td>\n",
       "    </tr>\n",
       "    <tr>\n",
       "      <th>5</th>\n",
       "      <td>3</td>\n",
       "      <td>3</td>\n",
       "      <td>3</td>\n",
       "      <td>3</td>\n",
       "      <td>0</td>\n",
       "      <td>NaN</td>\n",
       "    </tr>\n",
       "    <tr>\n",
       "      <th>6</th>\n",
       "      <td>4</td>\n",
       "      <td>4</td>\n",
       "      <td>4</td>\n",
       "      <td>2</td>\n",
       "      <td>0</td>\n",
       "      <td>NaN</td>\n",
       "    </tr>\n",
       "    <tr>\n",
       "      <th>7</th>\n",
       "      <td>3</td>\n",
       "      <td>4</td>\n",
       "      <td>2</td>\n",
       "      <td>4</td>\n",
       "      <td>0</td>\n",
       "      <td>NaN</td>\n",
       "    </tr>\n",
       "    <tr>\n",
       "      <th>8</th>\n",
       "      <td>4</td>\n",
       "      <td>4</td>\n",
       "      <td>3</td>\n",
       "      <td>3</td>\n",
       "      <td>1</td>\n",
       "      <td>NaN</td>\n",
       "    </tr>\n",
       "    <tr>\n",
       "      <th>9</th>\n",
       "      <td>4</td>\n",
       "      <td>4</td>\n",
       "      <td>4</td>\n",
       "      <td>3</td>\n",
       "      <td>0</td>\n",
       "      <td>NaN</td>\n",
       "    </tr>\n",
       "    <tr>\n",
       "      <th>10</th>\n",
       "      <td>3</td>\n",
       "      <td>4</td>\n",
       "      <td>4</td>\n",
       "      <td>4</td>\n",
       "      <td>0</td>\n",
       "      <td>NaN</td>\n",
       "    </tr>\n",
       "    <tr>\n",
       "      <th>11</th>\n",
       "      <td>4</td>\n",
       "      <td>3</td>\n",
       "      <td>4</td>\n",
       "      <td>4</td>\n",
       "      <td>0</td>\n",
       "      <td>NaN</td>\n",
       "    </tr>\n",
       "    <tr>\n",
       "      <th>12</th>\n",
       "      <td>4</td>\n",
       "      <td>3</td>\n",
       "      <td>4</td>\n",
       "      <td>3</td>\n",
       "      <td>1</td>\n",
       "      <td>NaN</td>\n",
       "    </tr>\n",
       "    <tr>\n",
       "      <th>13</th>\n",
       "      <td>4</td>\n",
       "      <td>4</td>\n",
       "      <td>3</td>\n",
       "      <td>3</td>\n",
       "      <td>0</td>\n",
       "      <td>NaN</td>\n",
       "    </tr>\n",
       "    <tr>\n",
       "      <th>14</th>\n",
       "      <td>4</td>\n",
       "      <td>4</td>\n",
       "      <td>3</td>\n",
       "      <td>3</td>\n",
       "      <td>0</td>\n",
       "      <td>NaN</td>\n",
       "    </tr>\n",
       "    <tr>\n",
       "      <th>15</th>\n",
       "      <td>4</td>\n",
       "      <td>4</td>\n",
       "      <td>5</td>\n",
       "      <td>5</td>\n",
       "      <td>1</td>\n",
       "      <td>NaN</td>\n",
       "    </tr>\n",
       "    <tr>\n",
       "      <th>16</th>\n",
       "      <td>2</td>\n",
       "      <td>4</td>\n",
       "      <td>2</td>\n",
       "      <td>3</td>\n",
       "      <td>0</td>\n",
       "      <td>NaN</td>\n",
       "    </tr>\n",
       "    <tr>\n",
       "      <th>17</th>\n",
       "      <td>2</td>\n",
       "      <td>2</td>\n",
       "      <td>4</td>\n",
       "      <td>4</td>\n",
       "      <td>0</td>\n",
       "      <td>NaN</td>\n",
       "    </tr>\n",
       "    <tr>\n",
       "      <th>18</th>\n",
       "      <td>3</td>\n",
       "      <td>3</td>\n",
       "      <td>3</td>\n",
       "      <td>3</td>\n",
       "      <td>1</td>\n",
       "      <td>NaN</td>\n",
       "    </tr>\n",
       "  </tbody>\n",
       "</table>\n",
       "</div>"
      ],
      "text/plain": [
       "    Rating1  Secure1  Rating2  Secure2  Expert  Unnamed: 5\n",
       "0         4        3        2        3       1         NaN\n",
       "1         4        5        3        2       0         NaN\n",
       "2         3        4        2        4       0         NaN\n",
       "3         4        4        4        5       0         NaN\n",
       "4         3        4        4        4       1         NaN\n",
       "5         3        3        3        3       0         NaN\n",
       "6         4        4        4        2       0         NaN\n",
       "7         3        4        2        4       0         NaN\n",
       "8         4        4        3        3       1         NaN\n",
       "9         4        4        4        3       0         NaN\n",
       "10        3        4        4        4       0         NaN\n",
       "11        4        3        4        4       0         NaN\n",
       "12        4        3        4        3       1         NaN\n",
       "13        4        4        3        3       0         NaN\n",
       "14        4        4        3        3       0         NaN\n",
       "15        4        4        5        5       1         NaN\n",
       "16        2        4        2        3       0         NaN\n",
       "17        2        2        4        4       0         NaN\n",
       "18        3        3        3        3       1         NaN"
      ]
     },
     "execution_count": 4,
     "metadata": {},
     "output_type": "execute_result"
    }
   ],
   "source": [
    "df = pd.read_csv('results_part3.csv')\n",
    "# Rating1 & Secure1 = Margarethen\n",
    "# Rating2 & Secure2 = Olympia\n",
    "# expert: 1 = yes / 0 = no \n",
    "df.head(20)"
   ]
  },
  {
   "cell_type": "markdown",
   "id": "75952c26-bd72-4e42-84af-96811544c00a",
   "metadata": {},
   "source": [
    "## Auswertung zur Sternebewertung"
   ]
  },
  {
   "cell_type": "code",
   "execution_count": 45,
   "id": "02914de5-7af2-4889-a8e1-7b4a8ed3f628",
   "metadata": {},
   "outputs": [
    {
     "name": "stdout",
     "output_type": "stream",
     "text": [
      "3.473684210526316 Average Stars Margarethen\n",
      "3.3157894736842106 Average Stars Olympia\n"
     ]
    }
   ],
   "source": [
    "print(str(df['Rating1'].mean())+' Average Stars Margarethen')\n",
    "print(str(df['Rating2'].mean())+' Average Stars Olympia')"
   ]
  },
  {
   "cell_type": "code",
   "execution_count": 15,
   "id": "31b86dbf-7d00-4ebe-a008-54b65902229d",
   "metadata": {},
   "outputs": [
    {
     "name": "stdout",
     "output_type": "stream",
     "text": [
      "3.6666666666666665 Experten Bewertung Marga\n",
      "3.5 Experten Bewertung Olymp\n",
      "3.3846153846153846 Non-Experten Bewertung Marga\n",
      "3.230769230769231 Non-Experten Bewertung Olym\n"
     ]
    }
   ],
   "source": [
    "print(str(df[(df['Expert']==1)].Rating1.mean()) + ' Experten Bewertung Marga')\n",
    "print(str(df[(df['Expert']==1)].Rating2.mean()) + ' Experten Bewertung Olymp')\n",
    "print(str(df[(df['Expert']==0)].Rating1.mean()) + ' Non-Experten Bewertung Marga')\n",
    "print(str(df[(df['Expert']==0)].Rating2.mean()) + ' Non-Experten Bewertung Olym')"
   ]
  },
  {
   "cell_type": "code",
   "execution_count": 24,
   "id": "7b2255a6-e903-4646-a1fd-abaf67c701ac",
   "metadata": {},
   "outputs": [
    {
     "name": "stdout",
     "output_type": "stream",
     "text": [
      "4\n",
      "7\n"
     ]
    },
    {
     "data": {
      "text/plain": [
       "8"
      ]
     },
     "execution_count": 24,
     "metadata": {},
     "output_type": "execute_result"
    }
   ],
   "source": [
    "print(len(df[(df['Rating1']<df['Rating2'])]))\n",
    "print((len(df[(df['Rating1']>df['Rating2'])])))\n",
    "len(df[(df['Rating1']==df['Rating2'])])"
   ]
  },
  {
   "cell_type": "markdown",
   "id": "a43c00c1-9c56-4657-a638-6c9ba3f90204",
   "metadata": {},
   "source": [
    "Das Modell für die Margarethenstraße wird leicht positiver bewertet aber im Grunde beide Modelle gleich. Marga 3,47 Sterne, Olympia 3,32. (Experten schätzen beide Modelle besser ein als Nicht experten 3,66 vs. 3.38 und 3.5 vs. 3.23)\n",
    "* 8 Personen haben beide Modelle gleich eingeschätzt (42 %)\n",
    "* 4 Personen habe das erste Modell schlechter eingeschätz als das zweite (22%)\n",
    "* 7 Personen haben mit component charts, das zweite Modell schlechter eingeschätzt als das erste (36%)"
   ]
  },
  {
   "cell_type": "markdown",
   "id": "046b1a2e-4437-4b43-b6a3-f9c31ff20fc5",
   "metadata": {},
   "source": [
    "## Auswertung zur Einschätzung Sicherheit"
   ]
  },
  {
   "cell_type": "code",
   "execution_count": 29,
   "id": "b3dcbd91-8451-4095-9a55-f164fe230ae9",
   "metadata": {},
   "outputs": [
    {
     "name": "stdout",
     "output_type": "stream",
     "text": [
      "3.6842105263157894 Average Sure Margarethen\n",
      "3.4210526315789473 Average Sure Olympia\n"
     ]
    }
   ],
   "source": [
    "print(str(df['Secure1'].mean())+' Average Sure Margarethen')\n",
    "print(str(df['Secure2'].mean())+' Average Sure Olympia')"
   ]
  },
  {
   "cell_type": "code",
   "execution_count": 30,
   "id": "6f454565-3104-47bd-9ee3-c4c26773f724",
   "metadata": {},
   "outputs": [
    {
     "name": "stdout",
     "output_type": "stream",
     "text": [
      "4\n",
      "7\n"
     ]
    },
    {
     "data": {
      "text/plain": [
       "8"
      ]
     },
     "execution_count": 30,
     "metadata": {},
     "output_type": "execute_result"
    }
   ],
   "source": [
    "print(len(df[(df['Secure1']<df['Secure2'])]))\n",
    "print((len(df[(df['Secure1']>df['Secure2'])])))\n",
    "len(df[(df['Secure1']==df['Secure2'])])"
   ]
  },
  {
   "cell_type": "markdown",
   "id": "67c3e402-1a3a-40de-86b3-0ce43cd3829b",
   "metadata": {},
   "source": [
    "Insgesamt leicht sicherer ohne component charts\n",
    "\n",
    "* 8 Personen gleich sicher \n",
    "* 7 Personen sicherer ohne component charts\n",
    "* 4 Personen sicherer mit component charts\n",
    "\n",
    "Kein großer Unterschied für Experten"
   ]
  },
  {
   "cell_type": "code",
   "execution_count": 33,
   "id": "69665b20-a468-4b2b-9396-5fee9e79d84d",
   "metadata": {},
   "outputs": [
    {
     "name": "stdout",
     "output_type": "stream",
     "text": [
      "3.5 Experten Bewertung Marga\n",
      "3.5 Experten Bewertung Olymp\n",
      "3.769230769230769 Non-Experten Bewertung Marga\n",
      "3.3846153846153846 Non-Experten Bewertung Olym\n"
     ]
    }
   ],
   "source": [
    "print(str(df[(df['Expert']==1)].Secure1.mean()) + ' Experten Bewertung Marga')\n",
    "print(str(df[(df['Expert']==1)].Secure2.mean()) + ' Experten Bewertung Olymp')\n",
    "print(str(df[(df['Expert']==0)].Secure1.mean()) + ' Non-Experten Bewertung Marga')\n",
    "print(str(df[(df['Expert']==0)].Secure2.mean()) + ' Non-Experten Bewertung Olym')"
   ]
  },
  {
   "cell_type": "markdown",
   "id": "46e595bf-6b53-4fdd-9532-fa3a69434480",
   "metadata": {},
   "source": [
    "## Grafik "
   ]
  },
  {
   "cell_type": "code",
   "execution_count": 34,
   "id": "b098e383-bde8-4c10-88d5-a78df2402707",
   "metadata": {},
   "outputs": [
    {
     "data": {
      "text/html": [
       "<div>\n",
       "<style scoped>\n",
       "    .dataframe tbody tr th:only-of-type {\n",
       "        vertical-align: middle;\n",
       "    }\n",
       "\n",
       "    .dataframe tbody tr th {\n",
       "        vertical-align: top;\n",
       "    }\n",
       "\n",
       "    .dataframe thead th {\n",
       "        text-align: right;\n",
       "    }\n",
       "</style>\n",
       "<table border=\"1\" class=\"dataframe\">\n",
       "  <thead>\n",
       "    <tr style=\"text-align: right;\">\n",
       "      <th></th>\n",
       "      <th>Ort</th>\n",
       "      <th>1Stern</th>\n",
       "      <th>2Stern</th>\n",
       "      <th>3Stern</th>\n",
       "      <th>4Stern</th>\n",
       "      <th>5Stern</th>\n",
       "      <th>Secure1</th>\n",
       "      <th>Secure2</th>\n",
       "      <th>Secure3</th>\n",
       "      <th>Secure4</th>\n",
       "      <th>Secure5</th>\n",
       "      <th>Unnamed: 11</th>\n",
       "    </tr>\n",
       "  </thead>\n",
       "  <tbody>\n",
       "    <tr>\n",
       "      <th>0</th>\n",
       "      <td>Margareten</td>\n",
       "      <td>0</td>\n",
       "      <td>2</td>\n",
       "      <td>6</td>\n",
       "      <td>11</td>\n",
       "      <td>0</td>\n",
       "      <td>0</td>\n",
       "      <td>1</td>\n",
       "      <td>5</td>\n",
       "      <td>12</td>\n",
       "      <td>1</td>\n",
       "      <td>NaN</td>\n",
       "    </tr>\n",
       "    <tr>\n",
       "      <th>1</th>\n",
       "      <td>Olympia</td>\n",
       "      <td>0</td>\n",
       "      <td>4</td>\n",
       "      <td>6</td>\n",
       "      <td>8</td>\n",
       "      <td>1</td>\n",
       "      <td>0</td>\n",
       "      <td>2</td>\n",
       "      <td>9</td>\n",
       "      <td>6</td>\n",
       "      <td>2</td>\n",
       "      <td>NaN</td>\n",
       "    </tr>\n",
       "  </tbody>\n",
       "</table>\n",
       "</div>"
      ],
      "text/plain": [
       "          Ort  1Stern  2Stern  3Stern  4Stern  5Stern  Secure1  Secure2  \\\n",
       "0  Margareten       0       2       6      11       0        0        1   \n",
       "1     Olympia       0       4       6       8       1        0        2   \n",
       "\n",
       "   Secure3  Secure4  Secure5  Unnamed: 11  \n",
       "0        5       12        1          NaN  \n",
       "1        9        6        2          NaN  "
      ]
     },
     "execution_count": 34,
     "metadata": {},
     "output_type": "execute_result"
    }
   ],
   "source": [
    "df2 = pd.read_csv('Bewertungen_Task3.csv')\n",
    "df2.head()"
   ]
  },
  {
   "cell_type": "code",
   "execution_count": 44,
   "id": "2018cc0a-f85b-451d-97f3-3962485d70c9",
   "metadata": {},
   "outputs": [
    {
     "name": "stderr",
     "output_type": "stream",
     "text": [
      "C:\\Users\\strub\\AppData\\Local\\Temp\\ipykernel_4712\\3912712434.py:40: UserWarning: There are no gridspecs with layoutgrids. Possibly did not call parent GridSpec with the \"figure\" keyword\n",
      "  plt.savefig(\"StudyTask45.pdf\",bbox_inches='tight')\n",
      "C:\\Users\\strub\\AppData\\Local\\Temp\\ipykernel_4712\\3912712434.py:40: UserWarning: There are no gridspecs with layoutgrids. Possibly did not call parent GridSpec with the \"figure\" keyword\n",
      "  plt.savefig(\"StudyTask45.pdf\",bbox_inches='tight')\n",
      "C:\\Users\\strub\\anaconda3\\lib\\site-packages\\IPython\\core\\pylabtools.py:151: UserWarning: There are no gridspecs with layoutgrids. Possibly did not call parent GridSpec with the \"figure\" keyword\n",
      "  fig.canvas.print_figure(bytes_io, **kw)\n"
     ]
    },
    {
     "data": {
      "image/png": "[encoded data removed]",
      "text/plain": [
       "<Figure size 2000x600 with 2 Axes>"
      ]
     },
     "metadata": {},
     "output_type": "display_data"
    }
   ],
   "source": [
    "import matplotlib.pyplot as plt; plt.rcdefaults()\n",
    "import numpy as np\n",
    "import matplotlib.pyplot as plt\n",
    "import matplotlib.pyplot as plt \n",
    "import matplotlib.dates as mdates\n",
    "import matplotlib.pyplot as plt\n",
    "import matplotlib as mpl\n",
    "\n",
    "fig = plt.figure(constrained_layout=True, figsize=(20, 6))\n",
    "spec = mpl.gridspec.GridSpec(ncols=2, nrows=1)\n",
    "spec.update(wspace=0.2, hspace=0.35)\n",
    "plt.rc('ytick', labelsize=22)\n",
    "\n",
    "ax1 = fig.add_subplot(spec[0,0])\n",
    "ax2 = fig.add_subplot(spec[0,1])\n",
    "\n",
    "\n",
    "objects = ('1 Star', '2 Stars', '3 Stars', '4 Stars', '5 Stars')\n",
    "y_pos = np.arange(len(objects))\n",
    "performance1 = [0,2,6,11,0]\n",
    "performance2 = [0,4,6,8,1]\n",
    "\n",
    "ax1.bar(y_pos, performance1, align='center', alpha=1.0, color='royalblue')\n",
    "ax1.set_xticks(y_pos, objects, fontsize=18)\n",
    "ax1.set_ylabel('Number of Participants',labelpad=12, fontsize=20)\n",
    "ax1.set_xlabel('How accurate is the prediction made by thid model?', labelpad=12, fontsize=19)\n",
    "ax1.set_title('Ratings Model 1', fontsize=26)\n",
    "\n",
    "#ax1.yaxis.set_ticks([0,2,4,6,8]) \n",
    "\n",
    "\n",
    "ax2.bar(y_pos, performance2, align='center', alpha=1.0, color='royalblue')\n",
    "ax2.set_xticks(y_pos, objects, fontsize=18)\n",
    "ax2.set_ylabel('Number of Participants',labelpad=12, fontsize=20)\n",
    "ax2.set_xlabel('How accurate is the prediction made by thid model?',labelpad=12, fontsize=19)\n",
    "ax2.set_title('Ratings Model 2', fontsize=26)\n",
    "ax2.yaxis.set_ticks([0,2,4,6,8,10]) \n",
    "ax2.set_ylim(0,11)\n",
    "\n",
    "plt.savefig(\"StudyTask45.pdf\",bbox_inches='tight') \n",
    "\n",
    "plt.show()\n"
   ]
  },
  {
   "cell_type": "code",
   "execution_count": null,
   "id": "7a5edd13-7d94-4e86-bba7-8e03decbb384",
   "metadata": {},
   "outputs": [],
   "source": []
  }
 ],
 "metadata": {
  "kernelspec": {
   "display_name": "Python 3 (ipykernel)",
   "language": "python",
   "name": "python3"
  },
  "language_info": {
   "codemirror_mode": {
    "name": "ipython",
    "version": 3
   },
   "file_extension": ".py",
   "mimetype": "text/x-python",
   "name": "python",
   "nbconvert_exporter": "python",
   "pygments_lexer": "ipython3",
   "version": "3.9.12"
  }
 },
 "nbformat": 4,
 "nbformat_minor": 5
}
