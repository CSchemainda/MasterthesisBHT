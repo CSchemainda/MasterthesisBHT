{
 "cells": [
  {
   "cell_type": "code",
   "execution_count": 2,
   "id": "64a84085-d377-465c-ba6b-18892ba7de7d",
   "metadata": {},
   "outputs": [
    {
     "name": "stderr",
     "output_type": "stream",
     "text": [
      "C:\\Users\\strub\\anaconda3\\envs\\prophet39\\lib\\site-packages\\scipy\\__init__.py:146: UserWarning: A NumPy version >=1.16.5 and <1.23.0 is required for this version of SciPy (detected version 1.23.1\n",
      "  warnings.warn(f\"A NumPy version >={np_minversion} and <{np_maxversion}\"\n"
     ]
    }
   ],
   "source": [
    "import pandas as pd\n",
    "import matplotlib.pyplot as plt\n",
    "import numpy as np\n",
    "from sklearn.metrics import mean_absolute_error\n",
    "from sklearn.metrics import mean_squared_error\n",
    "from sklearn.metrics import mean_absolute_percentage_error\n",
    "import math"
   ]
  },
  {
   "cell_type": "code",
   "execution_count": 33,
   "id": "5b6a9d59-dec3-4552-90e0-5467caf399f8",
   "metadata": {},
   "outputs": [
    {
     "data": {
      "text/html": [
       "<div>\n",
       "<style scoped>\n",
       "    .dataframe tbody tr th:only-of-type {\n",
       "        vertical-align: middle;\n",
       "    }\n",
       "\n",
       "    .dataframe tbody tr th {\n",
       "        vertical-align: top;\n",
       "    }\n",
       "\n",
       "    .dataframe thead th {\n",
       "        text-align: right;\n",
       "    }\n",
       "</style>\n",
       "<table border=\"1\" class=\"dataframe\">\n",
       "  <thead>\n",
       "    <tr style=\"text-align: right;\">\n",
       "      <th></th>\n",
       "      <th>MAE</th>\n",
       "      <th>RMSE</th>\n",
       "      <th>MAPE</th>\n",
       "    </tr>\n",
       "  </thead>\n",
       "  <tbody>\n",
       "    <tr>\n",
       "      <th>Set1</th>\n",
       "      <td>0</td>\n",
       "      <td>NaN</td>\n",
       "      <td>NaN</td>\n",
       "    </tr>\n",
       "    <tr>\n",
       "      <th>Set2</th>\n",
       "      <td>0</td>\n",
       "      <td>NaN</td>\n",
       "      <td>NaN</td>\n",
       "    </tr>\n",
       "    <tr>\n",
       "      <th>Set3</th>\n",
       "      <td>0</td>\n",
       "      <td>NaN</td>\n",
       "      <td>NaN</td>\n",
       "    </tr>\n",
       "    <tr>\n",
       "      <th>Set4</th>\n",
       "      <td>0</td>\n",
       "      <td>NaN</td>\n",
       "      <td>NaN</td>\n",
       "    </tr>\n",
       "    <tr>\n",
       "      <th>Set5</th>\n",
       "      <td>0</td>\n",
       "      <td>NaN</td>\n",
       "      <td>NaN</td>\n",
       "    </tr>\n",
       "  </tbody>\n",
       "</table>\n",
       "</div>"
      ],
      "text/plain": [
       "      MAE RMSE MAPE\n",
       "Set1    0  NaN  NaN\n",
       "Set2    0  NaN  NaN\n",
       "Set3    0  NaN  NaN\n",
       "Set4    0  NaN  NaN\n",
       "Set5    0  NaN  NaN"
      ]
     },
     "execution_count": 33,
     "metadata": {},
     "output_type": "execute_result"
    }
   ],
   "source": [
    "df_results = pd.DataFrame(columns = ['MAE', 'RMSE', 'MAPE'])\n",
    "df_results['MAE'] = [0,0,0,0,0,0,0,0,0,0]\n",
    "df_results.index = ['Set1', 'Set2', 'Set3', 'Set4', 'Set5','Set6', 'Set7', 'Set8', 'Set9', 'Set10']\n",
    "df_results.head()"
   ]
  },
  {
   "cell_type": "code",
   "execution_count": 61,
   "id": "eb1cd008-8600-4209-ab20-0e44704e29e8",
   "metadata": {},
   "outputs": [
    {
     "name": "stdout",
     "output_type": "stream",
     "text": [
      "           ds  values\n",
      "0  2021-05-01     595\n",
      "1  2021-05-02     670\n",
      "2  2021-05-03     993\n",
      "3  2021-05-04    1129\n",
      "4  2021-05-05    1088\n",
      "           ds         yhat\n",
      "0  2021-05-01  -509.958299\n",
      "1  2021-05-02   569.160565\n",
      "2  2021-05-03  1413.063733\n",
      "3  2021-05-04   453.505091\n",
      "4  2021-05-05   -35.829646\n",
      "0\n"
     ]
    },
    {
     "data": {
      "text/plain": [
       "17"
      ]
     },
     "execution_count": 61,
     "metadata": {},
     "output_type": "execute_result"
    }
   ],
   "source": [
    "number=9\n",
    "y_true_data = '../wiki_Test_'+str(number)+'.csv'\n",
    "y_pred_data = 'Wiki_Prophet_Forecast_'+str(number)+'.csv' \n",
    "\n",
    "df_true = pd.read_csv(y_true_data)\n",
    "df_pred = pd.read_csv(y_pred_data)\n",
    "\n",
    "print(df_true.head())\n",
    "print(df_pred.head())\n",
    "\n",
    "print(len(df_true[df_true['values']<0]))\n",
    "len(df_pred[df_pred['yhat']<0])"
   ]
  },
  {
   "cell_type": "code",
   "execution_count": 62,
   "id": "07808726-dde8-4cbf-a0d6-95314a5ed400",
   "metadata": {},
   "outputs": [
    {
     "name": "stdout",
     "output_type": "stream",
     "text": [
      "           ds         yhat\n",
      "0  2021-05-01     0.000000\n",
      "1  2021-05-02   569.160565\n",
      "2  2021-05-03  1413.063733\n",
      "3  2021-05-04   453.505091\n",
      "4  2021-05-05     0.000000\n",
      "0\n"
     ]
    }
   ],
   "source": [
    "df_pred.loc[df_pred.yhat<50,'yhat']= 0 \n",
    "print(df_pred.head())\n",
    "print(len(df_pred[df_pred['yhat']<0]))"
   ]
  },
  {
   "cell_type": "code",
   "execution_count": 63,
   "id": "4414e5d8-94d4-4164-bf20-6584dacb0149",
   "metadata": {},
   "outputs": [
    {
     "name": "stderr",
     "output_type": "stream",
     "text": [
      "C:\\Users\\strub\\AppData\\Local\\Temp\\ipykernel_6400\\2421352208.py:10: SettingWithCopyWarning: \n",
      "A value is trying to be set on a copy of a slice from a DataFrame\n",
      "\n",
      "See the caveats in the documentation: https://pandas.pydata.org/pandas-docs/stable/user_guide/indexing.html#returning-a-view-versus-a-copy\n",
      "  df_results['MAE'][set] = round(mean_absolute_error(y_true, y_pred),0)\n",
      "C:\\Users\\strub\\AppData\\Local\\Temp\\ipykernel_6400\\2421352208.py:15: SettingWithCopyWarning: \n",
      "A value is trying to be set on a copy of a slice from a DataFrame\n",
      "\n",
      "See the caveats in the documentation: https://pandas.pydata.org/pandas-docs/stable/user_guide/indexing.html#returning-a-view-versus-a-copy\n",
      "  df_results['RMSE'][set] = round(rmse)\n",
      "C:\\Users\\strub\\AppData\\Local\\Temp\\ipykernel_6400\\2421352208.py:18: SettingWithCopyWarning: \n",
      "A value is trying to be set on a copy of a slice from a DataFrame\n",
      "\n",
      "See the caveats in the documentation: https://pandas.pydata.org/pandas-docs/stable/user_guide/indexing.html#returning-a-view-versus-a-copy\n",
      "  df_results['MAPE'][set]=round(mean_absolute_percentage_error(y_true, y_pred),4)\n"
     ]
    },
    {
     "data": {
      "text/html": [
       "<div>\n",
       "<style scoped>\n",
       "    .dataframe tbody tr th:only-of-type {\n",
       "        vertical-align: middle;\n",
       "    }\n",
       "\n",
       "    .dataframe tbody tr th {\n",
       "        vertical-align: top;\n",
       "    }\n",
       "\n",
       "    .dataframe thead th {\n",
       "        text-align: right;\n",
       "    }\n",
       "</style>\n",
       "<table border=\"1\" class=\"dataframe\">\n",
       "  <thead>\n",
       "    <tr style=\"text-align: right;\">\n",
       "      <th></th>\n",
       "      <th>MAE</th>\n",
       "      <th>RMSE</th>\n",
       "      <th>MAPE</th>\n",
       "    </tr>\n",
       "  </thead>\n",
       "  <tbody>\n",
       "    <tr>\n",
       "      <th>Set1</th>\n",
       "      <td>757</td>\n",
       "      <td>857</td>\n",
       "      <td>0.701</td>\n",
       "    </tr>\n",
       "    <tr>\n",
       "      <th>Set2</th>\n",
       "      <td>787</td>\n",
       "      <td>935</td>\n",
       "      <td>0.6976</td>\n",
       "    </tr>\n",
       "    <tr>\n",
       "      <th>Set3</th>\n",
       "      <td>1663</td>\n",
       "      <td>2234</td>\n",
       "      <td>1.067</td>\n",
       "    </tr>\n",
       "    <tr>\n",
       "      <th>Set4</th>\n",
       "      <td>4502</td>\n",
       "      <td>6263</td>\n",
       "      <td>1.2775</td>\n",
       "    </tr>\n",
       "    <tr>\n",
       "      <th>Set5</th>\n",
       "      <td>4588</td>\n",
       "      <td>6216</td>\n",
       "      <td>0.905</td>\n",
       "    </tr>\n",
       "    <tr>\n",
       "      <th>Set6</th>\n",
       "      <td>1708</td>\n",
       "      <td>2245</td>\n",
       "      <td>0.5157</td>\n",
       "    </tr>\n",
       "    <tr>\n",
       "      <th>Set7</th>\n",
       "      <td>689</td>\n",
       "      <td>809</td>\n",
       "      <td>0.4961</td>\n",
       "    </tr>\n",
       "    <tr>\n",
       "      <th>Set8</th>\n",
       "      <td>633</td>\n",
       "      <td>708</td>\n",
       "      <td>0.6804</td>\n",
       "    </tr>\n",
       "    <tr>\n",
       "      <th>Set9</th>\n",
       "      <td>676</td>\n",
       "      <td>755</td>\n",
       "      <td>0.759</td>\n",
       "    </tr>\n",
       "    <tr>\n",
       "      <th>Set10</th>\n",
       "      <td>619</td>\n",
       "      <td>704</td>\n",
       "      <td>0.6799</td>\n",
       "    </tr>\n",
       "  </tbody>\n",
       "</table>\n",
       "</div>"
      ],
      "text/plain": [
       "        MAE  RMSE    MAPE\n",
       "Set1    757   857   0.701\n",
       "Set2    787   935  0.6976\n",
       "Set3   1663  2234   1.067\n",
       "Set4   4502  6263  1.2775\n",
       "Set5   4588  6216   0.905\n",
       "Set6   1708  2245  0.5157\n",
       "Set7    689   809  0.4961\n",
       "Set8    633   708  0.6804\n",
       "Set9    676   755   0.759\n",
       "Set10   619   704  0.6799"
      ]
     },
     "execution_count": 63,
     "metadata": {},
     "output_type": "execute_result"
    }
   ],
   "source": [
    "# An welcher Stelle einfügen\n",
    "\n",
    "set = 'Set'+str(number)\n",
    "\n",
    "y_true = df_true['values']\n",
    "y_pred = df_pred['yhat']\n",
    "\n",
    "# MAE setzen \n",
    "\n",
    "df_results['MAE'][set] = round(mean_absolute_error(y_true, y_pred),0)\n",
    "\n",
    "#RMSE setzen\n",
    "mse=mean_squared_error(y_true, y_pred)\n",
    "rmse = math.sqrt(mse)\n",
    "df_results['RMSE'][set] = round(rmse)\n",
    "\n",
    "#MAPE setzen\n",
    "df_results['MAPE'][set]=round(mean_absolute_percentage_error(y_true, y_pred),4)\n",
    "\n",
    "df_results.head(10)"
   ]
  },
  {
   "cell_type": "code",
   "execution_count": 64,
   "id": "e07cb7a6-eada-4823-9e6a-0deccbf7bce1",
   "metadata": {},
   "outputs": [],
   "source": [
    "df_results.to_csv('Errors_Prophet_Wiki.csv',index=False)"
   ]
  },
  {
   "cell_type": "code",
   "execution_count": null,
   "id": "793c70c7-39a7-4833-a6ce-2ca36eca889a",
   "metadata": {},
   "outputs": [],
   "source": []
  }
 ],
 "metadata": {
  "kernelspec": {
   "display_name": "Python 3 (ipykernel)",
   "language": "python",
   "name": "python3"
  },
  "language_info": {
   "codemirror_mode": {
    "name": "ipython",
    "version": 3
   },
   "file_extension": ".py",
   "mimetype": "text/x-python",
   "name": "python",
   "nbconvert_exporter": "python",
   "pygments_lexer": "ipython3",
   "version": "3.9.7"
  }
 },
 "nbformat": 4,
 "nbformat_minor": 5
}
