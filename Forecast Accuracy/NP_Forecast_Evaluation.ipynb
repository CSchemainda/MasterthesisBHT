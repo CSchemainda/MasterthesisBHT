{
 "cells": [
  {
   "cell_type": "code",
   "execution_count": 2,
   "id": "cdfae1b7-885a-4435-b8b3-a7a6cf4658f8",
   "metadata": {},
   "outputs": [],
   "source": [
    "import pandas as pd\n",
    "import matplotlib.pyplot as plt\n",
    "import numpy as np\n",
    "from sklearn.metrics import mean_absolute_error\n",
    "from sklearn.metrics import mean_squared_error\n",
    "from sklearn.metrics import mean_absolute_percentage_error\n",
    "import math"
   ]
  },
  {
   "cell_type": "code",
   "execution_count": 3,
   "id": "7860783b-ad45-452e-a2cc-6181e63b28be",
   "metadata": {},
   "outputs": [
    {
     "data": {
      "text/html": [
       "<div>\n",
       "<style scoped>\n",
       "    .dataframe tbody tr th:only-of-type {\n",
       "        vertical-align: middle;\n",
       "    }\n",
       "\n",
       "    .dataframe tbody tr th {\n",
       "        vertical-align: top;\n",
       "    }\n",
       "\n",
       "    .dataframe thead th {\n",
       "        text-align: right;\n",
       "    }\n",
       "</style>\n",
       "<table border=\"1\" class=\"dataframe\">\n",
       "  <thead>\n",
       "    <tr style=\"text-align: right;\">\n",
       "      <th></th>\n",
       "      <th>MAE</th>\n",
       "      <th>RMSE</th>\n",
       "      <th>MAPE</th>\n",
       "    </tr>\n",
       "  </thead>\n",
       "  <tbody>\n",
       "    <tr>\n",
       "      <th>Set1</th>\n",
       "      <td>0</td>\n",
       "      <td>NaN</td>\n",
       "      <td>NaN</td>\n",
       "    </tr>\n",
       "    <tr>\n",
       "      <th>Set2</th>\n",
       "      <td>0</td>\n",
       "      <td>NaN</td>\n",
       "      <td>NaN</td>\n",
       "    </tr>\n",
       "    <tr>\n",
       "      <th>Set3</th>\n",
       "      <td>0</td>\n",
       "      <td>NaN</td>\n",
       "      <td>NaN</td>\n",
       "    </tr>\n",
       "    <tr>\n",
       "      <th>Set4</th>\n",
       "      <td>0</td>\n",
       "      <td>NaN</td>\n",
       "      <td>NaN</td>\n",
       "    </tr>\n",
       "    <tr>\n",
       "      <th>Set5</th>\n",
       "      <td>0</td>\n",
       "      <td>NaN</td>\n",
       "      <td>NaN</td>\n",
       "    </tr>\n",
       "  </tbody>\n",
       "</table>\n",
       "</div>"
      ],
      "text/plain": [
       "      MAE RMSE MAPE\n",
       "Set1    0  NaN  NaN\n",
       "Set2    0  NaN  NaN\n",
       "Set3    0  NaN  NaN\n",
       "Set4    0  NaN  NaN\n",
       "Set5    0  NaN  NaN"
      ]
     },
     "execution_count": 3,
     "metadata": {},
     "output_type": "execute_result"
    }
   ],
   "source": [
    "df_results = pd.DataFrame(columns = ['MAE', 'RMSE', 'MAPE'])\n",
    "df_results['MAE'] = [0,0,0,0,0,0,0,0,0,0]\n",
    "df_results.index = ['Set1', 'Set2', 'Set3', 'Set4', 'Set5','Set6', 'Set7', 'Set8', 'Set9', 'Set10']\n",
    "df_results.head()"
   ]
  },
  {
   "cell_type": "code",
   "execution_count": 31,
   "id": "276f8181-b3dc-48b5-b4e2-8846a0abdf41",
   "metadata": {},
   "outputs": [
    {
     "name": "stdout",
     "output_type": "stream",
     "text": [
      "           ds  values\n",
      "0  2021-05-16     562\n",
      "1  2021-05-17     911\n",
      "2  2021-05-18    1129\n",
      "3  2021-05-19    1189\n",
      "4  2021-05-20    1052\n",
      "           ds        yhat1\n",
      "0  2021-05-16   586.319702\n",
      "1  2021-05-17  1424.216187\n",
      "2  2021-05-18  1287.948242\n",
      "3  2021-05-19  1029.656006\n",
      "4  2021-05-20   878.079041\n",
      "0\n"
     ]
    },
    {
     "data": {
      "text/plain": [
       "3"
      ]
     },
     "execution_count": 31,
     "metadata": {},
     "output_type": "execute_result"
    }
   ],
   "source": [
    "number=10\n",
    "y_true_data = '../wiki_Test_'+str(number)+'.csv'\n",
    "y_pred_data = 'Wiki_NP_Forecast_'+str(number)+'.csv' \n",
    "\n",
    "df_true = pd.read_csv(y_true_data)\n",
    "df_pred = pd.read_csv(y_pred_data)\n",
    "\n",
    "print(df_true.head())\n",
    "print(df_pred.head())\n",
    "\n",
    "print(len(df_true[df_true['values']<0]))\n",
    "len(df_pred[df_pred['yhat1']<0])"
   ]
  },
  {
   "cell_type": "code",
   "execution_count": 32,
   "id": "4f38ace9-63d2-4ab1-835d-0b4f17efc33f",
   "metadata": {},
   "outputs": [
    {
     "name": "stdout",
     "output_type": "stream",
     "text": [
      "           ds        yhat1\n",
      "0  2021-05-16   586.319702\n",
      "1  2021-05-17  1424.216187\n",
      "2  2021-05-18  1287.948242\n",
      "3  2021-05-19  1029.656006\n",
      "4  2021-05-20   878.079041\n",
      "0\n"
     ]
    }
   ],
   "source": [
    "df_pred.loc[df_pred.yhat1<50,'yhat1']= 0 \n",
    "print(df_pred.head())\n",
    "print(len(df_pred[df_pred['yhat1']<0]))"
   ]
  },
  {
   "cell_type": "code",
   "execution_count": 33,
   "id": "c75fcb96-9109-4edd-ab54-483b2eaebc19",
   "metadata": {},
   "outputs": [
    {
     "name": "stderr",
     "output_type": "stream",
     "text": [
      "C:\\Users\\strub\\AppData\\Local\\Temp\\ipykernel_29136\\2923432767.py:8: SettingWithCopyWarning: \n",
      "A value is trying to be set on a copy of a slice from a DataFrame\n",
      "\n",
      "See the caveats in the documentation: https://pandas.pydata.org/pandas-docs/stable/user_guide/indexing.html#returning-a-view-versus-a-copy\n",
      "  df_results['MAE'][set] = round(mean_absolute_error(y_true, y_pred),0)\n",
      "C:\\Users\\strub\\AppData\\Local\\Temp\\ipykernel_29136\\2923432767.py:13: SettingWithCopyWarning: \n",
      "A value is trying to be set on a copy of a slice from a DataFrame\n",
      "\n",
      "See the caveats in the documentation: https://pandas.pydata.org/pandas-docs/stable/user_guide/indexing.html#returning-a-view-versus-a-copy\n",
      "  df_results['RMSE'][set] = round(rmse)\n",
      "C:\\Users\\strub\\AppData\\Local\\Temp\\ipykernel_29136\\2923432767.py:16: SettingWithCopyWarning: \n",
      "A value is trying to be set on a copy of a slice from a DataFrame\n",
      "\n",
      "See the caveats in the documentation: https://pandas.pydata.org/pandas-docs/stable/user_guide/indexing.html#returning-a-view-versus-a-copy\n",
      "  df_results['MAPE'][set]=round(mean_absolute_percentage_error(y_true, y_pred),4)\n"
     ]
    },
    {
     "data": {
      "text/html": [
       "<div>\n",
       "<style scoped>\n",
       "    .dataframe tbody tr th:only-of-type {\n",
       "        vertical-align: middle;\n",
       "    }\n",
       "\n",
       "    .dataframe tbody tr th {\n",
       "        vertical-align: top;\n",
       "    }\n",
       "\n",
       "    .dataframe thead th {\n",
       "        text-align: right;\n",
       "    }\n",
       "</style>\n",
       "<table border=\"1\" class=\"dataframe\">\n",
       "  <thead>\n",
       "    <tr style=\"text-align: right;\">\n",
       "      <th></th>\n",
       "      <th>MAE</th>\n",
       "      <th>RMSE</th>\n",
       "      <th>MAPE</th>\n",
       "    </tr>\n",
       "  </thead>\n",
       "  <tbody>\n",
       "    <tr>\n",
       "      <th>Set1</th>\n",
       "      <td>500</td>\n",
       "      <td>609</td>\n",
       "      <td>0.4673</td>\n",
       "    </tr>\n",
       "    <tr>\n",
       "      <th>Set2</th>\n",
       "      <td>716</td>\n",
       "      <td>806</td>\n",
       "      <td>0.6421</td>\n",
       "    </tr>\n",
       "    <tr>\n",
       "      <th>Set3</th>\n",
       "      <td>1345</td>\n",
       "      <td>1624</td>\n",
       "      <td>0.9039</td>\n",
       "    </tr>\n",
       "    <tr>\n",
       "      <th>Set4</th>\n",
       "      <td>3838</td>\n",
       "      <td>6393</td>\n",
       "      <td>1.0126</td>\n",
       "    </tr>\n",
       "    <tr>\n",
       "      <th>Set5</th>\n",
       "      <td>3512</td>\n",
       "      <td>6392</td>\n",
       "      <td>0.4926</td>\n",
       "    </tr>\n",
       "    <tr>\n",
       "      <th>Set6</th>\n",
       "      <td>1314</td>\n",
       "      <td>1602</td>\n",
       "      <td>0.4476</td>\n",
       "    </tr>\n",
       "    <tr>\n",
       "      <th>Set7</th>\n",
       "      <td>574</td>\n",
       "      <td>730</td>\n",
       "      <td>0.4033</td>\n",
       "    </tr>\n",
       "    <tr>\n",
       "      <th>Set8</th>\n",
       "      <td>379</td>\n",
       "      <td>429</td>\n",
       "      <td>0.427</td>\n",
       "    </tr>\n",
       "    <tr>\n",
       "      <th>Set9</th>\n",
       "      <td>309</td>\n",
       "      <td>369</td>\n",
       "      <td>0.3838</td>\n",
       "    </tr>\n",
       "    <tr>\n",
       "      <th>Set10</th>\n",
       "      <td>341</td>\n",
       "      <td>411</td>\n",
       "      <td>0.407</td>\n",
       "    </tr>\n",
       "  </tbody>\n",
       "</table>\n",
       "</div>"
      ],
      "text/plain": [
       "        MAE  RMSE    MAPE\n",
       "Set1    500   609  0.4673\n",
       "Set2    716   806  0.6421\n",
       "Set3   1345  1624  0.9039\n",
       "Set4   3838  6393  1.0126\n",
       "Set5   3512  6392  0.4926\n",
       "Set6   1314  1602  0.4476\n",
       "Set7    574   730  0.4033\n",
       "Set8    379   429   0.427\n",
       "Set9    309   369  0.3838\n",
       "Set10   341   411   0.407"
      ]
     },
     "execution_count": 33,
     "metadata": {},
     "output_type": "execute_result"
    }
   ],
   "source": [
    "set = 'Set'+str(number)\n",
    "\n",
    "y_true = df_true['values']\n",
    "y_pred = df_pred['yhat1']\n",
    "\n",
    "# MAE setzen \n",
    "\n",
    "df_results['MAE'][set] = round(mean_absolute_error(y_true, y_pred),0)\n",
    "\n",
    "#RMSE setzen\n",
    "mse=mean_squared_error(y_true, y_pred)\n",
    "rmse = math.sqrt(mse)\n",
    "df_results['RMSE'][set] = round(rmse)\n",
    "\n",
    "#MAPE setzen\n",
    "df_results['MAPE'][set]=round(mean_absolute_percentage_error(y_true, y_pred),4)\n",
    "\n",
    "df_results.head(10)"
   ]
  },
  {
   "cell_type": "code",
   "execution_count": 35,
   "id": "1d61ea31-fe0b-4b0a-99bf-7ab279ef7e10",
   "metadata": {},
   "outputs": [],
   "source": [
    "df_results.to_csv('Errors_NP_Wiki.csv',index=False)"
   ]
  },
  {
   "cell_type": "code",
   "execution_count": null,
   "id": "35e24c6e-f03a-4532-87ba-7c31379761fd",
   "metadata": {},
   "outputs": [],
   "source": []
  }
 ],
 "metadata": {
  "kernelspec": {
   "display_name": "Python 3 (ipykernel)",
   "language": "python",
   "name": "python3"
  },
  "language_info": {
   "codemirror_mode": {
    "name": "ipython",
    "version": 3
   },
   "file_extension": ".py",
   "mimetype": "text/x-python",
   "name": "python",
   "nbconvert_exporter": "python",
   "pygments_lexer": "ipython3",
   "version": "3.9.7"
  }
 },
 "nbformat": 4,
 "nbformat_minor": 5
}
