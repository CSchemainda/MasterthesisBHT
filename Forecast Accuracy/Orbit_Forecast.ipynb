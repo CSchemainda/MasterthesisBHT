{
 "cells": [
  {
   "cell_type": "code",
   "execution_count": 1,
   "id": "271076cd-f387-4ffe-aa59-48c30cd53f0d",
   "metadata": {},
   "outputs": [
    {
     "ename": "ModuleNotFoundError",
     "evalue": "No module named 'orbit'",
     "output_type": "error",
     "traceback": [
      "\u001b[1;31m---------------------------------------------------------------------------\u001b[0m",
      "\u001b[1;31mModuleNotFoundError\u001b[0m                       Traceback (most recent call last)",
      "\u001b[1;32m~\\AppData\\Local\\Temp\\ipykernel_22416\\3262177210.py\u001b[0m in \u001b[0;36m<module>\u001b[1;34m\u001b[0m\n\u001b[0;32m      3\u001b[0m \u001b[1;32mimport\u001b[0m \u001b[0mmatplotlib\u001b[0m\u001b[1;33m.\u001b[0m\u001b[0mpyplot\u001b[0m \u001b[1;32mas\u001b[0m \u001b[0mplt\u001b[0m\u001b[1;33m\u001b[0m\u001b[1;33m\u001b[0m\u001b[0m\n\u001b[0;32m      4\u001b[0m \u001b[1;33m\u001b[0m\u001b[0m\n\u001b[1;32m----> 5\u001b[1;33m \u001b[1;32mimport\u001b[0m \u001b[0morbit\u001b[0m\u001b[1;33m\u001b[0m\u001b[1;33m\u001b[0m\u001b[0m\n\u001b[0m\u001b[0;32m      6\u001b[0m \u001b[1;32mfrom\u001b[0m \u001b[0morbit\u001b[0m\u001b[1;33m.\u001b[0m\u001b[0mmodels\u001b[0m \u001b[1;32mimport\u001b[0m \u001b[0mDLT\u001b[0m\u001b[1;33m\u001b[0m\u001b[1;33m\u001b[0m\u001b[0m\n\u001b[0;32m      7\u001b[0m \u001b[1;32mfrom\u001b[0m \u001b[0morbit\u001b[0m\u001b[1;33m.\u001b[0m\u001b[0mmodels\u001b[0m \u001b[1;32mimport\u001b[0m \u001b[0mETS\u001b[0m\u001b[1;33m\u001b[0m\u001b[1;33m\u001b[0m\u001b[0m\n",
      "\u001b[1;31mModuleNotFoundError\u001b[0m: No module named 'orbit'"
     ]
    }
   ],
   "source": [
    "import pandas as pd\n",
    "import numpy as np\n",
    "import matplotlib.pyplot as plt\n",
    "\n",
    "import orbit\n",
    "from orbit.models import DLT\n",
    "from orbit.models import ETS\n",
    "from orbit.models import KTR\n",
    "from orbit.diagnostics.plot import plot_predicted_data,plot_predicted_components\n",
    "from orbit.utils.dataset import load_iclaims\n",
    "\n",
    "import warnings\n",
    "warnings.filterwarnings('ignore')"
   ]
  },
  {
   "cell_type": "code",
   "execution_count": null,
   "id": "a0dcc6ab-776c-4b26-94bb-9370c6772d8f",
   "metadata": {},
   "outputs": [],
   "source": [
    "number=5\n",
    "file0 = '../olymp_Train_'+str(number)+'.csv'\n",
    "file1 = '../olymp_Test_'+str(number)+'.csv'\n",
    "output = 'Olymp_Orbit_Forecast_'+str(number)+'.csv'\n",
    "\n",
    "train_df = pd.read_csv(file0)\n",
    "test_df = pd.read_csv(file1)\n",
    "\n",
    "train_df['ds'] = pd.to_datetime(train_df['ds'])\n",
    "test_df['ds'] = pd.to_datetime(test_df['ds'])\n",
    "\n",
    "date_col = 'ds'\n",
    "response_col = 'y'"
   ]
  },
  {
   "cell_type": "code",
   "execution_count": null,
   "id": "243e7ed9-2e34-4698-b8f6-71e03a28d502",
   "metadata": {},
   "outputs": [],
   "source": [
    "ktr_with_seas = KTR(\n",
    "    response_col=response_col,\n",
    "    date_col=date_col,\n",
    "    seed=2021,\n",
    "    seasonality=[365.25],\n",
    "    estimator='pyro-svi',\n",
    "    n_bootstrap_draws=1e4,\n",
    "    # pyro training config\n",
    "    num_steps=301,\n",
    "    message=100,\n",
    ")"
   ]
  },
  {
   "cell_type": "code",
   "execution_count": null,
   "id": "b4ae99f3-034d-4882-8198-04486c24784a",
   "metadata": {},
   "outputs": [],
   "source": [
    "%%time\n",
    "ktr_with_seas.fit(df=train_df)"
   ]
  },
  {
   "cell_type": "code",
   "execution_count": null,
   "id": "7d910027-f6f9-486b-af8a-a642024aea9a",
   "metadata": {},
   "outputs": [],
   "source": [
    "predicted_df = ktr_with_seas.predict(df=test_df, decompose=True)\n",
    "print(len(predicted_df))\n",
    "predicted_df.head()"
   ]
  },
  {
   "cell_type": "code",
   "execution_count": null,
   "id": "3c5d042c-e477-4ef2-8ab8-4b2712d32231",
   "metadata": {},
   "outputs": [],
   "source": [
    "predicted_df.to_csv(output,index=False)"
   ]
  }
 ],
 "metadata": {
  "kernelspec": {
   "display_name": "Python 3 (ipykernel)",
   "language": "python",
   "name": "python3"
  },
  "language_info": {
   "codemirror_mode": {
    "name": "ipython",
    "version": 3
   },
   "file_extension": ".py",
   "mimetype": "text/x-python",
   "name": "python",
   "nbconvert_exporter": "python",
   "pygments_lexer": "ipython3",
   "version": "3.9.12"
  }
 },
 "nbformat": 4,
 "nbformat_minor": 5
}
