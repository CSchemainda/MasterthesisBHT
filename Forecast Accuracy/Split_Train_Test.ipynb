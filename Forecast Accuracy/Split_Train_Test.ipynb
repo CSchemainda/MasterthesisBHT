{
 "cells": [
  {
   "cell_type": "code",
   "execution_count": 1,
   "id": "e9a60621-2d46-4da8-ac3c-c78617818eb5",
   "metadata": {},
   "outputs": [],
   "source": [
    "import pandas as pd\n",
    "import numpy as np\n",
    "import matplotlib.pyplot as plt\n",
    "from datetime import datetime, date, timedelta"
   ]
  },
  {
   "cell_type": "code",
   "execution_count": 2,
   "id": "966e99bd-e513-47f7-91ac-51234111c278",
   "metadata": {},
   "outputs": [
    {
     "data": {
      "text/html": [
       "<div>\n",
       "<style scoped>\n",
       "    .dataframe tbody tr th:only-of-type {\n",
       "        vertical-align: middle;\n",
       "    }\n",
       "\n",
       "    .dataframe tbody tr th {\n",
       "        vertical-align: top;\n",
       "    }\n",
       "\n",
       "    .dataframe thead th {\n",
       "        text-align: right;\n",
       "    }\n",
       "</style>\n",
       "<table border=\"1\" class=\"dataframe\">\n",
       "  <thead>\n",
       "    <tr style=\"text-align: right;\">\n",
       "      <th></th>\n",
       "      <th>ds</th>\n",
       "      <th>y</th>\n",
       "    </tr>\n",
       "  </thead>\n",
       "  <tbody>\n",
       "    <tr>\n",
       "      <th>0</th>\n",
       "      <td>2017-01-01</td>\n",
       "      <td>9222</td>\n",
       "    </tr>\n",
       "    <tr>\n",
       "      <th>1</th>\n",
       "      <td>2017-02-01</td>\n",
       "      <td>45132</td>\n",
       "    </tr>\n",
       "    <tr>\n",
       "      <th>2</th>\n",
       "      <td>2017-03-01</td>\n",
       "      <td>76054</td>\n",
       "    </tr>\n",
       "    <tr>\n",
       "      <th>3</th>\n",
       "      <td>2017-04-01</td>\n",
       "      <td>65044</td>\n",
       "    </tr>\n",
       "    <tr>\n",
       "      <th>4</th>\n",
       "      <td>2017-05-01</td>\n",
       "      <td>103622</td>\n",
       "    </tr>\n",
       "  </tbody>\n",
       "</table>\n",
       "</div>"
      ],
      "text/plain": [
       "          ds       y\n",
       "0 2017-01-01    9222\n",
       "1 2017-02-01   45132\n",
       "2 2017-03-01   76054\n",
       "3 2017-04-01   65044\n",
       "4 2017-05-01  103622"
      ]
     },
     "execution_count": 2,
     "metadata": {},
     "output_type": "execute_result"
    }
   ],
   "source": [
    "df = pd.read_csv('margareten_monthly.csv')\n",
    "df['ds'] = pd.to_datetime(df['ds'],format='%Y.%m.%d')\n",
    "df.head()"
   ]
  },
  {
   "cell_type": "code",
   "execution_count": 3,
   "id": "3bf02786-2e34-4f86-a722-1e0ca926fb2a",
   "metadata": {},
   "outputs": [],
   "source": [
    "marga_Train_1 = df[df['ds'] < '2020-01-01']\n",
    "marga_Test_1 = df[(df['ds'] >= '2020-01-01') & (df['ds'] <'2020-05-01') ]\n",
    "\n",
    "marga_Train_2 = df[df['ds'] < '2020-03-01']\n",
    "marga_Test_2 = df[(df['ds'] >= '2020-03-01') & (df['ds'] <'2020-07-01') ]\n",
    "\n",
    "marga_Train_3 = df[df['ds'] < '2020-05-01']\n",
    "marga_Test_3 = df[(df['ds'] >= '2020-05-01') & (df['ds'] <'2020-09-01') ]\n",
    "\n",
    "marga_Train_4 = df[df['ds'] < '2020-07-01']\n",
    "marga_Test_4 = df[(df['ds'] >= '2020-07-01') & (df['ds'] <'2020-11-01') ]\n",
    "\n",
    "marga_Train_5 = df[df['ds'] < '2020-09-01']\n",
    "marga_Test_5 = df[(df['ds'] >= '2020-09-01') & (df['ds'] <'2021-01-01') ]\n"
   ]
  },
  {
   "cell_type": "code",
   "execution_count": 4,
   "id": "80d2a8ff-3865-4c83-8e1e-ec30d534e858",
   "metadata": {},
   "outputs": [
    {
     "data": {
      "text/html": [
       "<div>\n",
       "<style scoped>\n",
       "    .dataframe tbody tr th:only-of-type {\n",
       "        vertical-align: middle;\n",
       "    }\n",
       "\n",
       "    .dataframe tbody tr th {\n",
       "        vertical-align: top;\n",
       "    }\n",
       "\n",
       "    .dataframe thead th {\n",
       "        text-align: right;\n",
       "    }\n",
       "</style>\n",
       "<table border=\"1\" class=\"dataframe\">\n",
       "  <thead>\n",
       "    <tr style=\"text-align: right;\">\n",
       "      <th></th>\n",
       "      <th>ds</th>\n",
       "      <th>y</th>\n",
       "    </tr>\n",
       "  </thead>\n",
       "  <tbody>\n",
       "    <tr>\n",
       "      <th>44</th>\n",
       "      <td>2020-09-01</td>\n",
       "      <td>130725</td>\n",
       "    </tr>\n",
       "    <tr>\n",
       "      <th>45</th>\n",
       "      <td>2020-10-01</td>\n",
       "      <td>104884</td>\n",
       "    </tr>\n",
       "    <tr>\n",
       "      <th>46</th>\n",
       "      <td>2020-11-01</td>\n",
       "      <td>88694</td>\n",
       "    </tr>\n",
       "    <tr>\n",
       "      <th>47</th>\n",
       "      <td>2020-12-01</td>\n",
       "      <td>57081</td>\n",
       "    </tr>\n",
       "  </tbody>\n",
       "</table>\n",
       "</div>"
      ],
      "text/plain": [
       "           ds       y\n",
       "44 2020-09-01  130725\n",
       "45 2020-10-01  104884\n",
       "46 2020-11-01   88694\n",
       "47 2020-12-01   57081"
      ]
     },
     "execution_count": 4,
     "metadata": {},
     "output_type": "execute_result"
    }
   ],
   "source": [
    "marga_Test_5.head(7)"
   ]
  },
  {
   "cell_type": "code",
   "execution_count": 5,
   "id": "10ea74d2-8e1d-4c47-a397-9073a3156ef0",
   "metadata": {},
   "outputs": [
    {
     "data": {
      "text/html": [
       "<div>\n",
       "<style scoped>\n",
       "    .dataframe tbody tr th:only-of-type {\n",
       "        vertical-align: middle;\n",
       "    }\n",
       "\n",
       "    .dataframe tbody tr th {\n",
       "        vertical-align: top;\n",
       "    }\n",
       "\n",
       "    .dataframe thead th {\n",
       "        text-align: right;\n",
       "    }\n",
       "</style>\n",
       "<table border=\"1\" class=\"dataframe\">\n",
       "  <thead>\n",
       "    <tr style=\"text-align: right;\">\n",
       "      <th></th>\n",
       "      <th>ds</th>\n",
       "      <th>y</th>\n",
       "    </tr>\n",
       "  </thead>\n",
       "  <tbody>\n",
       "    <tr>\n",
       "      <th>37</th>\n",
       "      <td>2020-02-01</td>\n",
       "      <td>50745</td>\n",
       "    </tr>\n",
       "    <tr>\n",
       "      <th>38</th>\n",
       "      <td>2020-03-01</td>\n",
       "      <td>65891</td>\n",
       "    </tr>\n",
       "    <tr>\n",
       "      <th>39</th>\n",
       "      <td>2020-04-01</td>\n",
       "      <td>100354</td>\n",
       "    </tr>\n",
       "    <tr>\n",
       "      <th>40</th>\n",
       "      <td>2020-05-01</td>\n",
       "      <td>114674</td>\n",
       "    </tr>\n",
       "    <tr>\n",
       "      <th>41</th>\n",
       "      <td>2020-06-01</td>\n",
       "      <td>112533</td>\n",
       "    </tr>\n",
       "    <tr>\n",
       "      <th>42</th>\n",
       "      <td>2020-07-01</td>\n",
       "      <td>155014</td>\n",
       "    </tr>\n",
       "    <tr>\n",
       "      <th>43</th>\n",
       "      <td>2020-08-01</td>\n",
       "      <td>113814</td>\n",
       "    </tr>\n",
       "  </tbody>\n",
       "</table>\n",
       "</div>"
      ],
      "text/plain": [
       "           ds       y\n",
       "37 2020-02-01   50745\n",
       "38 2020-03-01   65891\n",
       "39 2020-04-01  100354\n",
       "40 2020-05-01  114674\n",
       "41 2020-06-01  112533\n",
       "42 2020-07-01  155014\n",
       "43 2020-08-01  113814"
      ]
     },
     "execution_count": 5,
     "metadata": {},
     "output_type": "execute_result"
    }
   ],
   "source": [
    "marga_Train_5.tail(7)"
   ]
  },
  {
   "cell_type": "code",
   "execution_count": 6,
   "id": "84677620-96c2-4ebc-956a-651dbec80a82",
   "metadata": {},
   "outputs": [],
   "source": [
    "marga_Train_1.to_csv('marga_Train_1.csv',index=False)\n",
    "marga_Train_2.to_csv('marga_Train_2.csv',index=False)\n",
    "marga_Train_3.to_csv('marga_Train_3.csv',index=False)\n",
    "marga_Train_4.to_csv('marga_Train_4.csv',index=False)\n",
    "marga_Train_5.to_csv('marga_Train_5.csv',index=False)"
   ]
  },
  {
   "cell_type": "code",
   "execution_count": 7,
   "id": "f8b13079-1fbc-4216-b994-b272b5b5f830",
   "metadata": {},
   "outputs": [],
   "source": [
    "marga_Test_1.to_csv('marga_Test_1.csv',index=False)\n",
    "marga_Test_2.to_csv('marga_Test_2.csv',index=False)\n",
    "marga_Test_3.to_csv('marga_Test_3.csv',index=False)\n",
    "marga_Test_4.to_csv('marga_Test_4.csv',index=False)\n",
    "marga_Test_5.to_csv('marga_Test_5.csv',index=False)"
   ]
  },
  {
   "cell_type": "markdown",
   "id": "692222a3-51be-426e-8ea5-c7a8596743e6",
   "metadata": {},
   "source": [
    "## Airline Passengers"
   ]
  },
  {
   "cell_type": "code",
   "execution_count": 16,
   "id": "a7151096-2247-4a57-9ac7-9d6a56d23ad8",
   "metadata": {},
   "outputs": [
    {
     "data": {
      "text/html": [
       "<div>\n",
       "<style scoped>\n",
       "    .dataframe tbody tr th:only-of-type {\n",
       "        vertical-align: middle;\n",
       "    }\n",
       "\n",
       "    .dataframe tbody tr th {\n",
       "        vertical-align: top;\n",
       "    }\n",
       "\n",
       "    .dataframe thead th {\n",
       "        text-align: right;\n",
       "    }\n",
       "</style>\n",
       "<table border=\"1\" class=\"dataframe\">\n",
       "  <thead>\n",
       "    <tr style=\"text-align: right;\">\n",
       "      <th></th>\n",
       "      <th>ds</th>\n",
       "      <th>y</th>\n",
       "    </tr>\n",
       "  </thead>\n",
       "  <tbody>\n",
       "    <tr>\n",
       "      <th>139</th>\n",
       "      <td>1960-08-01</td>\n",
       "      <td>606</td>\n",
       "    </tr>\n",
       "    <tr>\n",
       "      <th>140</th>\n",
       "      <td>1960-09-01</td>\n",
       "      <td>508</td>\n",
       "    </tr>\n",
       "    <tr>\n",
       "      <th>141</th>\n",
       "      <td>1960-10-01</td>\n",
       "      <td>461</td>\n",
       "    </tr>\n",
       "    <tr>\n",
       "      <th>142</th>\n",
       "      <td>1960-11-01</td>\n",
       "      <td>390</td>\n",
       "    </tr>\n",
       "    <tr>\n",
       "      <th>143</th>\n",
       "      <td>1960-12-01</td>\n",
       "      <td>432</td>\n",
       "    </tr>\n",
       "  </tbody>\n",
       "</table>\n",
       "</div>"
      ],
      "text/plain": [
       "            ds    y\n",
       "139 1960-08-01  606\n",
       "140 1960-09-01  508\n",
       "141 1960-10-01  461\n",
       "142 1960-11-01  390\n",
       "143 1960-12-01  432"
      ]
     },
     "execution_count": 16,
     "metadata": {},
     "output_type": "execute_result"
    }
   ],
   "source": [
    "df1 = pd.read_csv('airline_passengers.csv')\n",
    "df1['ds'] = pd.to_datetime(df1['Month'],format='%Y.%m.%d')\n",
    "del df1['Month']\n",
    "df1['y'] = df1['Thousands of Passengers']\n",
    "del df1['Thousands of Passengers']\n",
    "df1.tail()"
   ]
  },
  {
   "cell_type": "code",
   "execution_count": 25,
   "id": "cad4c398-54cc-46c2-8324-a65ef6bef105",
   "metadata": {},
   "outputs": [],
   "source": [
    "Train_1 = df1[(df1['ds'] > '1954-12-01') & (df1['ds'] < '1960-01-01')]\n",
    "Test_1 = df1[(df1['ds'] >= '1960-01-01') & (df1['ds'] <'1960-05-01') ]\n",
    "\n",
    "Train_2 = df1[(df1['ds'] > '1954-12-01') & (df1['ds'] < '1960-03-01')]\n",
    "Test_2 = df1[(df1['ds'] >= '1960-03-01') & (df1['ds'] <'1960-07-01') ]\n",
    "\n",
    "Train_3 = df1[(df1['ds'] > '1954-12-01') & (df1['ds'] < '1960-05-01')]\n",
    "Test_3 = df1[(df1['ds'] >= '1960-05-01') & (df1['ds'] <'1960-09-01') ]\n",
    "\n",
    "Train_4 = df1[(df1['ds'] > '1954-12-01') & (df1['ds'] < '1960-07-01')]\n",
    "Test_4 = df1[(df1['ds'] >= '1960-07-01') & (df1['ds'] <'1960-11-01') ]\n",
    "\n",
    "Train_5 = df1[(df1['ds'] > '1954-12-01') & (df1['ds'] < '1960-09-01')]\n",
    "Test_5 = df1[(df1['ds'] >= '1960-09-01') & (df1['ds'] <'1961-01-01') ]\n"
   ]
  },
  {
   "cell_type": "code",
   "execution_count": 34,
   "id": "94996287-9c6d-4eed-b137-4c72476bdf23",
   "metadata": {},
   "outputs": [
    {
     "data": {
      "text/html": [
       "<div>\n",
       "<style scoped>\n",
       "    .dataframe tbody tr th:only-of-type {\n",
       "        vertical-align: middle;\n",
       "    }\n",
       "\n",
       "    .dataframe tbody tr th {\n",
       "        vertical-align: top;\n",
       "    }\n",
       "\n",
       "    .dataframe thead th {\n",
       "        text-align: right;\n",
       "    }\n",
       "</style>\n",
       "<table border=\"1\" class=\"dataframe\">\n",
       "  <thead>\n",
       "    <tr style=\"text-align: right;\">\n",
       "      <th></th>\n",
       "      <th>ds</th>\n",
       "      <th>y</th>\n",
       "    </tr>\n",
       "  </thead>\n",
       "  <tbody>\n",
       "    <tr>\n",
       "      <th>72</th>\n",
       "      <td>1955-01-01</td>\n",
       "      <td>242</td>\n",
       "    </tr>\n",
       "    <tr>\n",
       "      <th>73</th>\n",
       "      <td>1955-02-01</td>\n",
       "      <td>233</td>\n",
       "    </tr>\n",
       "    <tr>\n",
       "      <th>74</th>\n",
       "      <td>1955-03-01</td>\n",
       "      <td>267</td>\n",
       "    </tr>\n",
       "    <tr>\n",
       "      <th>75</th>\n",
       "      <td>1955-04-01</td>\n",
       "      <td>269</td>\n",
       "    </tr>\n",
       "    <tr>\n",
       "      <th>76</th>\n",
       "      <td>1955-05-01</td>\n",
       "      <td>270</td>\n",
       "    </tr>\n",
       "  </tbody>\n",
       "</table>\n",
       "</div>"
      ],
      "text/plain": [
       "           ds    y\n",
       "72 1955-01-01  242\n",
       "73 1955-02-01  233\n",
       "74 1955-03-01  267\n",
       "75 1955-04-01  269\n",
       "76 1955-05-01  270"
      ]
     },
     "execution_count": 34,
     "metadata": {},
     "output_type": "execute_result"
    }
   ],
   "source": [
    "Train_5.head()"
   ]
  },
  {
   "cell_type": "code",
   "execution_count": 33,
   "id": "1e236ae8-cb7c-4a17-bbcb-f76282f4c65b",
   "metadata": {},
   "outputs": [
    {
     "data": {
      "text/html": [
       "<div>\n",
       "<style scoped>\n",
       "    .dataframe tbody tr th:only-of-type {\n",
       "        vertical-align: middle;\n",
       "    }\n",
       "\n",
       "    .dataframe tbody tr th {\n",
       "        vertical-align: top;\n",
       "    }\n",
       "\n",
       "    .dataframe thead th {\n",
       "        text-align: right;\n",
       "    }\n",
       "</style>\n",
       "<table border=\"1\" class=\"dataframe\">\n",
       "  <thead>\n",
       "    <tr style=\"text-align: right;\">\n",
       "      <th></th>\n",
       "      <th>ds</th>\n",
       "      <th>y</th>\n",
       "    </tr>\n",
       "  </thead>\n",
       "  <tbody>\n",
       "    <tr>\n",
       "      <th>140</th>\n",
       "      <td>1960-09-01</td>\n",
       "      <td>508</td>\n",
       "    </tr>\n",
       "    <tr>\n",
       "      <th>141</th>\n",
       "      <td>1960-10-01</td>\n",
       "      <td>461</td>\n",
       "    </tr>\n",
       "    <tr>\n",
       "      <th>142</th>\n",
       "      <td>1960-11-01</td>\n",
       "      <td>390</td>\n",
       "    </tr>\n",
       "    <tr>\n",
       "      <th>143</th>\n",
       "      <td>1960-12-01</td>\n",
       "      <td>432</td>\n",
       "    </tr>\n",
       "  </tbody>\n",
       "</table>\n",
       "</div>"
      ],
      "text/plain": [
       "            ds    y\n",
       "140 1960-09-01  508\n",
       "141 1960-10-01  461\n",
       "142 1960-11-01  390\n",
       "143 1960-12-01  432"
      ]
     },
     "execution_count": 33,
     "metadata": {},
     "output_type": "execute_result"
    }
   ],
   "source": [
    "Test_5.head()"
   ]
  },
  {
   "cell_type": "code",
   "execution_count": 35,
   "id": "7ab3b656-ca79-4367-9051-927072d57010",
   "metadata": {},
   "outputs": [],
   "source": [
    "Train_1.to_csv('airline_Train_1.csv',index=False)\n",
    "Train_2.to_csv('airline_Train_2.csv',index=False)\n",
    "Train_3.to_csv('airline_Train_3.csv',index=False)\n",
    "Train_4.to_csv('airline_Train_4.csv',index=False)\n",
    "Train_5.to_csv('airline_Train_5.csv',index=False)"
   ]
  },
  {
   "cell_type": "code",
   "execution_count": 36,
   "id": "58d36c66-eb7a-4a85-a1d2-1143f9236629",
   "metadata": {},
   "outputs": [],
   "source": [
    "Test_1.to_csv('airline_Test_1.csv',index=False)\n",
    "Test_2.to_csv('airline_Test_2.csv',index=False)\n",
    "Test_3.to_csv('airline_Test_3.csv',index=False)\n",
    "Test_4.to_csv('airline_Test_4.csv',index=False)\n",
    "Test_5.to_csv('airline_Test_5.csv',index=False)"
   ]
  },
  {
   "cell_type": "markdown",
   "id": "ead8e0c8-7c97-4f92-a12e-95b85f1e017d",
   "metadata": {},
   "source": [
    "## WIKI DAYLIGHT"
   ]
  },
  {
   "cell_type": "code",
   "execution_count": 11,
   "id": "b397267e-ef59-4355-8f15-0f830eeaddba",
   "metadata": {},
   "outputs": [
    {
     "data": {
      "text/plain": [
       "<AxesSubplot:xlabel='ds'>"
      ]
     },
     "execution_count": 11,
     "metadata": {},
     "output_type": "execute_result"
    },
    {
     "data": {
      "image/png": "[encoded data removed]",
      "text/plain": [
       "<Figure size 864x576 with 1 Axes>"
      ]
     },
     "metadata": {
      "needs_background": "light"
     },
     "output_type": "display_data"
    }
   ],
   "source": [
    "df2 = pd.read_csv('wiki_daylight_saving_time.csv',sep=\";\")\n",
    "df2.head()\n",
    "df2.plot(x='ds', y ='values', figsize=(12,8))"
   ]
  },
  {
   "cell_type": "code",
   "execution_count": 12,
   "id": "2fb30c09-091a-43cb-900e-7029d00b96d3",
   "metadata": {},
   "outputs": [],
   "source": [
    "df2['ds'] = pd.to_datetime(df2['ds'],format='%d.%m.%Y %H:%M')"
   ]
  },
  {
   "cell_type": "code",
   "execution_count": 5,
   "id": "c46694cb-02bc-48c5-999b-4ee1cfc8e918",
   "metadata": {},
   "outputs": [
    {
     "data": {
      "text/plain": [
       "ds    2017-01-01 00:00:00\n",
       "y                      88\n",
       "dtype: object"
      ]
     },
     "execution_count": 5,
     "metadata": {},
     "output_type": "execute_result"
    }
   ],
   "source": [
    "df2.tail()\n",
    "df2.min()"
   ]
  },
  {
   "cell_type": "code",
   "execution_count": 14,
   "id": "1635e9a1-266a-4879-ae3e-d352736f5a8c",
   "metadata": {},
   "outputs": [],
   "source": [
    "a = pd.to_datetime('2013-12-31')\n",
    "b = pd.to_datetime('2021-01-01')\n",
    "\n"
   ]
  },
  {
   "cell_type": "code",
   "execution_count": 15,
   "id": "300b18b9-55f4-4c62-af63-cb73b2616987",
   "metadata": {},
   "outputs": [],
   "source": [
    "Train_1 = df2[(df2['ds'] > a) & (df2['ds'] < b)]\n",
    "Test_1 = df2[(df2['ds'] >= b) & (df2['ds'] < b+timedelta(days=30) )]\n",
    "\n",
    "Train_2 = df2[(df2['ds'] > a) & (df2['ds'] < b+timedelta(days=15))]\n",
    "Test_2 = df2[(df2['ds'] >= b+timedelta(days=15)) & (df2['ds'] <b+timedelta(days=45))]\n",
    "\n",
    "Train_3 = df2[(df2['ds'] > a) & (df2['ds'] < b+timedelta(days=30))]\n",
    "Test_3 = df2[(df2['ds'] >= b+timedelta(days=30)) & (df2['ds'] <b+timedelta(days=60))]\n",
    "\n",
    "Train_4 = df2[(df2['ds'] > a) & (df2['ds'] < b+timedelta(days=45))]\n",
    "Test_4 = df2[(df2['ds'] >= b+timedelta(days=45)) & (df2['ds'] <b+timedelta(days=75))]\n",
    "\n",
    "Train_5 = df2[(df2['ds'] > a) & (df2['ds'] < b+timedelta(days=60))]\n",
    "Test_5 = df2[(df2['ds'] >= b+timedelta(days=60)) & (df2['ds'] <b+timedelta(days=90))]\n",
    "\n",
    "Train_6 = df2[(df2['ds'] > a) & (df2['ds'] < b+timedelta(days=75))]\n",
    "Test_6 = df2[(df2['ds'] >= b+timedelta(days=75)) & (df2['ds'] <b+timedelta(days=105))]\n",
    "\n",
    "Train_7 = df2[(df2['ds'] > a) & (df2['ds'] < b+timedelta(days=90))]\n",
    "Test_7 = df2[(df2['ds'] >= b+timedelta(days=90)) & (df2['ds'] <b+timedelta(days=120))]\n",
    "\n",
    "Train_8 = df2[(df2['ds'] > a) & (df2['ds'] < b+timedelta(days=105))]\n",
    "Test_8 = df2[(df2['ds'] >= b+timedelta(days=105)) & (df2['ds'] <b+timedelta(days=135))]\n",
    "\n",
    "Train_9 = df2[(df2['ds'] > a) & (df2['ds'] < b+timedelta(days=120))]\n",
    "Test_9 = df2[(df2['ds'] >= b+timedelta(days=120)) & (df2['ds'] <b+timedelta(days=150))]\n",
    "\n",
    "Train_10 = df2[(df2['ds'] > a) & (df2['ds'] < b+timedelta(days=135))]\n",
    "Test_10 = df2[(df2['ds'] >= b+timedelta(days=135)) & (df2['ds'] <b+timedelta(days=165))]\n"
   ]
  },
  {
   "cell_type": "code",
   "execution_count": 102,
   "id": "82fc3680-5234-47cf-a53f-0aa17de23509",
   "metadata": {},
   "outputs": [
    {
     "name": "stdout",
     "output_type": "stream",
     "text": [
      "             ds  values\n",
      "4869 2021-05-01     595\n",
      "4870 2021-05-02     670\n",
      "4871 2021-05-03     993\n",
      "4872 2021-05-04    1129\n",
      "4873 2021-05-05    1088\n",
      "4874 2021-05-06    1031\n",
      "4875 2021-05-07    1000\n",
      "4876 2021-05-08     611\n",
      "4877 2021-05-09     607\n",
      "4878 2021-05-10     957\n",
      "4879 2021-05-11    1011\n",
      "4880 2021-05-12    1104\n",
      "4881 2021-05-13     942\n",
      "4882 2021-05-14     854\n",
      "4883 2021-05-15     518\n",
      "             ds  values\n",
      "4884 2021-05-16     562\n",
      "4885 2021-05-17     911\n",
      "4886 2021-05-18    1129\n",
      "4887 2021-05-19    1189\n",
      "4888 2021-05-20    1052\n",
      "             ds  values\n",
      "4913 2021-06-14    1093\n",
      "30\n"
     ]
    }
   ],
   "source": [
    "print(Train_10.tail(15))\n",
    "print(Test_10.head())\n",
    "print(Test_10.tail(1))\n",
    "print(len(Test_3))"
   ]
  },
  {
   "cell_type": "code",
   "execution_count": 16,
   "id": "27204998-d6c3-450d-b138-61d0e65fb609",
   "metadata": {},
   "outputs": [],
   "source": [
    "Train_1.to_csv('wiki_Train_1.csv',index=False)\n",
    "Train_2.to_csv('wiki_Train_2.csv',index=False)\n",
    "Train_3.to_csv('wiki_Train_3.csv',index=False)\n",
    "Train_4.to_csv('wiki_Train_4.csv',index=False)\n",
    "Train_5.to_csv('wiki_Train_5.csv',index=False)\n",
    "Train_6.to_csv('wiki_Train_6.csv',index=False)\n",
    "Train_7.to_csv('wiki_Train_7.csv',index=False)\n",
    "Train_8.to_csv('wiki_Train_8.csv',index=False)\n",
    "Train_9.to_csv('wiki_Train_9.csv',index=False)\n",
    "Train_10.to_csv('wiki_Train_10.csv',index=False)"
   ]
  },
  {
   "cell_type": "code",
   "execution_count": 17,
   "id": "7bac6fda-b520-4ef0-a9f8-869a6ab0420f",
   "metadata": {},
   "outputs": [],
   "source": [
    "Test_1.to_csv('wiki_Test_1.csv',index=False)\n",
    "Test_2.to_csv('wiki_Test_2.csv',index=False)\n",
    "Test_3.to_csv('wiki_Test_3.csv',index=False)\n",
    "Test_4.to_csv('wiki_Test_4.csv',index=False)\n",
    "Test_5.to_csv('wiki_Test_5.csv',index=False)\n",
    "Test_6.to_csv('wiki_Test_6.csv',index=False)\n",
    "Test_7.to_csv('wiki_Test_7.csv',index=False)\n",
    "Test_8.to_csv('wiki_Test_8.csv',index=False)\n",
    "Test_9.to_csv('wiki_Test_9.csv',index=False)\n",
    "Test_10.to_csv('wiki_Test_10.csv',index=False)"
   ]
  },
  {
   "cell_type": "code",
   "execution_count": null,
   "id": "8367c14c-e134-480d-905d-92440bfad16a",
   "metadata": {},
   "outputs": [],
   "source": [
    "Olympia Rad Tage "
   ]
  },
  {
   "cell_type": "code",
   "execution_count": 2,
   "id": "0c79d6db-5a7b-42a7-86fd-ee85f8c2190e",
   "metadata": {},
   "outputs": [
    {
     "data": {
      "text/plain": [
       "<AxesSubplot:xlabel='ds'>"
      ]
     },
     "execution_count": 2,
     "metadata": {},
     "output_type": "execute_result"
    },
    {
     "data": {
      "image/png": "[encoded data removed]",
      "text/plain": [
       "<Figure size 864x576 with 1 Axes>"
      ]
     },
     "metadata": {
      "needs_background": "light"
     },
     "output_type": "display_data"
    }
   ],
   "source": [
    "df = pd.read_csv('rad_tage_olympia.csv',sep=\",\")\n",
    "df.head()\n",
    "df2 = pd.DataFrame(columns = ['ds', 'y'])\n",
    "df2.ds = df['datum']\n",
    "df2.y = df['gesamt']\n",
    "df2['ds'] = pd.to_datetime(df2['ds'])\n",
    "df2.head()\n",
    "df2.plot(x='ds', y ='y', figsize=(12,8))"
   ]
  },
  {
   "cell_type": "code",
   "execution_count": 3,
   "id": "5ebf3de5-9cea-463a-be31-4aaae4395458",
   "metadata": {},
   "outputs": [],
   "source": [
    "a = pd.to_datetime('2016-12-31')\n",
    "b = pd.to_datetime('2020-01-01')\n",
    "\n",
    "Train_1 = df2[(df2['ds'] > a) & (df2['ds'] < b)]\n",
    "Test_1 = df2[(df2['ds'] >= b) & (df2['ds'] < b+timedelta(days=30) )]\n",
    "\n",
    "Train_2 = df2[(df2['ds'] > a) & (df2['ds'] < b+timedelta(days=15))]\n",
    "Test_2 = df2[(df2['ds'] >= b+timedelta(days=15)) & (df2['ds'] <b+timedelta(days=45))]\n",
    "\n",
    "Train_3 = df2[(df2['ds'] > a) & (df2['ds'] < b+timedelta(days=30))]\n",
    "Test_3 = df2[(df2['ds'] >= b+timedelta(days=30)) & (df2['ds'] <b+timedelta(days=60))]\n",
    "\n",
    "Train_4 = df2[(df2['ds'] > a) & (df2['ds'] < b+timedelta(days=45))]\n",
    "Test_4 = df2[(df2['ds'] >= b+timedelta(days=45)) & (df2['ds'] <b+timedelta(days=75))]\n",
    "\n",
    "Train_5 = df2[(df2['ds'] > a) & (df2['ds'] < b+timedelta(days=60))]\n",
    "Test_5 = df2[(df2['ds'] >= b+timedelta(days=60)) & (df2['ds'] <b+timedelta(days=90))]\n",
    "\n",
    "Train_6 = df2[(df2['ds'] > a) & (df2['ds'] < b+timedelta(days=75))]\n",
    "Test_6 = df2[(df2['ds'] >= b+timedelta(days=75)) & (df2['ds'] <b+timedelta(days=105))]\n",
    "\n",
    "Train_7 = df2[(df2['ds'] > a) & (df2['ds'] < b+timedelta(days=90))]\n",
    "Test_7 = df2[(df2['ds'] >= b+timedelta(days=90)) & (df2['ds'] <b+timedelta(days=120))]\n",
    "\n",
    "Train_8 = df2[(df2['ds'] > a) & (df2['ds'] < b+timedelta(days=105))]\n",
    "Test_8 = df2[(df2['ds'] >= b+timedelta(days=105)) & (df2['ds'] <b+timedelta(days=135))]\n",
    "\n",
    "Train_9 = df2[(df2['ds'] > a) & (df2['ds'] < b+timedelta(days=120))]\n",
    "Test_9 = df2[(df2['ds'] >= b+timedelta(days=120)) & (df2['ds'] <b+timedelta(days=150))]\n",
    "\n",
    "Train_10 = df2[(df2['ds'] > a) & (df2['ds'] < b+timedelta(days=135))]\n",
    "Test_10 = df2[(df2['ds'] >= b+timedelta(days=135)) & (df2['ds'] <b+timedelta(days=165))]\n"
   ]
  },
  {
   "cell_type": "code",
   "execution_count": 18,
   "id": "7741af5c-5451-456a-88f3-9fce23c87a67",
   "metadata": {},
   "outputs": [
    {
     "name": "stdout",
     "output_type": "stream",
     "text": [
      "             ds     y\n",
      "1225 2020-05-10  2694\n",
      "1226 2020-05-11  1239\n",
      "1227 2020-05-12  2126\n",
      "1228 2020-05-13   991\n",
      "1229 2020-05-14  1214\n",
      "             ds     y\n",
      "1230 2020-05-15  1142\n",
      "1231 2020-05-16  3086\n",
      "1232 2020-05-17  4528\n",
      "1233 2020-05-18  3532\n",
      "1234 2020-05-19  3725\n",
      "             ds     y\n",
      "1255 2020-06-09  1263\n",
      "1256 2020-06-10  1189\n",
      "1257 2020-06-11  2477\n",
      "1258 2020-06-12  3403\n",
      "1259 2020-06-13  3443\n",
      "30\n"
     ]
    }
   ],
   "source": [
    "print(Train_10.tail())\n",
    "print(Test_10.head())\n",
    "print(Test_10.tail())\n",
    "print(len(Test_10))"
   ]
  },
  {
   "cell_type": "code",
   "execution_count": 19,
   "id": "865a8c7d-ca70-40e4-9691-85e3ca837934",
   "metadata": {},
   "outputs": [],
   "source": [
    "Train_1.to_csv('olymp_Train_1.csv',index=False)\n",
    "Train_2.to_csv('olymp_Train_2.csv',index=False)\n",
    "Train_3.to_csv('olymp_Train_3.csv',index=False)\n",
    "Train_4.to_csv('olymp_Train_4.csv',index=False)\n",
    "Train_5.to_csv('olymp_Train_5.csv',index=False)\n",
    "Train_6.to_csv('olymp_Train_6.csv',index=False)\n",
    "Train_7.to_csv('olymp_Train_7.csv',index=False)\n",
    "Train_8.to_csv('olymp_Train_8.csv',index=False)\n",
    "Train_9.to_csv('olymp_Train_9.csv',index=False)\n",
    "Train_10.to_csv('olymp_Train_10.csv',index=False)"
   ]
  },
  {
   "cell_type": "code",
   "execution_count": 20,
   "id": "ff373da5-d77c-4c05-8312-a86d9457030e",
   "metadata": {},
   "outputs": [],
   "source": [
    "Test_1.to_csv('olymp_Test_1.csv',index=False)\n",
    "Test_2.to_csv('olymp_Test_2.csv',index=False)\n",
    "Test_3.to_csv('olymp_Test_3.csv',index=False)\n",
    "Test_4.to_csv('olymp_Test_4.csv',index=False)\n",
    "Test_5.to_csv('olymp_Test_5.csv',index=False)\n",
    "Test_6.to_csv('olymp_Test_6.csv',index=False)\n",
    "Test_7.to_csv('olymp_Test_7.csv',index=False)\n",
    "Test_8.to_csv('olymp_Test_8.csv',index=False)\n",
    "Test_9.to_csv('olymp_Test_9.csv',index=False)\n",
    "Test_10.to_csv('olymp_Test_10.csv',index=False)"
   ]
  },
  {
   "cell_type": "code",
   "execution_count": null,
   "id": "75abcc9e-6af4-46ad-ab24-ff2bea81efaf",
   "metadata": {},
   "outputs": [],
   "source": []
  }
 ],
 "metadata": {
  "kernelspec": {
   "display_name": "Python 3 (ipykernel)",
   "language": "python",
   "name": "python3"
  },
  "language_info": {
   "codemirror_mode": {
    "name": "ipython",
    "version": 3
   },
   "file_extension": ".py",
   "mimetype": "text/x-python",
   "name": "python",
   "nbconvert_exporter": "python",
   "pygments_lexer": "ipython3",
   "version": "3.9.7"
  }
 },
 "nbformat": 4,
 "nbformat_minor": 5
}
