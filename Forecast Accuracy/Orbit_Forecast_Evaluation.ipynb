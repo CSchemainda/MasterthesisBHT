{
 "cells": [
  {
   "cell_type": "code",
   "execution_count": 1,
   "id": "132c8327-6966-4cd0-9771-7a42973658d4",
   "metadata": {},
   "outputs": [],
   "source": [
    "import pandas as pd\n",
    "import matplotlib.pyplot as plt\n",
    "import numpy as np\n",
    "from sklearn.metrics import mean_absolute_error\n",
    "from sklearn.metrics import mean_squared_error\n",
    "from sklearn.metrics import mean_absolute_percentage_error\n",
    "import math"
   ]
  },
  {
   "cell_type": "code",
   "execution_count": 30,
   "id": "ef36ff49-05bb-4a95-9aab-db78276d430a",
   "metadata": {},
   "outputs": [
    {
     "data": {
      "text/html": [
       "<div>\n",
       "<style scoped>\n",
       "    .dataframe tbody tr th:only-of-type {\n",
       "        vertical-align: middle;\n",
       "    }\n",
       "\n",
       "    .dataframe tbody tr th {\n",
       "        vertical-align: top;\n",
       "    }\n",
       "\n",
       "    .dataframe thead th {\n",
       "        text-align: right;\n",
       "    }\n",
       "</style>\n",
       "<table border=\"1\" class=\"dataframe\">\n",
       "  <thead>\n",
       "    <tr style=\"text-align: right;\">\n",
       "      <th></th>\n",
       "      <th>MAE</th>\n",
       "      <th>RMSE</th>\n",
       "      <th>MAPE</th>\n",
       "    </tr>\n",
       "  </thead>\n",
       "  <tbody>\n",
       "    <tr>\n",
       "      <th>Set1</th>\n",
       "      <td>0</td>\n",
       "      <td>NaN</td>\n",
       "      <td>NaN</td>\n",
       "    </tr>\n",
       "    <tr>\n",
       "      <th>Set2</th>\n",
       "      <td>0</td>\n",
       "      <td>NaN</td>\n",
       "      <td>NaN</td>\n",
       "    </tr>\n",
       "    <tr>\n",
       "      <th>Set3</th>\n",
       "      <td>0</td>\n",
       "      <td>NaN</td>\n",
       "      <td>NaN</td>\n",
       "    </tr>\n",
       "    <tr>\n",
       "      <th>Set4</th>\n",
       "      <td>0</td>\n",
       "      <td>NaN</td>\n",
       "      <td>NaN</td>\n",
       "    </tr>\n",
       "    <tr>\n",
       "      <th>Set5</th>\n",
       "      <td>0</td>\n",
       "      <td>NaN</td>\n",
       "      <td>NaN</td>\n",
       "    </tr>\n",
       "  </tbody>\n",
       "</table>\n",
       "</div>"
      ],
      "text/plain": [
       "      MAE RMSE MAPE\n",
       "Set1    0  NaN  NaN\n",
       "Set2    0  NaN  NaN\n",
       "Set3    0  NaN  NaN\n",
       "Set4    0  NaN  NaN\n",
       "Set5    0  NaN  NaN"
      ]
     },
     "execution_count": 30,
     "metadata": {},
     "output_type": "execute_result"
    }
   ],
   "source": [
    "df_results = pd.DataFrame(columns = ['MAE', 'RMSE', 'MAPE'])\n",
    "df_results['MAE'] = [0,0,0,0,0,0,0,0,0,0]\n",
    "df_results.index = ['Set1', 'Set2', 'Set3', 'Set4', 'Set5','Set6', 'Set7', 'Set8', 'Set9', 'Set10']\n",
    "df_results.head()"
   ]
  },
  {
   "cell_type": "code",
   "execution_count": 54,
   "id": "6cdf33f1-a288-4685-9836-1e6a9dd9727a",
   "metadata": {},
   "outputs": [
    {
     "name": "stdout",
     "output_type": "stream",
     "text": [
      "           ds  values\n",
      "0  2021-05-16     562\n",
      "1  2021-05-17     911\n",
      "2  2021-05-18    1129\n",
      "3  2021-05-19    1189\n",
      "4  2021-05-20    1052\n",
      "           ds  prediction_5   prediction  prediction_95      trend_5  \\\n",
      "0  2021-05-16  -1834.133214  4895.596673   11546.704262 -1834.361268   \n",
      "1  2021-05-17  -1838.133786  4971.418334   11754.865821 -1838.339557   \n",
      "2  2021-05-18  -1937.008318  4915.806316   11607.494344 -1937.191723   \n",
      "3  2021-05-19  -1924.437579  4980.693959   11661.394866 -1924.598542   \n",
      "4  2021-05-20  -1796.120567  5009.944628   11661.444356 -1796.259018   \n",
      "\n",
      "         trend      trend_95  regression_5  regression  regression_95  \\\n",
      "0  4895.368620  11546.476209           0.0         0.0            0.0   \n",
      "1  4971.212564  11754.660050           0.0         0.0            0.0   \n",
      "2  4915.622911  11607.310939           0.0         0.0            0.0   \n",
      "3  4980.532996  11661.233903           0.0         0.0            0.0   \n",
      "4  5009.806177  11661.305905           0.0         0.0            0.0   \n",
      "\n",
      "   seasonality_365.25_5  seasonality_365.25  seasonality_365.25_95  \n",
      "0              0.228053            0.228053               0.228053  \n",
      "1              0.205771            0.205771               0.205771  \n",
      "2              0.183405            0.183405               0.183405  \n",
      "3              0.160963            0.160963               0.160963  \n",
      "4              0.138451            0.138451               0.138451  \n",
      "0\n"
     ]
    },
    {
     "data": {
      "text/plain": [
       "0"
      ]
     },
     "execution_count": 54,
     "metadata": {},
     "output_type": "execute_result"
    }
   ],
   "source": [
    "number=10\n",
    "y_true_data = '../wiki_Test_'+str(number)+'.csv'\n",
    "y_pred_data = 'Wiki_Orbit_Forecast_'+str(number)+'.csv' \n",
    "\n",
    "df_true = pd.read_csv(y_true_data)\n",
    "df_pred = pd.read_csv(y_pred_data)\n",
    "\n",
    "print(df_true.head())\n",
    "print(df_pred.head())\n",
    "\n",
    "print(len(df_true[df_true['values']<0]))\n",
    "len(df_pred[df_pred['prediction']<0])"
   ]
  },
  {
   "cell_type": "code",
   "execution_count": 39,
   "id": "d540e818-d7e7-42ec-85ef-800096c3163b",
   "metadata": {},
   "outputs": [
    {
     "ename": "AttributeError",
     "evalue": "'DataFrame' object has no attribute 'yhat1'",
     "output_type": "error",
     "traceback": [
      "\u001b[1;31m---------------------------------------------------------------------------\u001b[0m",
      "\u001b[1;31mAttributeError\u001b[0m                            Traceback (most recent call last)",
      "Input \u001b[1;32mIn [39]\u001b[0m, in \u001b[0;36m<cell line: 1>\u001b[1;34m()\u001b[0m\n\u001b[1;32m----> 1\u001b[0m df_pred\u001b[38;5;241m.\u001b[39mloc[\u001b[43mdf_pred\u001b[49m\u001b[38;5;241;43m.\u001b[39;49m\u001b[43myhat1\u001b[49m\u001b[38;5;241m<\u001b[39m\u001b[38;5;241m50\u001b[39m,\u001b[38;5;124m'\u001b[39m\u001b[38;5;124myhat1\u001b[39m\u001b[38;5;124m'\u001b[39m]\u001b[38;5;241m=\u001b[39m \u001b[38;5;241m0\u001b[39m \n\u001b[0;32m      2\u001b[0m \u001b[38;5;28mprint\u001b[39m(df_pred\u001b[38;5;241m.\u001b[39mhead())\n\u001b[0;32m      3\u001b[0m \u001b[38;5;28mprint\u001b[39m(\u001b[38;5;28mlen\u001b[39m(df_pred[df_pred[\u001b[38;5;124m'\u001b[39m\u001b[38;5;124myhat1\u001b[39m\u001b[38;5;124m'\u001b[39m]\u001b[38;5;241m<\u001b[39m\u001b[38;5;241m0\u001b[39m]))\n",
      "File \u001b[1;32m~\\anaconda3\\lib\\site-packages\\pandas\\core\\generic.py:5575\u001b[0m, in \u001b[0;36mNDFrame.__getattr__\u001b[1;34m(self, name)\u001b[0m\n\u001b[0;32m   5568\u001b[0m \u001b[38;5;28;01mif\u001b[39;00m (\n\u001b[0;32m   5569\u001b[0m     name \u001b[38;5;129;01mnot\u001b[39;00m \u001b[38;5;129;01min\u001b[39;00m \u001b[38;5;28mself\u001b[39m\u001b[38;5;241m.\u001b[39m_internal_names_set\n\u001b[0;32m   5570\u001b[0m     \u001b[38;5;129;01mand\u001b[39;00m name \u001b[38;5;129;01mnot\u001b[39;00m \u001b[38;5;129;01min\u001b[39;00m \u001b[38;5;28mself\u001b[39m\u001b[38;5;241m.\u001b[39m_metadata\n\u001b[0;32m   5571\u001b[0m     \u001b[38;5;129;01mand\u001b[39;00m name \u001b[38;5;129;01mnot\u001b[39;00m \u001b[38;5;129;01min\u001b[39;00m \u001b[38;5;28mself\u001b[39m\u001b[38;5;241m.\u001b[39m_accessors\n\u001b[0;32m   5572\u001b[0m     \u001b[38;5;129;01mand\u001b[39;00m \u001b[38;5;28mself\u001b[39m\u001b[38;5;241m.\u001b[39m_info_axis\u001b[38;5;241m.\u001b[39m_can_hold_identifiers_and_holds_name(name)\n\u001b[0;32m   5573\u001b[0m ):\n\u001b[0;32m   5574\u001b[0m     \u001b[38;5;28;01mreturn\u001b[39;00m \u001b[38;5;28mself\u001b[39m[name]\n\u001b[1;32m-> 5575\u001b[0m \u001b[38;5;28;01mreturn\u001b[39;00m \u001b[38;5;28;43mobject\u001b[39;49m\u001b[38;5;241;43m.\u001b[39;49m\u001b[38;5;21;43m__getattribute__\u001b[39;49m\u001b[43m(\u001b[49m\u001b[38;5;28;43mself\u001b[39;49m\u001b[43m,\u001b[49m\u001b[43m \u001b[49m\u001b[43mname\u001b[49m\u001b[43m)\u001b[49m\n",
      "\u001b[1;31mAttributeError\u001b[0m: 'DataFrame' object has no attribute 'yhat1'"
     ]
    }
   ],
   "source": [
    "df_pred.loc[df_pred.yhat1<50,'yhat1']= 0 \n",
    "print(df_pred.head())\n",
    "print(len(df_pred[df_pred['yhat1']<0]))"
   ]
  },
  {
   "cell_type": "code",
   "execution_count": 52,
   "id": "ebb11971-8181-44cc-934f-49982bc6cc4d",
   "metadata": {},
   "outputs": [
    {
     "name": "stderr",
     "output_type": "stream",
     "text": [
      "C:\\Users\\strub\\AppData\\Local\\Temp\\ipykernel_23944\\1778179668.py:8: SettingWithCopyWarning: \n",
      "A value is trying to be set on a copy of a slice from a DataFrame\n",
      "\n",
      "See the caveats in the documentation: https://pandas.pydata.org/pandas-docs/stable/user_guide/indexing.html#returning-a-view-versus-a-copy\n",
      "  df_results['MAE'][set] = round(mean_absolute_error(y_true, y_pred),0)\n",
      "C:\\Users\\strub\\AppData\\Local\\Temp\\ipykernel_23944\\1778179668.py:13: SettingWithCopyWarning: \n",
      "A value is trying to be set on a copy of a slice from a DataFrame\n",
      "\n",
      "See the caveats in the documentation: https://pandas.pydata.org/pandas-docs/stable/user_guide/indexing.html#returning-a-view-versus-a-copy\n",
      "  df_results['RMSE'][set] = round(rmse)\n",
      "C:\\Users\\strub\\AppData\\Local\\Temp\\ipykernel_23944\\1778179668.py:16: SettingWithCopyWarning: \n",
      "A value is trying to be set on a copy of a slice from a DataFrame\n",
      "\n",
      "See the caveats in the documentation: https://pandas.pydata.org/pandas-docs/stable/user_guide/indexing.html#returning-a-view-versus-a-copy\n",
      "  df_results['MAPE'][set]=round(mean_absolute_percentage_error(y_true, y_pred),4)\n"
     ]
    },
    {
     "data": {
      "text/html": [
       "<div>\n",
       "<style scoped>\n",
       "    .dataframe tbody tr th:only-of-type {\n",
       "        vertical-align: middle;\n",
       "    }\n",
       "\n",
       "    .dataframe tbody tr th {\n",
       "        vertical-align: top;\n",
       "    }\n",
       "\n",
       "    .dataframe thead th {\n",
       "        text-align: right;\n",
       "    }\n",
       "</style>\n",
       "<table border=\"1\" class=\"dataframe\">\n",
       "  <thead>\n",
       "    <tr style=\"text-align: right;\">\n",
       "      <th></th>\n",
       "      <th>MAE</th>\n",
       "      <th>RMSE</th>\n",
       "      <th>MAPE</th>\n",
       "    </tr>\n",
       "  </thead>\n",
       "  <tbody>\n",
       "    <tr>\n",
       "      <th>Set1</th>\n",
       "      <td>3817</td>\n",
       "      <td>3826</td>\n",
       "      <td>3.7058</td>\n",
       "    </tr>\n",
       "    <tr>\n",
       "      <th>Set2</th>\n",
       "      <td>3796</td>\n",
       "      <td>3808</td>\n",
       "      <td>3.713</td>\n",
       "    </tr>\n",
       "    <tr>\n",
       "      <th>Set3</th>\n",
       "      <td>3471</td>\n",
       "      <td>3514</td>\n",
       "      <td>2.8159</td>\n",
       "    </tr>\n",
       "    <tr>\n",
       "      <th>Set4</th>\n",
       "      <td>4456</td>\n",
       "      <td>7140</td>\n",
       "      <td>1.3457</td>\n",
       "    </tr>\n",
       "    <tr>\n",
       "      <th>Set5</th>\n",
       "      <td>3527</td>\n",
       "      <td>6866</td>\n",
       "      <td>0.42</td>\n",
       "    </tr>\n",
       "    <tr>\n",
       "      <th>Set6</th>\n",
       "      <td>2237</td>\n",
       "      <td>2551</td>\n",
       "      <td>1.1118</td>\n",
       "    </tr>\n",
       "    <tr>\n",
       "      <th>Set7</th>\n",
       "      <td>3489</td>\n",
       "      <td>3529</td>\n",
       "      <td>2.8724</td>\n",
       "    </tr>\n",
       "    <tr>\n",
       "      <th>Set8</th>\n",
       "      <td>3965</td>\n",
       "      <td>3971</td>\n",
       "      <td>4.4096</td>\n",
       "    </tr>\n",
       "    <tr>\n",
       "      <th>Set9</th>\n",
       "      <td>4053</td>\n",
       "      <td>4058</td>\n",
       "      <td>4.9378</td>\n",
       "    </tr>\n",
       "    <tr>\n",
       "      <th>Set10</th>\n",
       "      <td>4032</td>\n",
       "      <td>4039</td>\n",
       "      <td>4.9018</td>\n",
       "    </tr>\n",
       "  </tbody>\n",
       "</table>\n",
       "</div>"
      ],
      "text/plain": [
       "        MAE  RMSE    MAPE\n",
       "Set1   3817  3826  3.7058\n",
       "Set2   3796  3808   3.713\n",
       "Set3   3471  3514  2.8159\n",
       "Set4   4456  7140  1.3457\n",
       "Set5   3527  6866    0.42\n",
       "Set6   2237  2551  1.1118\n",
       "Set7   3489  3529  2.8724\n",
       "Set8   3965  3971  4.4096\n",
       "Set9   4053  4058  4.9378\n",
       "Set10  4032  4039  4.9018"
      ]
     },
     "execution_count": 52,
     "metadata": {},
     "output_type": "execute_result"
    }
   ],
   "source": [
    "set = 'Set'+str(number)\n",
    "\n",
    "y_true = df_true['values']\n",
    "y_pred = df_pred['prediction']\n",
    "\n",
    "# MAE setzen \n",
    "\n",
    "df_results['MAE'][set] = round(mean_absolute_error(y_true, y_pred),0)\n",
    "\n",
    "#RMSE setzen\n",
    "mse=mean_squared_error(y_true, y_pred)\n",
    "rmse = math.sqrt(mse)\n",
    "df_results['RMSE'][set] = round(rmse)\n",
    "\n",
    "#MAPE setzen\n",
    "df_results['MAPE'][set]=round(mean_absolute_percentage_error(y_true, y_pred),4)\n",
    "\n",
    "df_results.head(10)"
   ]
  },
  {
   "cell_type": "code",
   "execution_count": 55,
   "id": "b49a9a1c-8116-4702-81bf-1b4f744b150a",
   "metadata": {},
   "outputs": [],
   "source": [
    "df_results.to_csv('Errors_Orbit_Wiki.csv',index=False)"
   ]
  },
  {
   "cell_type": "code",
   "execution_count": null,
   "id": "e2a320d4-4284-4c67-9a77-d1bcfcab3bc8",
   "metadata": {},
   "outputs": [],
   "source": []
  }
 ],
 "metadata": {
  "kernelspec": {
   "display_name": "Python 3 (ipykernel)",
   "language": "python",
   "name": "python3"
  },
  "language_info": {
   "codemirror_mode": {
    "name": "ipython",
    "version": 3
   },
   "file_extension": ".py",
   "mimetype": "text/x-python",
   "name": "python",
   "nbconvert_exporter": "python",
   "pygments_lexer": "ipython3",
   "version": "3.9.7"
  }
 },
 "nbformat": 4,
 "nbformat_minor": 5
}
