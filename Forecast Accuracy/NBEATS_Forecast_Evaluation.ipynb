{
 "cells": [
  {
   "cell_type": "code",
   "execution_count": 1,
   "id": "9007cd48-e8ae-4003-bd4d-fd3aa94369ee",
   "metadata": {},
   "outputs": [],
   "source": [
    "import pandas as pd\n",
    "import matplotlib.pyplot as plt\n",
    "import numpy as np\n",
    "from sklearn.metrics import mean_absolute_error\n",
    "from sklearn.metrics import mean_squared_error\n",
    "from sklearn.metrics import mean_absolute_percentage_error\n",
    "import math"
   ]
  },
  {
   "cell_type": "code",
   "execution_count": 2,
   "id": "5347b1f6-5d54-4b63-867e-0dfbe89002b6",
   "metadata": {},
   "outputs": [
    {
     "data": {
      "text/html": [
       "<div>\n",
       "<style scoped>\n",
       "    .dataframe tbody tr th:only-of-type {\n",
       "        vertical-align: middle;\n",
       "    }\n",
       "\n",
       "    .dataframe tbody tr th {\n",
       "        vertical-align: top;\n",
       "    }\n",
       "\n",
       "    .dataframe thead th {\n",
       "        text-align: right;\n",
       "    }\n",
       "</style>\n",
       "<table border=\"1\" class=\"dataframe\">\n",
       "  <thead>\n",
       "    <tr style=\"text-align: right;\">\n",
       "      <th></th>\n",
       "      <th>MAE</th>\n",
       "      <th>RMSE</th>\n",
       "      <th>MAPE</th>\n",
       "    </tr>\n",
       "  </thead>\n",
       "  <tbody>\n",
       "    <tr>\n",
       "      <th>Set1</th>\n",
       "      <td>0</td>\n",
       "      <td>NaN</td>\n",
       "      <td>NaN</td>\n",
       "    </tr>\n",
       "    <tr>\n",
       "      <th>Set2</th>\n",
       "      <td>0</td>\n",
       "      <td>NaN</td>\n",
       "      <td>NaN</td>\n",
       "    </tr>\n",
       "    <tr>\n",
       "      <th>Set3</th>\n",
       "      <td>0</td>\n",
       "      <td>NaN</td>\n",
       "      <td>NaN</td>\n",
       "    </tr>\n",
       "    <tr>\n",
       "      <th>Set4</th>\n",
       "      <td>0</td>\n",
       "      <td>NaN</td>\n",
       "      <td>NaN</td>\n",
       "    </tr>\n",
       "    <tr>\n",
       "      <th>Set5</th>\n",
       "      <td>0</td>\n",
       "      <td>NaN</td>\n",
       "      <td>NaN</td>\n",
       "    </tr>\n",
       "  </tbody>\n",
       "</table>\n",
       "</div>"
      ],
      "text/plain": [
       "      MAE RMSE MAPE\n",
       "Set1    0  NaN  NaN\n",
       "Set2    0  NaN  NaN\n",
       "Set3    0  NaN  NaN\n",
       "Set4    0  NaN  NaN\n",
       "Set5    0  NaN  NaN"
      ]
     },
     "execution_count": 2,
     "metadata": {},
     "output_type": "execute_result"
    }
   ],
   "source": [
    "df_results = pd.DataFrame(columns = ['MAE', 'RMSE', 'MAPE'])\n",
    "df_results['MAE'] = [0,0,0,0,0,0,0,0,0,0]\n",
    "df_results.index = ['Set1', 'Set2', 'Set3', 'Set4', 'Set5','Set6', 'Set7', 'Set8', 'Set9', 'Set10']\n",
    "df_results.head()"
   ]
  },
  {
   "cell_type": "code",
   "execution_count": 31,
   "id": "70229f75-5fc4-4527-95bd-f5869a7cf534",
   "metadata": {},
   "outputs": [
    {
     "name": "stdout",
     "output_type": "stream",
     "text": [
      "           ds  values\n",
      "0  2021-05-16     562\n",
      "1  2021-05-17     911\n",
      "2  2021-05-18    1129\n",
      "3  2021-05-19    1189\n",
      "4  2021-05-20    1052\n",
      "           ds           y\n",
      "0  2021-05-16   688.98486\n",
      "1  2021-05-17  1066.38350\n",
      "2  2021-05-18  1721.23880\n",
      "3  2021-05-19  2389.40480\n",
      "4  2021-05-20  2784.06840\n",
      "0\n"
     ]
    },
    {
     "data": {
      "text/plain": [
       "12"
      ]
     },
     "execution_count": 31,
     "metadata": {},
     "output_type": "execute_result"
    }
   ],
   "source": [
    "number=10\n",
    "y_true_data = '../wiki_Test_'+str(number)+'.csv'\n",
    "y_pred_data = 'Wiki_Nbeats_Forecast_'+str(number)+'.csv' \n",
    "\n",
    "df_true = pd.read_csv(y_true_data)\n",
    "df_pred = pd.read_csv(y_pred_data)\n",
    "\n",
    "print(df_true.head())\n",
    "print(df_pred.head())\n",
    "\n",
    "print(len(df_true[df_true['values']<0]))\n",
    "len(df_pred[df_pred['y']<0])"
   ]
  },
  {
   "cell_type": "code",
   "execution_count": 32,
   "id": "8d1bf8f2-f079-4cfb-91b7-b13d11ea56f5",
   "metadata": {},
   "outputs": [
    {
     "name": "stdout",
     "output_type": "stream",
     "text": [
      "           ds           y\n",
      "0  2021-05-16   688.98486\n",
      "1  2021-05-17  1066.38350\n",
      "2  2021-05-18  1721.23880\n",
      "3  2021-05-19  2389.40480\n",
      "4  2021-05-20  2784.06840\n",
      "0\n"
     ]
    }
   ],
   "source": [
    "df_pred.loc[df_pred.y<50,'y']= 0 \n",
    "print(df_pred.head())\n",
    "print(len(df_pred[df_pred['y']<0]))"
   ]
  },
  {
   "cell_type": "code",
   "execution_count": 33,
   "id": "eed2e3b8-8b6c-4e4f-81fa-8e5302e7ffdf",
   "metadata": {},
   "outputs": [
    {
     "name": "stderr",
     "output_type": "stream",
     "text": [
      "C:\\Users\\strub\\AppData\\Local\\Temp\\ipykernel_22088\\1892951705.py:8: SettingWithCopyWarning: \n",
      "A value is trying to be set on a copy of a slice from a DataFrame\n",
      "\n",
      "See the caveats in the documentation: https://pandas.pydata.org/pandas-docs/stable/user_guide/indexing.html#returning-a-view-versus-a-copy\n",
      "  df_results['MAE'][set] = round(mean_absolute_error(y_true, y_pred),0)\n",
      "C:\\Users\\strub\\AppData\\Local\\Temp\\ipykernel_22088\\1892951705.py:13: SettingWithCopyWarning: \n",
      "A value is trying to be set on a copy of a slice from a DataFrame\n",
      "\n",
      "See the caveats in the documentation: https://pandas.pydata.org/pandas-docs/stable/user_guide/indexing.html#returning-a-view-versus-a-copy\n",
      "  df_results['RMSE'][set] = round(rmse)\n",
      "C:\\Users\\strub\\AppData\\Local\\Temp\\ipykernel_22088\\1892951705.py:16: SettingWithCopyWarning: \n",
      "A value is trying to be set on a copy of a slice from a DataFrame\n",
      "\n",
      "See the caveats in the documentation: https://pandas.pydata.org/pandas-docs/stable/user_guide/indexing.html#returning-a-view-versus-a-copy\n",
      "  df_results['MAPE'][set]=round(mean_absolute_percentage_error(y_true, y_pred),4)\n"
     ]
    },
    {
     "data": {
      "text/html": [
       "<div>\n",
       "<style scoped>\n",
       "    .dataframe tbody tr th:only-of-type {\n",
       "        vertical-align: middle;\n",
       "    }\n",
       "\n",
       "    .dataframe tbody tr th {\n",
       "        vertical-align: top;\n",
       "    }\n",
       "\n",
       "    .dataframe thead th {\n",
       "        text-align: right;\n",
       "    }\n",
       "</style>\n",
       "<table border=\"1\" class=\"dataframe\">\n",
       "  <thead>\n",
       "    <tr style=\"text-align: right;\">\n",
       "      <th></th>\n",
       "      <th>MAE</th>\n",
       "      <th>RMSE</th>\n",
       "      <th>MAPE</th>\n",
       "    </tr>\n",
       "  </thead>\n",
       "  <tbody>\n",
       "    <tr>\n",
       "      <th>Set1</th>\n",
       "      <td>752</td>\n",
       "      <td>919</td>\n",
       "      <td>0.6861</td>\n",
       "    </tr>\n",
       "    <tr>\n",
       "      <th>Set2</th>\n",
       "      <td>902</td>\n",
       "      <td>1012</td>\n",
       "      <td>0.8052</td>\n",
       "    </tr>\n",
       "    <tr>\n",
       "      <th>Set3</th>\n",
       "      <td>826</td>\n",
       "      <td>983</td>\n",
       "      <td>0.6163</td>\n",
       "    </tr>\n",
       "    <tr>\n",
       "      <th>Set4</th>\n",
       "      <td>1804</td>\n",
       "      <td>2852</td>\n",
       "      <td>0.4989</td>\n",
       "    </tr>\n",
       "    <tr>\n",
       "      <th>Set5</th>\n",
       "      <td>2334</td>\n",
       "      <td>3558</td>\n",
       "      <td>0.3344</td>\n",
       "    </tr>\n",
       "    <tr>\n",
       "      <th>Set6</th>\n",
       "      <td>1266</td>\n",
       "      <td>1685</td>\n",
       "      <td>0.4278</td>\n",
       "    </tr>\n",
       "    <tr>\n",
       "      <th>Set7</th>\n",
       "      <td>1135</td>\n",
       "      <td>1257</td>\n",
       "      <td>0.7963</td>\n",
       "    </tr>\n",
       "    <tr>\n",
       "      <th>Set8</th>\n",
       "      <td>1089</td>\n",
       "      <td>1217</td>\n",
       "      <td>1.2068</td>\n",
       "    </tr>\n",
       "    <tr>\n",
       "      <th>Set9</th>\n",
       "      <td>811</td>\n",
       "      <td>860</td>\n",
       "      <td>0.9132</td>\n",
       "    </tr>\n",
       "    <tr>\n",
       "      <th>Set10</th>\n",
       "      <td>987</td>\n",
       "      <td>1145</td>\n",
       "      <td>1.0857</td>\n",
       "    </tr>\n",
       "  </tbody>\n",
       "</table>\n",
       "</div>"
      ],
      "text/plain": [
       "        MAE  RMSE    MAPE\n",
       "Set1    752   919  0.6861\n",
       "Set2    902  1012  0.8052\n",
       "Set3    826   983  0.6163\n",
       "Set4   1804  2852  0.4989\n",
       "Set5   2334  3558  0.3344\n",
       "Set6   1266  1685  0.4278\n",
       "Set7   1135  1257  0.7963\n",
       "Set8   1089  1217  1.2068\n",
       "Set9    811   860  0.9132\n",
       "Set10   987  1145  1.0857"
      ]
     },
     "execution_count": 33,
     "metadata": {},
     "output_type": "execute_result"
    }
   ],
   "source": [
    "set = 'Set'+str(number)\n",
    "\n",
    "y_true = df_true['values']\n",
    "y_pred = df_pred['y']\n",
    "\n",
    "# MAE setzen \n",
    "\n",
    "df_results['MAE'][set] = round(mean_absolute_error(y_true, y_pred),0)\n",
    "\n",
    "#RMSE setzen\n",
    "mse=mean_squared_error(y_true, y_pred)\n",
    "rmse = math.sqrt(mse)\n",
    "df_results['RMSE'][set] = round(rmse)\n",
    "\n",
    "#MAPE setzen\n",
    "df_results['MAPE'][set]=round(mean_absolute_percentage_error(y_true, y_pred),4)\n",
    "\n",
    "df_results.head(10)"
   ]
  },
  {
   "cell_type": "code",
   "execution_count": 35,
   "id": "2ebf39f2-f1bd-4106-9de4-0fad597f2cc6",
   "metadata": {},
   "outputs": [],
   "source": [
    "df_results.to_csv('Errors_Nbeats_Wiki.csv',index=False)"
   ]
  },
  {
   "cell_type": "code",
   "execution_count": null,
   "id": "9b4638d4-d41a-4b61-8979-83a0a9fce038",
   "metadata": {},
   "outputs": [],
   "source": []
  }
 ],
 "metadata": {
  "kernelspec": {
   "display_name": "Python 3 (ipykernel)",
   "language": "python",
   "name": "python3"
  },
  "language_info": {
   "codemirror_mode": {
    "name": "ipython",
    "version": 3
   },
   "file_extension": ".py",
   "mimetype": "text/x-python",
   "name": "python",
   "nbconvert_exporter": "python",
   "pygments_lexer": "ipython3",
   "version": "3.9.7"
  }
 },
 "nbformat": 4,
 "nbformat_minor": 5
}
