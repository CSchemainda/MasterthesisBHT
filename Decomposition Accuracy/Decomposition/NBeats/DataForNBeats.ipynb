{
 "cells": [
  {
   "cell_type": "code",
   "execution_count": 1,
   "id": "2aefb042-a933-4657-9d05-60aa7c7b093a",
   "metadata": {},
   "outputs": [],
   "source": [
    "#import os\n",
    "import warnings\n",
    "\n",
    "warnings.filterwarnings(\"ignore\")\n",
    "\n",
    "#os.chdir(\"../../..\")"
   ]
  },
  {
   "cell_type": "code",
   "execution_count": 2,
   "id": "0a2644d9-87fa-4fc5-9426-6fb43fc990f2",
   "metadata": {},
   "outputs": [],
   "source": [
    "import pandas as pd\n",
    "import pytorch_lightning as pl\n",
    "from pytorch_lightning.callbacks import EarlyStopping\n",
    "import torch\n",
    "import numpy as np\n",
    "from pytorch_forecasting import Baseline, NBeats, TimeSeriesDataSet\n",
    "from pytorch_forecasting.data import NaNLabelEncoder\n",
    "from pytorch_forecasting.data.examples import generate_ar_data\n",
    "from pytorch_forecasting.metrics import SMAPE"
   ]
  },
  {
   "cell_type": "code",
   "execution_count": 3,
   "id": "37d22ea9-a449-438d-938d-c81e00bf7fd6",
   "metadata": {},
   "outputs": [
    {
     "ename": "FileNotFoundError",
     "evalue": "[Errno 2] No such file or directory: '../all_series.csv'",
     "output_type": "error",
     "traceback": [
      "\u001b[1;31m---------------------------------------------------------------------------\u001b[0m",
      "\u001b[1;31mFileNotFoundError\u001b[0m                         Traceback (most recent call last)",
      "Input \u001b[1;32mIn [3]\u001b[0m, in \u001b[0;36m<cell line: 1>\u001b[1;34m()\u001b[0m\n\u001b[1;32m----> 1\u001b[0m df1 \u001b[38;5;241m=\u001b[39m \u001b[43mpd\u001b[49m\u001b[38;5;241;43m.\u001b[39;49m\u001b[43mread_csv\u001b[49m\u001b[43m(\u001b[49m\u001b[38;5;124;43m'\u001b[39;49m\u001b[38;5;124;43m../all_series.csv\u001b[39;49m\u001b[38;5;124;43m'\u001b[39;49m\u001b[43m)\u001b[49m\n\u001b[0;32m      2\u001b[0m df1\u001b[38;5;241m.\u001b[39mhead()\n",
      "File \u001b[1;32m~\\anaconda3\\lib\\site-packages\\pandas\\util\\_decorators.py:311\u001b[0m, in \u001b[0;36mdeprecate_nonkeyword_arguments.<locals>.decorate.<locals>.wrapper\u001b[1;34m(*args, **kwargs)\u001b[0m\n\u001b[0;32m    305\u001b[0m \u001b[38;5;28;01mif\u001b[39;00m \u001b[38;5;28mlen\u001b[39m(args) \u001b[38;5;241m>\u001b[39m num_allow_args:\n\u001b[0;32m    306\u001b[0m     warnings\u001b[38;5;241m.\u001b[39mwarn(\n\u001b[0;32m    307\u001b[0m         msg\u001b[38;5;241m.\u001b[39mformat(arguments\u001b[38;5;241m=\u001b[39marguments),\n\u001b[0;32m    308\u001b[0m         \u001b[38;5;167;01mFutureWarning\u001b[39;00m,\n\u001b[0;32m    309\u001b[0m         stacklevel\u001b[38;5;241m=\u001b[39mstacklevel,\n\u001b[0;32m    310\u001b[0m     )\n\u001b[1;32m--> 311\u001b[0m \u001b[38;5;28;01mreturn\u001b[39;00m func(\u001b[38;5;241m*\u001b[39margs, \u001b[38;5;241m*\u001b[39m\u001b[38;5;241m*\u001b[39mkwargs)\n",
      "File \u001b[1;32m~\\anaconda3\\lib\\site-packages\\pandas\\io\\parsers\\readers.py:680\u001b[0m, in \u001b[0;36mread_csv\u001b[1;34m(filepath_or_buffer, sep, delimiter, header, names, index_col, usecols, squeeze, prefix, mangle_dupe_cols, dtype, engine, converters, true_values, false_values, skipinitialspace, skiprows, skipfooter, nrows, na_values, keep_default_na, na_filter, verbose, skip_blank_lines, parse_dates, infer_datetime_format, keep_date_col, date_parser, dayfirst, cache_dates, iterator, chunksize, compression, thousands, decimal, lineterminator, quotechar, quoting, doublequote, escapechar, comment, encoding, encoding_errors, dialect, error_bad_lines, warn_bad_lines, on_bad_lines, delim_whitespace, low_memory, memory_map, float_precision, storage_options)\u001b[0m\n\u001b[0;32m    665\u001b[0m kwds_defaults \u001b[38;5;241m=\u001b[39m _refine_defaults_read(\n\u001b[0;32m    666\u001b[0m     dialect,\n\u001b[0;32m    667\u001b[0m     delimiter,\n\u001b[1;32m   (...)\u001b[0m\n\u001b[0;32m    676\u001b[0m     defaults\u001b[38;5;241m=\u001b[39m{\u001b[38;5;124m\"\u001b[39m\u001b[38;5;124mdelimiter\u001b[39m\u001b[38;5;124m\"\u001b[39m: \u001b[38;5;124m\"\u001b[39m\u001b[38;5;124m,\u001b[39m\u001b[38;5;124m\"\u001b[39m},\n\u001b[0;32m    677\u001b[0m )\n\u001b[0;32m    678\u001b[0m kwds\u001b[38;5;241m.\u001b[39mupdate(kwds_defaults)\n\u001b[1;32m--> 680\u001b[0m \u001b[38;5;28;01mreturn\u001b[39;00m \u001b[43m_read\u001b[49m\u001b[43m(\u001b[49m\u001b[43mfilepath_or_buffer\u001b[49m\u001b[43m,\u001b[49m\u001b[43m \u001b[49m\u001b[43mkwds\u001b[49m\u001b[43m)\u001b[49m\n",
      "File \u001b[1;32m~\\anaconda3\\lib\\site-packages\\pandas\\io\\parsers\\readers.py:575\u001b[0m, in \u001b[0;36m_read\u001b[1;34m(filepath_or_buffer, kwds)\u001b[0m\n\u001b[0;32m    572\u001b[0m _validate_names(kwds\u001b[38;5;241m.\u001b[39mget(\u001b[38;5;124m\"\u001b[39m\u001b[38;5;124mnames\u001b[39m\u001b[38;5;124m\"\u001b[39m, \u001b[38;5;28;01mNone\u001b[39;00m))\n\u001b[0;32m    574\u001b[0m \u001b[38;5;66;03m# Create the parser.\u001b[39;00m\n\u001b[1;32m--> 575\u001b[0m parser \u001b[38;5;241m=\u001b[39m TextFileReader(filepath_or_buffer, \u001b[38;5;241m*\u001b[39m\u001b[38;5;241m*\u001b[39mkwds)\n\u001b[0;32m    577\u001b[0m \u001b[38;5;28;01mif\u001b[39;00m chunksize \u001b[38;5;129;01mor\u001b[39;00m iterator:\n\u001b[0;32m    578\u001b[0m     \u001b[38;5;28;01mreturn\u001b[39;00m parser\n",
      "File \u001b[1;32m~\\anaconda3\\lib\\site-packages\\pandas\\io\\parsers\\readers.py:934\u001b[0m, in \u001b[0;36mTextFileReader.__init__\u001b[1;34m(self, f, engine, **kwds)\u001b[0m\n\u001b[0;32m    931\u001b[0m     \u001b[38;5;28mself\u001b[39m\u001b[38;5;241m.\u001b[39moptions[\u001b[38;5;124m\"\u001b[39m\u001b[38;5;124mhas_index_names\u001b[39m\u001b[38;5;124m\"\u001b[39m] \u001b[38;5;241m=\u001b[39m kwds[\u001b[38;5;124m\"\u001b[39m\u001b[38;5;124mhas_index_names\u001b[39m\u001b[38;5;124m\"\u001b[39m]\n\u001b[0;32m    933\u001b[0m \u001b[38;5;28mself\u001b[39m\u001b[38;5;241m.\u001b[39mhandles: IOHandles \u001b[38;5;241m|\u001b[39m \u001b[38;5;28;01mNone\u001b[39;00m \u001b[38;5;241m=\u001b[39m \u001b[38;5;28;01mNone\u001b[39;00m\n\u001b[1;32m--> 934\u001b[0m \u001b[38;5;28mself\u001b[39m\u001b[38;5;241m.\u001b[39m_engine \u001b[38;5;241m=\u001b[39m \u001b[38;5;28;43mself\u001b[39;49m\u001b[38;5;241;43m.\u001b[39;49m\u001b[43m_make_engine\u001b[49m\u001b[43m(\u001b[49m\u001b[43mf\u001b[49m\u001b[43m,\u001b[49m\u001b[43m \u001b[49m\u001b[38;5;28;43mself\u001b[39;49m\u001b[38;5;241;43m.\u001b[39;49m\u001b[43mengine\u001b[49m\u001b[43m)\u001b[49m\n",
      "File \u001b[1;32m~\\anaconda3\\lib\\site-packages\\pandas\\io\\parsers\\readers.py:1218\u001b[0m, in \u001b[0;36mTextFileReader._make_engine\u001b[1;34m(self, f, engine)\u001b[0m\n\u001b[0;32m   1214\u001b[0m     mode \u001b[38;5;241m=\u001b[39m \u001b[38;5;124m\"\u001b[39m\u001b[38;5;124mrb\u001b[39m\u001b[38;5;124m\"\u001b[39m\n\u001b[0;32m   1215\u001b[0m \u001b[38;5;66;03m# error: No overload variant of \"get_handle\" matches argument types\u001b[39;00m\n\u001b[0;32m   1216\u001b[0m \u001b[38;5;66;03m# \"Union[str, PathLike[str], ReadCsvBuffer[bytes], ReadCsvBuffer[str]]\"\u001b[39;00m\n\u001b[0;32m   1217\u001b[0m \u001b[38;5;66;03m# , \"str\", \"bool\", \"Any\", \"Any\", \"Any\", \"Any\", \"Any\"\u001b[39;00m\n\u001b[1;32m-> 1218\u001b[0m \u001b[38;5;28mself\u001b[39m\u001b[38;5;241m.\u001b[39mhandles \u001b[38;5;241m=\u001b[39m \u001b[43mget_handle\u001b[49m\u001b[43m(\u001b[49m\u001b[43m  \u001b[49m\u001b[38;5;66;43;03m# type: ignore[call-overload]\u001b[39;49;00m\n\u001b[0;32m   1219\u001b[0m \u001b[43m    \u001b[49m\u001b[43mf\u001b[49m\u001b[43m,\u001b[49m\n\u001b[0;32m   1220\u001b[0m \u001b[43m    \u001b[49m\u001b[43mmode\u001b[49m\u001b[43m,\u001b[49m\n\u001b[0;32m   1221\u001b[0m \u001b[43m    \u001b[49m\u001b[43mencoding\u001b[49m\u001b[38;5;241;43m=\u001b[39;49m\u001b[38;5;28;43mself\u001b[39;49m\u001b[38;5;241;43m.\u001b[39;49m\u001b[43moptions\u001b[49m\u001b[38;5;241;43m.\u001b[39;49m\u001b[43mget\u001b[49m\u001b[43m(\u001b[49m\u001b[38;5;124;43m\"\u001b[39;49m\u001b[38;5;124;43mencoding\u001b[39;49m\u001b[38;5;124;43m\"\u001b[39;49m\u001b[43m,\u001b[49m\u001b[43m \u001b[49m\u001b[38;5;28;43;01mNone\u001b[39;49;00m\u001b[43m)\u001b[49m\u001b[43m,\u001b[49m\n\u001b[0;32m   1222\u001b[0m \u001b[43m    \u001b[49m\u001b[43mcompression\u001b[49m\u001b[38;5;241;43m=\u001b[39;49m\u001b[38;5;28;43mself\u001b[39;49m\u001b[38;5;241;43m.\u001b[39;49m\u001b[43moptions\u001b[49m\u001b[38;5;241;43m.\u001b[39;49m\u001b[43mget\u001b[49m\u001b[43m(\u001b[49m\u001b[38;5;124;43m\"\u001b[39;49m\u001b[38;5;124;43mcompression\u001b[39;49m\u001b[38;5;124;43m\"\u001b[39;49m\u001b[43m,\u001b[49m\u001b[43m \u001b[49m\u001b[38;5;28;43;01mNone\u001b[39;49;00m\u001b[43m)\u001b[49m\u001b[43m,\u001b[49m\n\u001b[0;32m   1223\u001b[0m \u001b[43m    \u001b[49m\u001b[43mmemory_map\u001b[49m\u001b[38;5;241;43m=\u001b[39;49m\u001b[38;5;28;43mself\u001b[39;49m\u001b[38;5;241;43m.\u001b[39;49m\u001b[43moptions\u001b[49m\u001b[38;5;241;43m.\u001b[39;49m\u001b[43mget\u001b[49m\u001b[43m(\u001b[49m\u001b[38;5;124;43m\"\u001b[39;49m\u001b[38;5;124;43mmemory_map\u001b[39;49m\u001b[38;5;124;43m\"\u001b[39;49m\u001b[43m,\u001b[49m\u001b[43m \u001b[49m\u001b[38;5;28;43;01mFalse\u001b[39;49;00m\u001b[43m)\u001b[49m\u001b[43m,\u001b[49m\n\u001b[0;32m   1224\u001b[0m \u001b[43m    \u001b[49m\u001b[43mis_text\u001b[49m\u001b[38;5;241;43m=\u001b[39;49m\u001b[43mis_text\u001b[49m\u001b[43m,\u001b[49m\n\u001b[0;32m   1225\u001b[0m \u001b[43m    \u001b[49m\u001b[43merrors\u001b[49m\u001b[38;5;241;43m=\u001b[39;49m\u001b[38;5;28;43mself\u001b[39;49m\u001b[38;5;241;43m.\u001b[39;49m\u001b[43moptions\u001b[49m\u001b[38;5;241;43m.\u001b[39;49m\u001b[43mget\u001b[49m\u001b[43m(\u001b[49m\u001b[38;5;124;43m\"\u001b[39;49m\u001b[38;5;124;43mencoding_errors\u001b[39;49m\u001b[38;5;124;43m\"\u001b[39;49m\u001b[43m,\u001b[49m\u001b[43m \u001b[49m\u001b[38;5;124;43m\"\u001b[39;49m\u001b[38;5;124;43mstrict\u001b[39;49m\u001b[38;5;124;43m\"\u001b[39;49m\u001b[43m)\u001b[49m\u001b[43m,\u001b[49m\n\u001b[0;32m   1226\u001b[0m \u001b[43m    \u001b[49m\u001b[43mstorage_options\u001b[49m\u001b[38;5;241;43m=\u001b[39;49m\u001b[38;5;28;43mself\u001b[39;49m\u001b[38;5;241;43m.\u001b[39;49m\u001b[43moptions\u001b[49m\u001b[38;5;241;43m.\u001b[39;49m\u001b[43mget\u001b[49m\u001b[43m(\u001b[49m\u001b[38;5;124;43m\"\u001b[39;49m\u001b[38;5;124;43mstorage_options\u001b[39;49m\u001b[38;5;124;43m\"\u001b[39;49m\u001b[43m,\u001b[49m\u001b[43m \u001b[49m\u001b[38;5;28;43;01mNone\u001b[39;49;00m\u001b[43m)\u001b[49m\u001b[43m,\u001b[49m\n\u001b[0;32m   1227\u001b[0m \u001b[43m\u001b[49m\u001b[43m)\u001b[49m\n\u001b[0;32m   1228\u001b[0m \u001b[38;5;28;01massert\u001b[39;00m \u001b[38;5;28mself\u001b[39m\u001b[38;5;241m.\u001b[39mhandles \u001b[38;5;129;01mis\u001b[39;00m \u001b[38;5;129;01mnot\u001b[39;00m \u001b[38;5;28;01mNone\u001b[39;00m\n\u001b[0;32m   1229\u001b[0m f \u001b[38;5;241m=\u001b[39m \u001b[38;5;28mself\u001b[39m\u001b[38;5;241m.\u001b[39mhandles\u001b[38;5;241m.\u001b[39mhandle\n",
      "File \u001b[1;32m~\\anaconda3\\lib\\site-packages\\pandas\\io\\common.py:786\u001b[0m, in \u001b[0;36mget_handle\u001b[1;34m(path_or_buf, mode, encoding, compression, memory_map, is_text, errors, storage_options)\u001b[0m\n\u001b[0;32m    781\u001b[0m \u001b[38;5;28;01melif\u001b[39;00m \u001b[38;5;28misinstance\u001b[39m(handle, \u001b[38;5;28mstr\u001b[39m):\n\u001b[0;32m    782\u001b[0m     \u001b[38;5;66;03m# Check whether the filename is to be opened in binary mode.\u001b[39;00m\n\u001b[0;32m    783\u001b[0m     \u001b[38;5;66;03m# Binary mode does not support 'encoding' and 'newline'.\u001b[39;00m\n\u001b[0;32m    784\u001b[0m     \u001b[38;5;28;01mif\u001b[39;00m ioargs\u001b[38;5;241m.\u001b[39mencoding \u001b[38;5;129;01mand\u001b[39;00m \u001b[38;5;124m\"\u001b[39m\u001b[38;5;124mb\u001b[39m\u001b[38;5;124m\"\u001b[39m \u001b[38;5;129;01mnot\u001b[39;00m \u001b[38;5;129;01min\u001b[39;00m ioargs\u001b[38;5;241m.\u001b[39mmode:\n\u001b[0;32m    785\u001b[0m         \u001b[38;5;66;03m# Encoding\u001b[39;00m\n\u001b[1;32m--> 786\u001b[0m         handle \u001b[38;5;241m=\u001b[39m \u001b[38;5;28;43mopen\u001b[39;49m\u001b[43m(\u001b[49m\n\u001b[0;32m    787\u001b[0m \u001b[43m            \u001b[49m\u001b[43mhandle\u001b[49m\u001b[43m,\u001b[49m\n\u001b[0;32m    788\u001b[0m \u001b[43m            \u001b[49m\u001b[43mioargs\u001b[49m\u001b[38;5;241;43m.\u001b[39;49m\u001b[43mmode\u001b[49m\u001b[43m,\u001b[49m\n\u001b[0;32m    789\u001b[0m \u001b[43m            \u001b[49m\u001b[43mencoding\u001b[49m\u001b[38;5;241;43m=\u001b[39;49m\u001b[43mioargs\u001b[49m\u001b[38;5;241;43m.\u001b[39;49m\u001b[43mencoding\u001b[49m\u001b[43m,\u001b[49m\n\u001b[0;32m    790\u001b[0m \u001b[43m            \u001b[49m\u001b[43merrors\u001b[49m\u001b[38;5;241;43m=\u001b[39;49m\u001b[43merrors\u001b[49m\u001b[43m,\u001b[49m\n\u001b[0;32m    791\u001b[0m \u001b[43m            \u001b[49m\u001b[43mnewline\u001b[49m\u001b[38;5;241;43m=\u001b[39;49m\u001b[38;5;124;43m\"\u001b[39;49m\u001b[38;5;124;43m\"\u001b[39;49m\u001b[43m,\u001b[49m\n\u001b[0;32m    792\u001b[0m \u001b[43m        \u001b[49m\u001b[43m)\u001b[49m\n\u001b[0;32m    793\u001b[0m     \u001b[38;5;28;01melse\u001b[39;00m:\n\u001b[0;32m    794\u001b[0m         \u001b[38;5;66;03m# Binary mode\u001b[39;00m\n\u001b[0;32m    795\u001b[0m         handle \u001b[38;5;241m=\u001b[39m \u001b[38;5;28mopen\u001b[39m(handle, ioargs\u001b[38;5;241m.\u001b[39mmode)\n",
      "\u001b[1;31mFileNotFoundError\u001b[0m: [Errno 2] No such file or directory: '../all_series.csv'"
     ]
    }
   ],
   "source": [
    "df1 = pd.read_csv('../all_series.csv')\n",
    "df1.head()"
   ]
  },
  {
   "cell_type": "code",
   "execution_count": 6,
   "id": "8cbd538a-ef80-4205-b52d-fa5ac490be90",
   "metadata": {},
   "outputs": [],
   "source": [
    "from pytorch_forecasting import TimeSeriesDataSet\n",
    "\n",
    "max_encoder_length=1095  # This is the lookbackwindow\n",
    "max_prediction_length=365 # This is the prediction window / horizon \n",
    "\n",
    "training_cutoff = df1[\"time_idx\"].max() - max_prediction_length\n",
    "\n",
    "\n",
    "# create the dataset from the pandas dataframe\n",
    "training = TimeSeriesDataSet(\n",
    "    df1,\n",
    "    group_ids=[\"group\"],\n",
    "    target=\"value\",\n",
    "    time_idx=\"time_idx\",\n",
    "    #min_encoder_length=200,\n",
    "    max_encoder_length=max_encoder_length,\n",
    "    #min_prediction_length=50,\n",
    "    max_prediction_length=max_prediction_length,\n",
    "    time_varying_unknown_reals=[\"value\"],\n",
    ")\n",
    "\n",
    "validation = TimeSeriesDataSet.from_dataset(training, df1, min_prediction_idx=training_cutoff + 1)\n",
    "batch_size = 1024 # Aus dem Paper \n",
    "train_dataloader = training.to_dataloader(train=True, batch_size=batch_size, num_workers=0)\n",
    "val_dataloader = validation.to_dataloader(train=False, batch_size=batch_size, num_workers=0)"
   ]
  },
  {
   "cell_type": "code",
   "execution_count": 7,
   "id": "d3667320-613d-469c-89a9-a991ed8c728d",
   "metadata": {},
   "outputs": [
    {
     "name": "stdout",
     "output_type": "stream",
     "text": [
      "tensor(0.3471)\n"
     ]
    },
    {
     "name": "stderr",
     "output_type": "stream",
     "text": [
      "C:\\Users\\strub\\anaconda3\\lib\\site-packages\\pytorch_lightning\\utilities\\parsing.py:261: UserWarning: Attribute 'loss' is an instance of `nn.Module` and is already saved during checkpointing. It is recommended to ignore them using `self.save_hyperparameters(ignore=['loss'])`.\n",
      "  rank_zero_warn(\n",
      "C:\\Users\\strub\\anaconda3\\lib\\site-packages\\pytorch_lightning\\utilities\\parsing.py:261: UserWarning: Attribute 'logging_metrics' is an instance of `nn.Module` and is already saved during checkpointing. It is recommended to ignore them using `self.save_hyperparameters(ignore=['logging_metrics'])`.\n",
      "  rank_zero_warn(\n",
      "C:\\Users\\strub\\anaconda3\\lib\\site-packages\\torchmetrics\\utilities\\prints.py:36: UserWarning: Torchmetrics v0.9 introduced a new argument class property called `full_state_update` that has\n",
      "                not been set for this class (SMAPE). The property determines if `update` by\n",
      "                default needs access to the full metric state. If this is not the case, significant speedups can be\n",
      "                achieved and we recommend setting this to `False`.\n",
      "                We provide an checking function\n",
      "                `from torchmetrics.utilities import check_forward_full_state_property`\n",
      "                that can be used to check if the `full_state_update=True` (old and potential slower behaviour,\n",
      "                default for now) or if `full_state_update=False` can be used safely.\n",
      "                \n",
      "  warnings.warn(*args, **kwargs)\n"
     ]
    },
    {
     "data": {
      "text/plain": [
       "tensor(0.3223)"
      ]
     },
     "execution_count": 7,
     "metadata": {},
     "output_type": "execute_result"
    }
   ],
   "source": [
    "actuals = torch.cat([y[0] for x, y in iter(val_dataloader)])\n",
    "baseline_predictions = Baseline().predict(val_dataloader)\n",
    "print(SMAPE()(baseline_predictions, actuals))\n",
    "(actuals - baseline_predictions).abs().mean()"
   ]
  },
  {
   "cell_type": "code",
   "execution_count": 22,
   "id": "434612d7-85e1-4d80-aad9-16fb5efe3a49",
   "metadata": {},
   "outputs": [
    {
     "name": "stderr",
     "output_type": "stream",
     "text": [
      "Global seed set to 42\n",
      "GPU available: False, used: False\n",
      "TPU available: False, using: 0 TPU cores\n",
      "IPU available: False, using: 0 IPUs\n",
      "HPU available: False, using: 0 HPUs\n"
     ]
    }
   ],
   "source": [
    "pl.seed_everything(42)\n",
    "trainer = pl.Trainer(gpus=0, gradient_clip_val=0.01)\n",
    "net = NBeats.from_dataset(training, learning_rate=3e-2, weight_decay=1e-2, widths=[32, 512], backcast_loss_ratio=0.1)"
   ]
  },
  {
   "cell_type": "markdown",
   "id": "e52ef214-05b5-46f1-af3b-dd95a6313a2b",
   "metadata": {},
   "source": [
    "### Find best learnin rate"
   ]
  },
  {
   "cell_type": "code",
   "execution_count": 148,
   "id": "9a408e4c-2bcf-463c-9cd9-0ac59c49c76d",
   "metadata": {},
   "outputs": [],
   "source": [
    "#res = trainer.tuner.lr_find(net, train_dataloaders=train_dataloader, val_dataloaders=val_dataloader, min_lr=1e-5)\n",
    "#print(f\"suggested learning rate: {res.suggestion()}\")\n",
    "#fig = res.plot(show=True, suggest=True)\n",
    "#fig.show()\n",
    "#net.hparams.learning_rate = res.suggestion()"
   ]
  },
  {
   "cell_type": "markdown",
   "id": "b3bc4b6a-fd7a-4fcd-8dc8-a046109535a1",
   "metadata": {},
   "source": [
    "### Fit Model"
   ]
  },
  {
   "cell_type": "code",
   "execution_count": 23,
   "id": "18d2c54d-6517-4cce-8861-42c8de411fef",
   "metadata": {},
   "outputs": [
    {
     "name": "stderr",
     "output_type": "stream",
     "text": [
      "GPU available: False, used: False\n",
      "TPU available: False, using: 0 TPU cores\n",
      "IPU available: False, using: 0 IPUs\n",
      "HPU available: False, using: 0 HPUs\n",
      "\n",
      "  | Name            | Type       | Params\n",
      "-----------------------------------------------\n",
      "0 | loss            | MASE       | 0     \n",
      "1 | logging_metrics | ModuleList | 0     \n",
      "2 | net_blocks      | ModuleList | 40.5 M\n",
      "-----------------------------------------------\n",
      "40.5 M    Trainable params\n",
      "0         Non-trainable params\n",
      "40.5 M    Total params\n",
      "161.811   Total estimated model params size (MB)\n"
     ]
    },
    {
     "data": {
      "application/vnd.jupyter.widget-view+json": {
       "model_id": "",
       "version_major": 2,
       "version_minor": 0
      },
      "text/plain": [
       "Sanity Checking: 0it [00:00, ?it/s]"
      ]
     },
     "metadata": {},
     "output_type": "display_data"
    },
    {
     "data": {
      "application/vnd.jupyter.widget-view+json": {
       "model_id": "cfead13000c449999c06776ad107d4f5",
       "version_major": 2,
       "version_minor": 0
      },
      "text/plain": [
       "Training: 0it [00:00, ?it/s]"
      ]
     },
     "metadata": {},
     "output_type": "display_data"
    },
    {
     "data": {
      "application/vnd.jupyter.widget-view+json": {
       "model_id": "",
       "version_major": 2,
       "version_minor": 0
      },
      "text/plain": [
       "Validation: 0it [00:00, ?it/s]"
      ]
     },
     "metadata": {},
     "output_type": "display_data"
    },
    {
     "data": {
      "application/vnd.jupyter.widget-view+json": {
       "model_id": "",
       "version_major": 2,
       "version_minor": 0
      },
      "text/plain": [
       "Validation: 0it [00:00, ?it/s]"
      ]
     },
     "metadata": {},
     "output_type": "display_data"
    },
    {
     "data": {
      "application/vnd.jupyter.widget-view+json": {
       "model_id": "",
       "version_major": 2,
       "version_minor": 0
      },
      "text/plain": [
       "Validation: 0it [00:00, ?it/s]"
      ]
     },
     "metadata": {},
     "output_type": "display_data"
    },
    {
     "data": {
      "application/vnd.jupyter.widget-view+json": {
       "model_id": "",
       "version_major": 2,
       "version_minor": 0
      },
      "text/plain": [
       "Validation: 0it [00:00, ?it/s]"
      ]
     },
     "metadata": {},
     "output_type": "display_data"
    },
    {
     "data": {
      "application/vnd.jupyter.widget-view+json": {
       "model_id": "",
       "version_major": 2,
       "version_minor": 0
      },
      "text/plain": [
       "Validation: 0it [00:00, ?it/s]"
      ]
     },
     "metadata": {},
     "output_type": "display_data"
    },
    {
     "data": {
      "application/vnd.jupyter.widget-view+json": {
       "model_id": "",
       "version_major": 2,
       "version_minor": 0
      },
      "text/plain": [
       "Validation: 0it [00:00, ?it/s]"
      ]
     },
     "metadata": {},
     "output_type": "display_data"
    },
    {
     "data": {
      "application/vnd.jupyter.widget-view+json": {
       "model_id": "",
       "version_major": 2,
       "version_minor": 0
      },
      "text/plain": [
       "Validation: 0it [00:00, ?it/s]"
      ]
     },
     "metadata": {},
     "output_type": "display_data"
    },
    {
     "data": {
      "application/vnd.jupyter.widget-view+json": {
       "model_id": "",
       "version_major": 2,
       "version_minor": 0
      },
      "text/plain": [
       "Validation: 0it [00:00, ?it/s]"
      ]
     },
     "metadata": {},
     "output_type": "display_data"
    },
    {
     "data": {
      "application/vnd.jupyter.widget-view+json": {
       "model_id": "",
       "version_major": 2,
       "version_minor": 0
      },
      "text/plain": [
       "Validation: 0it [00:00, ?it/s]"
      ]
     },
     "metadata": {},
     "output_type": "display_data"
    },
    {
     "data": {
      "application/vnd.jupyter.widget-view+json": {
       "model_id": "",
       "version_major": 2,
       "version_minor": 0
      },
      "text/plain": [
       "Validation: 0it [00:00, ?it/s]"
      ]
     },
     "metadata": {},
     "output_type": "display_data"
    },
    {
     "data": {
      "application/vnd.jupyter.widget-view+json": {
       "model_id": "",
       "version_major": 2,
       "version_minor": 0
      },
      "text/plain": [
       "Validation: 0it [00:00, ?it/s]"
      ]
     },
     "metadata": {},
     "output_type": "display_data"
    },
    {
     "data": {
      "application/vnd.jupyter.widget-view+json": {
       "model_id": "",
       "version_major": 2,
       "version_minor": 0
      },
      "text/plain": [
       "Validation: 0it [00:00, ?it/s]"
      ]
     },
     "metadata": {},
     "output_type": "display_data"
    },
    {
     "data": {
      "application/vnd.jupyter.widget-view+json": {
       "model_id": "",
       "version_major": 2,
       "version_minor": 0
      },
      "text/plain": [
       "Validation: 0it [00:00, ?it/s]"
      ]
     },
     "metadata": {},
     "output_type": "display_data"
    },
    {
     "data": {
      "application/vnd.jupyter.widget-view+json": {
       "model_id": "",
       "version_major": 2,
       "version_minor": 0
      },
      "text/plain": [
       "Validation: 0it [00:00, ?it/s]"
      ]
     },
     "metadata": {},
     "output_type": "display_data"
    },
    {
     "data": {
      "application/vnd.jupyter.widget-view+json": {
       "model_id": "",
       "version_major": 2,
       "version_minor": 0
      },
      "text/plain": [
       "Validation: 0it [00:00, ?it/s]"
      ]
     },
     "metadata": {},
     "output_type": "display_data"
    },
    {
     "data": {
      "application/vnd.jupyter.widget-view+json": {
       "model_id": "",
       "version_major": 2,
       "version_minor": 0
      },
      "text/plain": [
       "Validation: 0it [00:00, ?it/s]"
      ]
     },
     "metadata": {},
     "output_type": "display_data"
    },
    {
     "data": {
      "application/vnd.jupyter.widget-view+json": {
       "model_id": "",
       "version_major": 2,
       "version_minor": 0
      },
      "text/plain": [
       "Validation: 0it [00:00, ?it/s]"
      ]
     },
     "metadata": {},
     "output_type": "display_data"
    },
    {
     "data": {
      "application/vnd.jupyter.widget-view+json": {
       "model_id": "",
       "version_major": 2,
       "version_minor": 0
      },
      "text/plain": [
       "Validation: 0it [00:00, ?it/s]"
      ]
     },
     "metadata": {},
     "output_type": "display_data"
    },
    {
     "data": {
      "application/vnd.jupyter.widget-view+json": {
       "model_id": "",
       "version_major": 2,
       "version_minor": 0
      },
      "text/plain": [
       "Validation: 0it [00:00, ?it/s]"
      ]
     },
     "metadata": {},
     "output_type": "display_data"
    },
    {
     "data": {
      "application/vnd.jupyter.widget-view+json": {
       "model_id": "",
       "version_major": 2,
       "version_minor": 0
      },
      "text/plain": [
       "Validation: 0it [00:00, ?it/s]"
      ]
     },
     "metadata": {},
     "output_type": "display_data"
    },
    {
     "data": {
      "application/vnd.jupyter.widget-view+json": {
       "model_id": "",
       "version_major": 2,
       "version_minor": 0
      },
      "text/plain": [
       "Validation: 0it [00:00, ?it/s]"
      ]
     },
     "metadata": {},
     "output_type": "display_data"
    },
    {
     "data": {
      "application/vnd.jupyter.widget-view+json": {
       "model_id": "",
       "version_major": 2,
       "version_minor": 0
      },
      "text/plain": [
       "Validation: 0it [00:00, ?it/s]"
      ]
     },
     "metadata": {},
     "output_type": "display_data"
    },
    {
     "data": {
      "application/vnd.jupyter.widget-view+json": {
       "model_id": "",
       "version_major": 2,
       "version_minor": 0
      },
      "text/plain": [
       "Validation: 0it [00:00, ?it/s]"
      ]
     },
     "metadata": {},
     "output_type": "display_data"
    },
    {
     "data": {
      "application/vnd.jupyter.widget-view+json": {
       "model_id": "",
       "version_major": 2,
       "version_minor": 0
      },
      "text/plain": [
       "Validation: 0it [00:00, ?it/s]"
      ]
     },
     "metadata": {},
     "output_type": "display_data"
    },
    {
     "data": {
      "application/vnd.jupyter.widget-view+json": {
       "model_id": "",
       "version_major": 2,
       "version_minor": 0
      },
      "text/plain": [
       "Validation: 0it [00:00, ?it/s]"
      ]
     },
     "metadata": {},
     "output_type": "display_data"
    },
    {
     "data": {
      "application/vnd.jupyter.widget-view+json": {
       "model_id": "",
       "version_major": 2,
       "version_minor": 0
      },
      "text/plain": [
       "Validation: 0it [00:00, ?it/s]"
      ]
     },
     "metadata": {},
     "output_type": "display_data"
    },
    {
     "data": {
      "application/vnd.jupyter.widget-view+json": {
       "model_id": "",
       "version_major": 2,
       "version_minor": 0
      },
      "text/plain": [
       "Validation: 0it [00:00, ?it/s]"
      ]
     },
     "metadata": {},
     "output_type": "display_data"
    },
    {
     "data": {
      "application/vnd.jupyter.widget-view+json": {
       "model_id": "",
       "version_major": 2,
       "version_minor": 0
      },
      "text/plain": [
       "Validation: 0it [00:00, ?it/s]"
      ]
     },
     "metadata": {},
     "output_type": "display_data"
    },
    {
     "data": {
      "application/vnd.jupyter.widget-view+json": {
       "model_id": "",
       "version_major": 2,
       "version_minor": 0
      },
      "text/plain": [
       "Validation: 0it [00:00, ?it/s]"
      ]
     },
     "metadata": {},
     "output_type": "display_data"
    },
    {
     "data": {
      "application/vnd.jupyter.widget-view+json": {
       "model_id": "",
       "version_major": 2,
       "version_minor": 0
      },
      "text/plain": [
       "Validation: 0it [00:00, ?it/s]"
      ]
     },
     "metadata": {},
     "output_type": "display_data"
    },
    {
     "data": {
      "application/vnd.jupyter.widget-view+json": {
       "model_id": "",
       "version_major": 2,
       "version_minor": 0
      },
      "text/plain": [
       "Validation: 0it [00:00, ?it/s]"
      ]
     },
     "metadata": {},
     "output_type": "display_data"
    },
    {
     "data": {
      "application/vnd.jupyter.widget-view+json": {
       "model_id": "",
       "version_major": 2,
       "version_minor": 0
      },
      "text/plain": [
       "Validation: 0it [00:00, ?it/s]"
      ]
     },
     "metadata": {},
     "output_type": "display_data"
    },
    {
     "data": {
      "application/vnd.jupyter.widget-view+json": {
       "model_id": "",
       "version_major": 2,
       "version_minor": 0
      },
      "text/plain": [
       "Validation: 0it [00:00, ?it/s]"
      ]
     },
     "metadata": {},
     "output_type": "display_data"
    },
    {
     "data": {
      "application/vnd.jupyter.widget-view+json": {
       "model_id": "",
       "version_major": 2,
       "version_minor": 0
      },
      "text/plain": [
       "Validation: 0it [00:00, ?it/s]"
      ]
     },
     "metadata": {},
     "output_type": "display_data"
    },
    {
     "data": {
      "application/vnd.jupyter.widget-view+json": {
       "model_id": "",
       "version_major": 2,
       "version_minor": 0
      },
      "text/plain": [
       "Validation: 0it [00:00, ?it/s]"
      ]
     },
     "metadata": {},
     "output_type": "display_data"
    },
    {
     "data": {
      "application/vnd.jupyter.widget-view+json": {
       "model_id": "",
       "version_major": 2,
       "version_minor": 0
      },
      "text/plain": [
       "Validation: 0it [00:00, ?it/s]"
      ]
     },
     "metadata": {},
     "output_type": "display_data"
    },
    {
     "data": {
      "application/vnd.jupyter.widget-view+json": {
       "model_id": "",
       "version_major": 2,
       "version_minor": 0
      },
      "text/plain": [
       "Validation: 0it [00:00, ?it/s]"
      ]
     },
     "metadata": {},
     "output_type": "display_data"
    },
    {
     "data": {
      "application/vnd.jupyter.widget-view+json": {
       "model_id": "",
       "version_major": 2,
       "version_minor": 0
      },
      "text/plain": [
       "Validation: 0it [00:00, ?it/s]"
      ]
     },
     "metadata": {},
     "output_type": "display_data"
    },
    {
     "data": {
      "application/vnd.jupyter.widget-view+json": {
       "model_id": "",
       "version_major": 2,
       "version_minor": 0
      },
      "text/plain": [
       "Validation: 0it [00:00, ?it/s]"
      ]
     },
     "metadata": {},
     "output_type": "display_data"
    },
    {
     "data": {
      "application/vnd.jupyter.widget-view+json": {
       "model_id": "",
       "version_major": 2,
       "version_minor": 0
      },
      "text/plain": [
       "Validation: 0it [00:00, ?it/s]"
      ]
     },
     "metadata": {},
     "output_type": "display_data"
    },
    {
     "data": {
      "application/vnd.jupyter.widget-view+json": {
       "model_id": "",
       "version_major": 2,
       "version_minor": 0
      },
      "text/plain": [
       "Validation: 0it [00:00, ?it/s]"
      ]
     },
     "metadata": {},
     "output_type": "display_data"
    },
    {
     "data": {
      "application/vnd.jupyter.widget-view+json": {
       "model_id": "",
       "version_major": 2,
       "version_minor": 0
      },
      "text/plain": [
       "Validation: 0it [00:00, ?it/s]"
      ]
     },
     "metadata": {},
     "output_type": "display_data"
    },
    {
     "data": {
      "application/vnd.jupyter.widget-view+json": {
       "model_id": "",
       "version_major": 2,
       "version_minor": 0
      },
      "text/plain": [
       "Validation: 0it [00:00, ?it/s]"
      ]
     },
     "metadata": {},
     "output_type": "display_data"
    },
    {
     "data": {
      "application/vnd.jupyter.widget-view+json": {
       "model_id": "",
       "version_major": 2,
       "version_minor": 0
      },
      "text/plain": [
       "Validation: 0it [00:00, ?it/s]"
      ]
     },
     "metadata": {},
     "output_type": "display_data"
    },
    {
     "data": {
      "application/vnd.jupyter.widget-view+json": {
       "model_id": "",
       "version_major": 2,
       "version_minor": 0
      },
      "text/plain": [
       "Validation: 0it [00:00, ?it/s]"
      ]
     },
     "metadata": {},
     "output_type": "display_data"
    },
    {
     "data": {
      "application/vnd.jupyter.widget-view+json": {
       "model_id": "",
       "version_major": 2,
       "version_minor": 0
      },
      "text/plain": [
       "Validation: 0it [00:00, ?it/s]"
      ]
     },
     "metadata": {},
     "output_type": "display_data"
    },
    {
     "data": {
      "application/vnd.jupyter.widget-view+json": {
       "model_id": "",
       "version_major": 2,
       "version_minor": 0
      },
      "text/plain": [
       "Validation: 0it [00:00, ?it/s]"
      ]
     },
     "metadata": {},
     "output_type": "display_data"
    },
    {
     "data": {
      "application/vnd.jupyter.widget-view+json": {
       "model_id": "",
       "version_major": 2,
       "version_minor": 0
      },
      "text/plain": [
       "Validation: 0it [00:00, ?it/s]"
      ]
     },
     "metadata": {},
     "output_type": "display_data"
    },
    {
     "data": {
      "application/vnd.jupyter.widget-view+json": {
       "model_id": "",
       "version_major": 2,
       "version_minor": 0
      },
      "text/plain": [
       "Validation: 0it [00:00, ?it/s]"
      ]
     },
     "metadata": {},
     "output_type": "display_data"
    },
    {
     "data": {
      "application/vnd.jupyter.widget-view+json": {
       "model_id": "",
       "version_major": 2,
       "version_minor": 0
      },
      "text/plain": [
       "Validation: 0it [00:00, ?it/s]"
      ]
     },
     "metadata": {},
     "output_type": "display_data"
    },
    {
     "data": {
      "application/vnd.jupyter.widget-view+json": {
       "model_id": "",
       "version_major": 2,
       "version_minor": 0
      },
      "text/plain": [
       "Validation: 0it [00:00, ?it/s]"
      ]
     },
     "metadata": {},
     "output_type": "display_data"
    },
    {
     "data": {
      "application/vnd.jupyter.widget-view+json": {
       "model_id": "",
       "version_major": 2,
       "version_minor": 0
      },
      "text/plain": [
       "Validation: 0it [00:00, ?it/s]"
      ]
     },
     "metadata": {},
     "output_type": "display_data"
    },
    {
     "data": {
      "application/vnd.jupyter.widget-view+json": {
       "model_id": "",
       "version_major": 2,
       "version_minor": 0
      },
      "text/plain": [
       "Validation: 0it [00:00, ?it/s]"
      ]
     },
     "metadata": {},
     "output_type": "display_data"
    },
    {
     "data": {
      "application/vnd.jupyter.widget-view+json": {
       "model_id": "",
       "version_major": 2,
       "version_minor": 0
      },
      "text/plain": [
       "Validation: 0it [00:00, ?it/s]"
      ]
     },
     "metadata": {},
     "output_type": "display_data"
    },
    {
     "data": {
      "application/vnd.jupyter.widget-view+json": {
       "model_id": "",
       "version_major": 2,
       "version_minor": 0
      },
      "text/plain": [
       "Validation: 0it [00:00, ?it/s]"
      ]
     },
     "metadata": {},
     "output_type": "display_data"
    },
    {
     "data": {
      "application/vnd.jupyter.widget-view+json": {
       "model_id": "",
       "version_major": 2,
       "version_minor": 0
      },
      "text/plain": [
       "Validation: 0it [00:00, ?it/s]"
      ]
     },
     "metadata": {},
     "output_type": "display_data"
    },
    {
     "data": {
      "application/vnd.jupyter.widget-view+json": {
       "model_id": "",
       "version_major": 2,
       "version_minor": 0
      },
      "text/plain": [
       "Validation: 0it [00:00, ?it/s]"
      ]
     },
     "metadata": {},
     "output_type": "display_data"
    },
    {
     "data": {
      "application/vnd.jupyter.widget-view+json": {
       "model_id": "",
       "version_major": 2,
       "version_minor": 0
      },
      "text/plain": [
       "Validation: 0it [00:00, ?it/s]"
      ]
     },
     "metadata": {},
     "output_type": "display_data"
    },
    {
     "data": {
      "application/vnd.jupyter.widget-view+json": {
       "model_id": "",
       "version_major": 2,
       "version_minor": 0
      },
      "text/plain": [
       "Validation: 0it [00:00, ?it/s]"
      ]
     },
     "metadata": {},
     "output_type": "display_data"
    },
    {
     "data": {
      "application/vnd.jupyter.widget-view+json": {
       "model_id": "",
       "version_major": 2,
       "version_minor": 0
      },
      "text/plain": [
       "Validation: 0it [00:00, ?it/s]"
      ]
     },
     "metadata": {},
     "output_type": "display_data"
    },
    {
     "data": {
      "application/vnd.jupyter.widget-view+json": {
       "model_id": "",
       "version_major": 2,
       "version_minor": 0
      },
      "text/plain": [
       "Validation: 0it [00:00, ?it/s]"
      ]
     },
     "metadata": {},
     "output_type": "display_data"
    },
    {
     "data": {
      "application/vnd.jupyter.widget-view+json": {
       "model_id": "",
       "version_major": 2,
       "version_minor": 0
      },
      "text/plain": [
       "Validation: 0it [00:00, ?it/s]"
      ]
     },
     "metadata": {},
     "output_type": "display_data"
    },
    {
     "data": {
      "application/vnd.jupyter.widget-view+json": {
       "model_id": "",
       "version_major": 2,
       "version_minor": 0
      },
      "text/plain": [
       "Validation: 0it [00:00, ?it/s]"
      ]
     },
     "metadata": {},
     "output_type": "display_data"
    },
    {
     "data": {
      "application/vnd.jupyter.widget-view+json": {
       "model_id": "",
       "version_major": 2,
       "version_minor": 0
      },
      "text/plain": [
       "Validation: 0it [00:00, ?it/s]"
      ]
     },
     "metadata": {},
     "output_type": "display_data"
    },
    {
     "data": {
      "application/vnd.jupyter.widget-view+json": {
       "model_id": "",
       "version_major": 2,
       "version_minor": 0
      },
      "text/plain": [
       "Validation: 0it [00:00, ?it/s]"
      ]
     },
     "metadata": {},
     "output_type": "display_data"
    },
    {
     "data": {
      "application/vnd.jupyter.widget-view+json": {
       "model_id": "",
       "version_major": 2,
       "version_minor": 0
      },
      "text/plain": [
       "Validation: 0it [00:00, ?it/s]"
      ]
     },
     "metadata": {},
     "output_type": "display_data"
    },
    {
     "data": {
      "application/vnd.jupyter.widget-view+json": {
       "model_id": "",
       "version_major": 2,
       "version_minor": 0
      },
      "text/plain": [
       "Validation: 0it [00:00, ?it/s]"
      ]
     },
     "metadata": {},
     "output_type": "display_data"
    },
    {
     "data": {
      "application/vnd.jupyter.widget-view+json": {
       "model_id": "",
       "version_major": 2,
       "version_minor": 0
      },
      "text/plain": [
       "Validation: 0it [00:00, ?it/s]"
      ]
     },
     "metadata": {},
     "output_type": "display_data"
    },
    {
     "data": {
      "application/vnd.jupyter.widget-view+json": {
       "model_id": "",
       "version_major": 2,
       "version_minor": 0
      },
      "text/plain": [
       "Validation: 0it [00:00, ?it/s]"
      ]
     },
     "metadata": {},
     "output_type": "display_data"
    },
    {
     "data": {
      "application/vnd.jupyter.widget-view+json": {
       "model_id": "",
       "version_major": 2,
       "version_minor": 0
      },
      "text/plain": [
       "Validation: 0it [00:00, ?it/s]"
      ]
     },
     "metadata": {},
     "output_type": "display_data"
    },
    {
     "data": {
      "application/vnd.jupyter.widget-view+json": {
       "model_id": "",
       "version_major": 2,
       "version_minor": 0
      },
      "text/plain": [
       "Validation: 0it [00:00, ?it/s]"
      ]
     },
     "metadata": {},
     "output_type": "display_data"
    },
    {
     "data": {
      "application/vnd.jupyter.widget-view+json": {
       "model_id": "",
       "version_major": 2,
       "version_minor": 0
      },
      "text/plain": [
       "Validation: 0it [00:00, ?it/s]"
      ]
     },
     "metadata": {},
     "output_type": "display_data"
    },
    {
     "data": {
      "application/vnd.jupyter.widget-view+json": {
       "model_id": "",
       "version_major": 2,
       "version_minor": 0
      },
      "text/plain": [
       "Validation: 0it [00:00, ?it/s]"
      ]
     },
     "metadata": {},
     "output_type": "display_data"
    },
    {
     "data": {
      "application/vnd.jupyter.widget-view+json": {
       "model_id": "",
       "version_major": 2,
       "version_minor": 0
      },
      "text/plain": [
       "Validation: 0it [00:00, ?it/s]"
      ]
     },
     "metadata": {},
     "output_type": "display_data"
    },
    {
     "data": {
      "application/vnd.jupyter.widget-view+json": {
       "model_id": "",
       "version_major": 2,
       "version_minor": 0
      },
      "text/plain": [
       "Validation: 0it [00:00, ?it/s]"
      ]
     },
     "metadata": {},
     "output_type": "display_data"
    },
    {
     "data": {
      "application/vnd.jupyter.widget-view+json": {
       "model_id": "",
       "version_major": 2,
       "version_minor": 0
      },
      "text/plain": [
       "Validation: 0it [00:00, ?it/s]"
      ]
     },
     "metadata": {},
     "output_type": "display_data"
    },
    {
     "data": {
      "application/vnd.jupyter.widget-view+json": {
       "model_id": "",
       "version_major": 2,
       "version_minor": 0
      },
      "text/plain": [
       "Validation: 0it [00:00, ?it/s]"
      ]
     },
     "metadata": {},
     "output_type": "display_data"
    },
    {
     "data": {
      "application/vnd.jupyter.widget-view+json": {
       "model_id": "",
       "version_major": 2,
       "version_minor": 0
      },
      "text/plain": [
       "Validation: 0it [00:00, ?it/s]"
      ]
     },
     "metadata": {},
     "output_type": "display_data"
    },
    {
     "data": {
      "application/vnd.jupyter.widget-view+json": {
       "model_id": "",
       "version_major": 2,
       "version_minor": 0
      },
      "text/plain": [
       "Validation: 0it [00:00, ?it/s]"
      ]
     },
     "metadata": {},
     "output_type": "display_data"
    },
    {
     "data": {
      "application/vnd.jupyter.widget-view+json": {
       "model_id": "",
       "version_major": 2,
       "version_minor": 0
      },
      "text/plain": [
       "Validation: 0it [00:00, ?it/s]"
      ]
     },
     "metadata": {},
     "output_type": "display_data"
    },
    {
     "data": {
      "application/vnd.jupyter.widget-view+json": {
       "model_id": "",
       "version_major": 2,
       "version_minor": 0
      },
      "text/plain": [
       "Validation: 0it [00:00, ?it/s]"
      ]
     },
     "metadata": {},
     "output_type": "display_data"
    },
    {
     "data": {
      "application/vnd.jupyter.widget-view+json": {
       "model_id": "",
       "version_major": 2,
       "version_minor": 0
      },
      "text/plain": [
       "Validation: 0it [00:00, ?it/s]"
      ]
     },
     "metadata": {},
     "output_type": "display_data"
    },
    {
     "data": {
      "application/vnd.jupyter.widget-view+json": {
       "model_id": "",
       "version_major": 2,
       "version_minor": 0
      },
      "text/plain": [
       "Validation: 0it [00:00, ?it/s]"
      ]
     },
     "metadata": {},
     "output_type": "display_data"
    },
    {
     "data": {
      "application/vnd.jupyter.widget-view+json": {
       "model_id": "",
       "version_major": 2,
       "version_minor": 0
      },
      "text/plain": [
       "Validation: 0it [00:00, ?it/s]"
      ]
     },
     "metadata": {},
     "output_type": "display_data"
    },
    {
     "data": {
      "application/vnd.jupyter.widget-view+json": {
       "model_id": "",
       "version_major": 2,
       "version_minor": 0
      },
      "text/plain": [
       "Validation: 0it [00:00, ?it/s]"
      ]
     },
     "metadata": {},
     "output_type": "display_data"
    },
    {
     "data": {
      "application/vnd.jupyter.widget-view+json": {
       "model_id": "",
       "version_major": 2,
       "version_minor": 0
      },
      "text/plain": [
       "Validation: 0it [00:00, ?it/s]"
      ]
     },
     "metadata": {},
     "output_type": "display_data"
    },
    {
     "data": {
      "application/vnd.jupyter.widget-view+json": {
       "model_id": "",
       "version_major": 2,
       "version_minor": 0
      },
      "text/plain": [
       "Validation: 0it [00:00, ?it/s]"
      ]
     },
     "metadata": {},
     "output_type": "display_data"
    },
    {
     "data": {
      "application/vnd.jupyter.widget-view+json": {
       "model_id": "",
       "version_major": 2,
       "version_minor": 0
      },
      "text/plain": [
       "Validation: 0it [00:00, ?it/s]"
      ]
     },
     "metadata": {},
     "output_type": "display_data"
    },
    {
     "data": {
      "application/vnd.jupyter.widget-view+json": {
       "model_id": "",
       "version_major": 2,
       "version_minor": 0
      },
      "text/plain": [
       "Validation: 0it [00:00, ?it/s]"
      ]
     },
     "metadata": {},
     "output_type": "display_data"
    },
    {
     "data": {
      "application/vnd.jupyter.widget-view+json": {
       "model_id": "",
       "version_major": 2,
       "version_minor": 0
      },
      "text/plain": [
       "Validation: 0it [00:00, ?it/s]"
      ]
     },
     "metadata": {},
     "output_type": "display_data"
    },
    {
     "data": {
      "application/vnd.jupyter.widget-view+json": {
       "model_id": "",
       "version_major": 2,
       "version_minor": 0
      },
      "text/plain": [
       "Validation: 0it [00:00, ?it/s]"
      ]
     },
     "metadata": {},
     "output_type": "display_data"
    },
    {
     "data": {
      "application/vnd.jupyter.widget-view+json": {
       "model_id": "",
       "version_major": 2,
       "version_minor": 0
      },
      "text/plain": [
       "Validation: 0it [00:00, ?it/s]"
      ]
     },
     "metadata": {},
     "output_type": "display_data"
    },
    {
     "data": {
      "application/vnd.jupyter.widget-view+json": {
       "model_id": "",
       "version_major": 2,
       "version_minor": 0
      },
      "text/plain": [
       "Validation: 0it [00:00, ?it/s]"
      ]
     },
     "metadata": {},
     "output_type": "display_data"
    },
    {
     "data": {
      "application/vnd.jupyter.widget-view+json": {
       "model_id": "",
       "version_major": 2,
       "version_minor": 0
      },
      "text/plain": [
       "Validation: 0it [00:00, ?it/s]"
      ]
     },
     "metadata": {},
     "output_type": "display_data"
    },
    {
     "data": {
      "application/vnd.jupyter.widget-view+json": {
       "model_id": "",
       "version_major": 2,
       "version_minor": 0
      },
      "text/plain": [
       "Validation: 0it [00:00, ?it/s]"
      ]
     },
     "metadata": {},
     "output_type": "display_data"
    },
    {
     "data": {
      "application/vnd.jupyter.widget-view+json": {
       "model_id": "",
       "version_major": 2,
       "version_minor": 0
      },
      "text/plain": [
       "Validation: 0it [00:00, ?it/s]"
      ]
     },
     "metadata": {},
     "output_type": "display_data"
    },
    {
     "data": {
      "application/vnd.jupyter.widget-view+json": {
       "model_id": "",
       "version_major": 2,
       "version_minor": 0
      },
      "text/plain": [
       "Validation: 0it [00:00, ?it/s]"
      ]
     },
     "metadata": {},
     "output_type": "display_data"
    },
    {
     "data": {
      "application/vnd.jupyter.widget-view+json": {
       "model_id": "",
       "version_major": 2,
       "version_minor": 0
      },
      "text/plain": [
       "Validation: 0it [00:00, ?it/s]"
      ]
     },
     "metadata": {},
     "output_type": "display_data"
    },
    {
     "data": {
      "application/vnd.jupyter.widget-view+json": {
       "model_id": "",
       "version_major": 2,
       "version_minor": 0
      },
      "text/plain": [
       "Validation: 0it [00:00, ?it/s]"
      ]
     },
     "metadata": {},
     "output_type": "display_data"
    },
    {
     "data": {
      "application/vnd.jupyter.widget-view+json": {
       "model_id": "",
       "version_major": 2,
       "version_minor": 0
      },
      "text/plain": [
       "Validation: 0it [00:00, ?it/s]"
      ]
     },
     "metadata": {},
     "output_type": "display_data"
    },
    {
     "data": {
      "application/vnd.jupyter.widget-view+json": {
       "model_id": "",
       "version_major": 2,
       "version_minor": 0
      },
      "text/plain": [
       "Validation: 0it [00:00, ?it/s]"
      ]
     },
     "metadata": {},
     "output_type": "display_data"
    },
    {
     "data": {
      "application/vnd.jupyter.widget-view+json": {
       "model_id": "",
       "version_major": 2,
       "version_minor": 0
      },
      "text/plain": [
       "Validation: 0it [00:00, ?it/s]"
      ]
     },
     "metadata": {},
     "output_type": "display_data"
    },
    {
     "data": {
      "application/vnd.jupyter.widget-view+json": {
       "model_id": "",
       "version_major": 2,
       "version_minor": 0
      },
      "text/plain": [
       "Validation: 0it [00:00, ?it/s]"
      ]
     },
     "metadata": {},
     "output_type": "display_data"
    },
    {
     "data": {
      "application/vnd.jupyter.widget-view+json": {
       "model_id": "",
       "version_major": 2,
       "version_minor": 0
      },
      "text/plain": [
       "Validation: 0it [00:00, ?it/s]"
      ]
     },
     "metadata": {},
     "output_type": "display_data"
    },
    {
     "data": {
      "application/vnd.jupyter.widget-view+json": {
       "model_id": "",
       "version_major": 2,
       "version_minor": 0
      },
      "text/plain": [
       "Validation: 0it [00:00, ?it/s]"
      ]
     },
     "metadata": {},
     "output_type": "display_data"
    },
    {
     "data": {
      "application/vnd.jupyter.widget-view+json": {
       "model_id": "",
       "version_major": 2,
       "version_minor": 0
      },
      "text/plain": [
       "Validation: 0it [00:00, ?it/s]"
      ]
     },
     "metadata": {},
     "output_type": "display_data"
    },
    {
     "data": {
      "application/vnd.jupyter.widget-view+json": {
       "model_id": "",
       "version_major": 2,
       "version_minor": 0
      },
      "text/plain": [
       "Validation: 0it [00:00, ?it/s]"
      ]
     },
     "metadata": {},
     "output_type": "display_data"
    },
    {
     "data": {
      "application/vnd.jupyter.widget-view+json": {
       "model_id": "",
       "version_major": 2,
       "version_minor": 0
      },
      "text/plain": [
       "Validation: 0it [00:00, ?it/s]"
      ]
     },
     "metadata": {},
     "output_type": "display_data"
    },
    {
     "data": {
      "application/vnd.jupyter.widget-view+json": {
       "model_id": "",
       "version_major": 2,
       "version_minor": 0
      },
      "text/plain": [
       "Validation: 0it [00:00, ?it/s]"
      ]
     },
     "metadata": {},
     "output_type": "display_data"
    },
    {
     "data": {
      "application/vnd.jupyter.widget-view+json": {
       "model_id": "",
       "version_major": 2,
       "version_minor": 0
      },
      "text/plain": [
       "Validation: 0it [00:00, ?it/s]"
      ]
     },
     "metadata": {},
     "output_type": "display_data"
    },
    {
     "data": {
      "application/vnd.jupyter.widget-view+json": {
       "model_id": "",
       "version_major": 2,
       "version_minor": 0
      },
      "text/plain": [
       "Validation: 0it [00:00, ?it/s]"
      ]
     },
     "metadata": {},
     "output_type": "display_data"
    },
    {
     "data": {
      "application/vnd.jupyter.widget-view+json": {
       "model_id": "",
       "version_major": 2,
       "version_minor": 0
      },
      "text/plain": [
       "Validation: 0it [00:00, ?it/s]"
      ]
     },
     "metadata": {},
     "output_type": "display_data"
    },
    {
     "data": {
      "application/vnd.jupyter.widget-view+json": {
       "model_id": "",
       "version_major": 2,
       "version_minor": 0
      },
      "text/plain": [
       "Validation: 0it [00:00, ?it/s]"
      ]
     },
     "metadata": {},
     "output_type": "display_data"
    },
    {
     "data": {
      "application/vnd.jupyter.widget-view+json": {
       "model_id": "",
       "version_major": 2,
       "version_minor": 0
      },
      "text/plain": [
       "Validation: 0it [00:00, ?it/s]"
      ]
     },
     "metadata": {},
     "output_type": "display_data"
    },
    {
     "data": {
      "application/vnd.jupyter.widget-view+json": {
       "model_id": "",
       "version_major": 2,
       "version_minor": 0
      },
      "text/plain": [
       "Validation: 0it [00:00, ?it/s]"
      ]
     },
     "metadata": {},
     "output_type": "display_data"
    },
    {
     "data": {
      "application/vnd.jupyter.widget-view+json": {
       "model_id": "",
       "version_major": 2,
       "version_minor": 0
      },
      "text/plain": [
       "Validation: 0it [00:00, ?it/s]"
      ]
     },
     "metadata": {},
     "output_type": "display_data"
    },
    {
     "data": {
      "application/vnd.jupyter.widget-view+json": {
       "model_id": "",
       "version_major": 2,
       "version_minor": 0
      },
      "text/plain": [
       "Validation: 0it [00:00, ?it/s]"
      ]
     },
     "metadata": {},
     "output_type": "display_data"
    },
    {
     "data": {
      "application/vnd.jupyter.widget-view+json": {
       "model_id": "",
       "version_major": 2,
       "version_minor": 0
      },
      "text/plain": [
       "Validation: 0it [00:00, ?it/s]"
      ]
     },
     "metadata": {},
     "output_type": "display_data"
    },
    {
     "data": {
      "application/vnd.jupyter.widget-view+json": {
       "model_id": "",
       "version_major": 2,
       "version_minor": 0
      },
      "text/plain": [
       "Validation: 0it [00:00, ?it/s]"
      ]
     },
     "metadata": {},
     "output_type": "display_data"
    },
    {
     "data": {
      "application/vnd.jupyter.widget-view+json": {
       "model_id": "",
       "version_major": 2,
       "version_minor": 0
      },
      "text/plain": [
       "Validation: 0it [00:00, ?it/s]"
      ]
     },
     "metadata": {},
     "output_type": "display_data"
    },
    {
     "data": {
      "application/vnd.jupyter.widget-view+json": {
       "model_id": "",
       "version_major": 2,
       "version_minor": 0
      },
      "text/plain": [
       "Validation: 0it [00:00, ?it/s]"
      ]
     },
     "metadata": {},
     "output_type": "display_data"
    },
    {
     "data": {
      "application/vnd.jupyter.widget-view+json": {
       "model_id": "",
       "version_major": 2,
       "version_minor": 0
      },
      "text/plain": [
       "Validation: 0it [00:00, ?it/s]"
      ]
     },
     "metadata": {},
     "output_type": "display_data"
    },
    {
     "data": {
      "application/vnd.jupyter.widget-view+json": {
       "model_id": "",
       "version_major": 2,
       "version_minor": 0
      },
      "text/plain": [
       "Validation: 0it [00:00, ?it/s]"
      ]
     },
     "metadata": {},
     "output_type": "display_data"
    },
    {
     "data": {
      "application/vnd.jupyter.widget-view+json": {
       "model_id": "",
       "version_major": 2,
       "version_minor": 0
      },
      "text/plain": [
       "Validation: 0it [00:00, ?it/s]"
      ]
     },
     "metadata": {},
     "output_type": "display_data"
    },
    {
     "data": {
      "application/vnd.jupyter.widget-view+json": {
       "model_id": "",
       "version_major": 2,
       "version_minor": 0
      },
      "text/plain": [
       "Validation: 0it [00:00, ?it/s]"
      ]
     },
     "metadata": {},
     "output_type": "display_data"
    },
    {
     "data": {
      "application/vnd.jupyter.widget-view+json": {
       "model_id": "",
       "version_major": 2,
       "version_minor": 0
      },
      "text/plain": [
       "Validation: 0it [00:00, ?it/s]"
      ]
     },
     "metadata": {},
     "output_type": "display_data"
    },
    {
     "data": {
      "application/vnd.jupyter.widget-view+json": {
       "model_id": "",
       "version_major": 2,
       "version_minor": 0
      },
      "text/plain": [
       "Validation: 0it [00:00, ?it/s]"
      ]
     },
     "metadata": {},
     "output_type": "display_data"
    },
    {
     "data": {
      "application/vnd.jupyter.widget-view+json": {
       "model_id": "",
       "version_major": 2,
       "version_minor": 0
      },
      "text/plain": [
       "Validation: 0it [00:00, ?it/s]"
      ]
     },
     "metadata": {},
     "output_type": "display_data"
    },
    {
     "data": {
      "application/vnd.jupyter.widget-view+json": {
       "model_id": "",
       "version_major": 2,
       "version_minor": 0
      },
      "text/plain": [
       "Validation: 0it [00:00, ?it/s]"
      ]
     },
     "metadata": {},
     "output_type": "display_data"
    },
    {
     "data": {
      "application/vnd.jupyter.widget-view+json": {
       "model_id": "",
       "version_major": 2,
       "version_minor": 0
      },
      "text/plain": [
       "Validation: 0it [00:00, ?it/s]"
      ]
     },
     "metadata": {},
     "output_type": "display_data"
    },
    {
     "data": {
      "application/vnd.jupyter.widget-view+json": {
       "model_id": "",
       "version_major": 2,
       "version_minor": 0
      },
      "text/plain": [
       "Validation: 0it [00:00, ?it/s]"
      ]
     },
     "metadata": {},
     "output_type": "display_data"
    },
    {
     "data": {
      "application/vnd.jupyter.widget-view+json": {
       "model_id": "",
       "version_major": 2,
       "version_minor": 0
      },
      "text/plain": [
       "Validation: 0it [00:00, ?it/s]"
      ]
     },
     "metadata": {},
     "output_type": "display_data"
    },
    {
     "data": {
      "application/vnd.jupyter.widget-view+json": {
       "model_id": "",
       "version_major": 2,
       "version_minor": 0
      },
      "text/plain": [
       "Validation: 0it [00:00, ?it/s]"
      ]
     },
     "metadata": {},
     "output_type": "display_data"
    },
    {
     "data": {
      "application/vnd.jupyter.widget-view+json": {
       "model_id": "",
       "version_major": 2,
       "version_minor": 0
      },
      "text/plain": [
       "Validation: 0it [00:00, ?it/s]"
      ]
     },
     "metadata": {},
     "output_type": "display_data"
    },
    {
     "data": {
      "application/vnd.jupyter.widget-view+json": {
       "model_id": "",
       "version_major": 2,
       "version_minor": 0
      },
      "text/plain": [
       "Validation: 0it [00:00, ?it/s]"
      ]
     },
     "metadata": {},
     "output_type": "display_data"
    },
    {
     "data": {
      "application/vnd.jupyter.widget-view+json": {
       "model_id": "",
       "version_major": 2,
       "version_minor": 0
      },
      "text/plain": [
       "Validation: 0it [00:00, ?it/s]"
      ]
     },
     "metadata": {},
     "output_type": "display_data"
    },
    {
     "data": {
      "application/vnd.jupyter.widget-view+json": {
       "model_id": "",
       "version_major": 2,
       "version_minor": 0
      },
      "text/plain": [
       "Validation: 0it [00:00, ?it/s]"
      ]
     },
     "metadata": {},
     "output_type": "display_data"
    },
    {
     "data": {
      "application/vnd.jupyter.widget-view+json": {
       "model_id": "",
       "version_major": 2,
       "version_minor": 0
      },
      "text/plain": [
       "Validation: 0it [00:00, ?it/s]"
      ]
     },
     "metadata": {},
     "output_type": "display_data"
    },
    {
     "data": {
      "application/vnd.jupyter.widget-view+json": {
       "model_id": "",
       "version_major": 2,
       "version_minor": 0
      },
      "text/plain": [
       "Validation: 0it [00:00, ?it/s]"
      ]
     },
     "metadata": {},
     "output_type": "display_data"
    },
    {
     "data": {
      "application/vnd.jupyter.widget-view+json": {
       "model_id": "",
       "version_major": 2,
       "version_minor": 0
      },
      "text/plain": [
       "Validation: 0it [00:00, ?it/s]"
      ]
     },
     "metadata": {},
     "output_type": "display_data"
    },
    {
     "data": {
      "application/vnd.jupyter.widget-view+json": {
       "model_id": "",
       "version_major": 2,
       "version_minor": 0
      },
      "text/plain": [
       "Validation: 0it [00:00, ?it/s]"
      ]
     },
     "metadata": {},
     "output_type": "display_data"
    },
    {
     "data": {
      "application/vnd.jupyter.widget-view+json": {
       "model_id": "",
       "version_major": 2,
       "version_minor": 0
      },
      "text/plain": [
       "Validation: 0it [00:00, ?it/s]"
      ]
     },
     "metadata": {},
     "output_type": "display_data"
    },
    {
     "data": {
      "application/vnd.jupyter.widget-view+json": {
       "model_id": "",
       "version_major": 2,
       "version_minor": 0
      },
      "text/plain": [
       "Validation: 0it [00:00, ?it/s]"
      ]
     },
     "metadata": {},
     "output_type": "display_data"
    },
    {
     "data": {
      "application/vnd.jupyter.widget-view+json": {
       "model_id": "",
       "version_major": 2,
       "version_minor": 0
      },
      "text/plain": [
       "Validation: 0it [00:00, ?it/s]"
      ]
     },
     "metadata": {},
     "output_type": "display_data"
    },
    {
     "data": {
      "application/vnd.jupyter.widget-view+json": {
       "model_id": "",
       "version_major": 2,
       "version_minor": 0
      },
      "text/plain": [
       "Validation: 0it [00:00, ?it/s]"
      ]
     },
     "metadata": {},
     "output_type": "display_data"
    },
    {
     "data": {
      "application/vnd.jupyter.widget-view+json": {
       "model_id": "",
       "version_major": 2,
       "version_minor": 0
      },
      "text/plain": [
       "Validation: 0it [00:00, ?it/s]"
      ]
     },
     "metadata": {},
     "output_type": "display_data"
    },
    {
     "data": {
      "application/vnd.jupyter.widget-view+json": {
       "model_id": "",
       "version_major": 2,
       "version_minor": 0
      },
      "text/plain": [
       "Validation: 0it [00:00, ?it/s]"
      ]
     },
     "metadata": {},
     "output_type": "display_data"
    },
    {
     "data": {
      "application/vnd.jupyter.widget-view+json": {
       "model_id": "",
       "version_major": 2,
       "version_minor": 0
      },
      "text/plain": [
       "Validation: 0it [00:00, ?it/s]"
      ]
     },
     "metadata": {},
     "output_type": "display_data"
    },
    {
     "data": {
      "application/vnd.jupyter.widget-view+json": {
       "model_id": "",
       "version_major": 2,
       "version_minor": 0
      },
      "text/plain": [
       "Validation: 0it [00:00, ?it/s]"
      ]
     },
     "metadata": {},
     "output_type": "display_data"
    },
    {
     "data": {
      "application/vnd.jupyter.widget-view+json": {
       "model_id": "",
       "version_major": 2,
       "version_minor": 0
      },
      "text/plain": [
       "Validation: 0it [00:00, ?it/s]"
      ]
     },
     "metadata": {},
     "output_type": "display_data"
    },
    {
     "data": {
      "application/vnd.jupyter.widget-view+json": {
       "model_id": "",
       "version_major": 2,
       "version_minor": 0
      },
      "text/plain": [
       "Validation: 0it [00:00, ?it/s]"
      ]
     },
     "metadata": {},
     "output_type": "display_data"
    },
    {
     "data": {
      "application/vnd.jupyter.widget-view+json": {
       "model_id": "",
       "version_major": 2,
       "version_minor": 0
      },
      "text/plain": [
       "Validation: 0it [00:00, ?it/s]"
      ]
     },
     "metadata": {},
     "output_type": "display_data"
    },
    {
     "data": {
      "application/vnd.jupyter.widget-view+json": {
       "model_id": "",
       "version_major": 2,
       "version_minor": 0
      },
      "text/plain": [
       "Validation: 0it [00:00, ?it/s]"
      ]
     },
     "metadata": {},
     "output_type": "display_data"
    },
    {
     "data": {
      "application/vnd.jupyter.widget-view+json": {
       "model_id": "",
       "version_major": 2,
       "version_minor": 0
      },
      "text/plain": [
       "Validation: 0it [00:00, ?it/s]"
      ]
     },
     "metadata": {},
     "output_type": "display_data"
    },
    {
     "data": {
      "application/vnd.jupyter.widget-view+json": {
       "model_id": "",
       "version_major": 2,
       "version_minor": 0
      },
      "text/plain": [
       "Validation: 0it [00:00, ?it/s]"
      ]
     },
     "metadata": {},
     "output_type": "display_data"
    },
    {
     "data": {
      "application/vnd.jupyter.widget-view+json": {
       "model_id": "",
       "version_major": 2,
       "version_minor": 0
      },
      "text/plain": [
       "Validation: 0it [00:00, ?it/s]"
      ]
     },
     "metadata": {},
     "output_type": "display_data"
    },
    {
     "data": {
      "application/vnd.jupyter.widget-view+json": {
       "model_id": "",
       "version_major": 2,
       "version_minor": 0
      },
      "text/plain": [
       "Validation: 0it [00:00, ?it/s]"
      ]
     },
     "metadata": {},
     "output_type": "display_data"
    },
    {
     "data": {
      "application/vnd.jupyter.widget-view+json": {
       "model_id": "",
       "version_major": 2,
       "version_minor": 0
      },
      "text/plain": [
       "Validation: 0it [00:00, ?it/s]"
      ]
     },
     "metadata": {},
     "output_type": "display_data"
    },
    {
     "data": {
      "application/vnd.jupyter.widget-view+json": {
       "model_id": "",
       "version_major": 2,
       "version_minor": 0
      },
      "text/plain": [
       "Validation: 0it [00:00, ?it/s]"
      ]
     },
     "metadata": {},
     "output_type": "display_data"
    },
    {
     "data": {
      "application/vnd.jupyter.widget-view+json": {
       "model_id": "",
       "version_major": 2,
       "version_minor": 0
      },
      "text/plain": [
       "Validation: 0it [00:00, ?it/s]"
      ]
     },
     "metadata": {},
     "output_type": "display_data"
    },
    {
     "data": {
      "application/vnd.jupyter.widget-view+json": {
       "model_id": "",
       "version_major": 2,
       "version_minor": 0
      },
      "text/plain": [
       "Validation: 0it [00:00, ?it/s]"
      ]
     },
     "metadata": {},
     "output_type": "display_data"
    },
    {
     "data": {
      "application/vnd.jupyter.widget-view+json": {
       "model_id": "",
       "version_major": 2,
       "version_minor": 0
      },
      "text/plain": [
       "Validation: 0it [00:00, ?it/s]"
      ]
     },
     "metadata": {},
     "output_type": "display_data"
    },
    {
     "data": {
      "application/vnd.jupyter.widget-view+json": {
       "model_id": "",
       "version_major": 2,
       "version_minor": 0
      },
      "text/plain": [
       "Validation: 0it [00:00, ?it/s]"
      ]
     },
     "metadata": {},
     "output_type": "display_data"
    },
    {
     "data": {
      "application/vnd.jupyter.widget-view+json": {
       "model_id": "",
       "version_major": 2,
       "version_minor": 0
      },
      "text/plain": [
       "Validation: 0it [00:00, ?it/s]"
      ]
     },
     "metadata": {},
     "output_type": "display_data"
    },
    {
     "data": {
      "application/vnd.jupyter.widget-view+json": {
       "model_id": "",
       "version_major": 2,
       "version_minor": 0
      },
      "text/plain": [
       "Validation: 0it [00:00, ?it/s]"
      ]
     },
     "metadata": {},
     "output_type": "display_data"
    },
    {
     "data": {
      "application/vnd.jupyter.widget-view+json": {
       "model_id": "",
       "version_major": 2,
       "version_minor": 0
      },
      "text/plain": [
       "Validation: 0it [00:00, ?it/s]"
      ]
     },
     "metadata": {},
     "output_type": "display_data"
    },
    {
     "data": {
      "application/vnd.jupyter.widget-view+json": {
       "model_id": "",
       "version_major": 2,
       "version_minor": 0
      },
      "text/plain": [
       "Validation: 0it [00:00, ?it/s]"
      ]
     },
     "metadata": {},
     "output_type": "display_data"
    },
    {
     "data": {
      "application/vnd.jupyter.widget-view+json": {
       "model_id": "",
       "version_major": 2,
       "version_minor": 0
      },
      "text/plain": [
       "Validation: 0it [00:00, ?it/s]"
      ]
     },
     "metadata": {},
     "output_type": "display_data"
    },
    {
     "data": {
      "application/vnd.jupyter.widget-view+json": {
       "model_id": "",
       "version_major": 2,
       "version_minor": 0
      },
      "text/plain": [
       "Validation: 0it [00:00, ?it/s]"
      ]
     },
     "metadata": {},
     "output_type": "display_data"
    },
    {
     "data": {
      "application/vnd.jupyter.widget-view+json": {
       "model_id": "",
       "version_major": 2,
       "version_minor": 0
      },
      "text/plain": [
       "Validation: 0it [00:00, ?it/s]"
      ]
     },
     "metadata": {},
     "output_type": "display_data"
    },
    {
     "data": {
      "application/vnd.jupyter.widget-view+json": {
       "model_id": "",
       "version_major": 2,
       "version_minor": 0
      },
      "text/plain": [
       "Validation: 0it [00:00, ?it/s]"
      ]
     },
     "metadata": {},
     "output_type": "display_data"
    },
    {
     "data": {
      "application/vnd.jupyter.widget-view+json": {
       "model_id": "",
       "version_major": 2,
       "version_minor": 0
      },
      "text/plain": [
       "Validation: 0it [00:00, ?it/s]"
      ]
     },
     "metadata": {},
     "output_type": "display_data"
    },
    {
     "data": {
      "application/vnd.jupyter.widget-view+json": {
       "model_id": "",
       "version_major": 2,
       "version_minor": 0
      },
      "text/plain": [
       "Validation: 0it [00:00, ?it/s]"
      ]
     },
     "metadata": {},
     "output_type": "display_data"
    },
    {
     "data": {
      "application/vnd.jupyter.widget-view+json": {
       "model_id": "",
       "version_major": 2,
       "version_minor": 0
      },
      "text/plain": [
       "Validation: 0it [00:00, ?it/s]"
      ]
     },
     "metadata": {},
     "output_type": "display_data"
    },
    {
     "data": {
      "application/vnd.jupyter.widget-view+json": {
       "model_id": "",
       "version_major": 2,
       "version_minor": 0
      },
      "text/plain": [
       "Validation: 0it [00:00, ?it/s]"
      ]
     },
     "metadata": {},
     "output_type": "display_data"
    },
    {
     "data": {
      "application/vnd.jupyter.widget-view+json": {
       "model_id": "",
       "version_major": 2,
       "version_minor": 0
      },
      "text/plain": [
       "Validation: 0it [00:00, ?it/s]"
      ]
     },
     "metadata": {},
     "output_type": "display_data"
    },
    {
     "data": {
      "application/vnd.jupyter.widget-view+json": {
       "model_id": "",
       "version_major": 2,
       "version_minor": 0
      },
      "text/plain": [
       "Validation: 0it [00:00, ?it/s]"
      ]
     },
     "metadata": {},
     "output_type": "display_data"
    },
    {
     "data": {
      "application/vnd.jupyter.widget-view+json": {
       "model_id": "",
       "version_major": 2,
       "version_minor": 0
      },
      "text/plain": [
       "Validation: 0it [00:00, ?it/s]"
      ]
     },
     "metadata": {},
     "output_type": "display_data"
    },
    {
     "data": {
      "application/vnd.jupyter.widget-view+json": {
       "model_id": "",
       "version_major": 2,
       "version_minor": 0
      },
      "text/plain": [
       "Validation: 0it [00:00, ?it/s]"
      ]
     },
     "metadata": {},
     "output_type": "display_data"
    },
    {
     "data": {
      "application/vnd.jupyter.widget-view+json": {
       "model_id": "",
       "version_major": 2,
       "version_minor": 0
      },
      "text/plain": [
       "Validation: 0it [00:00, ?it/s]"
      ]
     },
     "metadata": {},
     "output_type": "display_data"
    },
    {
     "data": {
      "application/vnd.jupyter.widget-view+json": {
       "model_id": "",
       "version_major": 2,
       "version_minor": 0
      },
      "text/plain": [
       "Validation: 0it [00:00, ?it/s]"
      ]
     },
     "metadata": {},
     "output_type": "display_data"
    },
    {
     "data": {
      "application/vnd.jupyter.widget-view+json": {
       "model_id": "",
       "version_major": 2,
       "version_minor": 0
      },
      "text/plain": [
       "Validation: 0it [00:00, ?it/s]"
      ]
     },
     "metadata": {},
     "output_type": "display_data"
    },
    {
     "data": {
      "application/vnd.jupyter.widget-view+json": {
       "model_id": "",
       "version_major": 2,
       "version_minor": 0
      },
      "text/plain": [
       "Validation: 0it [00:00, ?it/s]"
      ]
     },
     "metadata": {},
     "output_type": "display_data"
    },
    {
     "data": {
      "application/vnd.jupyter.widget-view+json": {
       "model_id": "",
       "version_major": 2,
       "version_minor": 0
      },
      "text/plain": [
       "Validation: 0it [00:00, ?it/s]"
      ]
     },
     "metadata": {},
     "output_type": "display_data"
    },
    {
     "data": {
      "application/vnd.jupyter.widget-view+json": {
       "model_id": "",
       "version_major": 2,
       "version_minor": 0
      },
      "text/plain": [
       "Validation: 0it [00:00, ?it/s]"
      ]
     },
     "metadata": {},
     "output_type": "display_data"
    },
    {
     "data": {
      "application/vnd.jupyter.widget-view+json": {
       "model_id": "",
       "version_major": 2,
       "version_minor": 0
      },
      "text/plain": [
       "Validation: 0it [00:00, ?it/s]"
      ]
     },
     "metadata": {},
     "output_type": "display_data"
    },
    {
     "data": {
      "application/vnd.jupyter.widget-view+json": {
       "model_id": "",
       "version_major": 2,
       "version_minor": 0
      },
      "text/plain": [
       "Validation: 0it [00:00, ?it/s]"
      ]
     },
     "metadata": {},
     "output_type": "display_data"
    },
    {
     "data": {
      "application/vnd.jupyter.widget-view+json": {
       "model_id": "",
       "version_major": 2,
       "version_minor": 0
      },
      "text/plain": [
       "Validation: 0it [00:00, ?it/s]"
      ]
     },
     "metadata": {},
     "output_type": "display_data"
    },
    {
     "data": {
      "application/vnd.jupyter.widget-view+json": {
       "model_id": "",
       "version_major": 2,
       "version_minor": 0
      },
      "text/plain": [
       "Validation: 0it [00:00, ?it/s]"
      ]
     },
     "metadata": {},
     "output_type": "display_data"
    },
    {
     "data": {
      "application/vnd.jupyter.widget-view+json": {
       "model_id": "",
       "version_major": 2,
       "version_minor": 0
      },
      "text/plain": [
       "Validation: 0it [00:00, ?it/s]"
      ]
     },
     "metadata": {},
     "output_type": "display_data"
    },
    {
     "data": {
      "application/vnd.jupyter.widget-view+json": {
       "model_id": "",
       "version_major": 2,
       "version_minor": 0
      },
      "text/plain": [
       "Validation: 0it [00:00, ?it/s]"
      ]
     },
     "metadata": {},
     "output_type": "display_data"
    }
   ],
   "source": [
    "early_stop_callback = EarlyStopping(monitor=\"val_loss\", min_delta=1e-4, patience=10, verbose=False, mode=\"min\")\n",
    "\n",
    "trainer = pl.Trainer(\n",
    "    max_epochs=5000, #iterations in N-Beats Paper = 5.000 \n",
    "    gpus=0,\n",
    "    enable_model_summary=True,\n",
    "    gradient_clip_val=0.01,\n",
    "    callbacks=[early_stop_callback],# Model hört auf zu lernen, wenn es sich nicht weiter verbessert\n",
    "    limit_train_batches=30,\n",
    ")\n",
    "\n",
    "\n",
    "net = NBeats.from_dataset(\n",
    "    training,\n",
    "    learning_rate=0.001, # Aud dem Paper\n",
    "    log_interval=10,\n",
    "    log_val_interval=1,\n",
    "    weight_decay=1e-2,\n",
    "    widths=[256, 2048], # aus N-Beats Paper \n",
    "    backcast_loss_ratio=1.0,\n",
    ")\n",
    "\n",
    "trainer.fit(\n",
    "    net,\n",
    "    train_dataloaders=train_dataloader,\n",
    "    val_dataloaders=val_dataloader,\n",
    ")"
   ]
  },
  {
   "cell_type": "markdown",
   "id": "f73525d1-7d73-4e8d-b307-5d98ec40f28f",
   "metadata": {},
   "source": [
    "### Evaluate"
   ]
  },
  {
   "cell_type": "code",
   "execution_count": 8,
   "id": "903e9f67-e0c8-4702-a744-194e945bac95",
   "metadata": {},
   "outputs": [
    {
     "ename": "NameError",
     "evalue": "name 'trainer' is not defined",
     "output_type": "error",
     "traceback": [
      "\u001b[1;31m---------------------------------------------------------------------------\u001b[0m",
      "\u001b[1;31mNameError\u001b[0m                                 Traceback (most recent call last)",
      "\u001b[1;32m~\\AppData\\Local\\Temp/ipykernel_3704/3395543763.py\u001b[0m in \u001b[0;36m<module>\u001b[1;34m\u001b[0m\n\u001b[1;32m----> 1\u001b[1;33m \u001b[0mbest_model_path\u001b[0m \u001b[1;33m=\u001b[0m \u001b[0mtrainer\u001b[0m\u001b[1;33m.\u001b[0m\u001b[0mcheckpoint_callback\u001b[0m\u001b[1;33m.\u001b[0m\u001b[0mbest_model_path\u001b[0m\u001b[1;33m\u001b[0m\u001b[1;33m\u001b[0m\u001b[0m\n\u001b[0m\u001b[0;32m      2\u001b[0m \u001b[0mbest_model\u001b[0m \u001b[1;33m=\u001b[0m \u001b[0mNBeats\u001b[0m\u001b[1;33m.\u001b[0m\u001b[0mload_from_checkpoint\u001b[0m\u001b[1;33m(\u001b[0m\u001b[0mbest_model_path\u001b[0m\u001b[1;33m)\u001b[0m\u001b[1;33m\u001b[0m\u001b[1;33m\u001b[0m\u001b[0m\n",
      "\u001b[1;31mNameError\u001b[0m: name 'trainer' is not defined"
     ]
    }
   ],
   "source": [
    "best_model_path = trainer.checkpoint_callback.best_model_path\n",
    "best_model = NBeats.load_from_checkpoint(best_model_path)"
   ]
  },
  {
   "cell_type": "code",
   "execution_count": 25,
   "id": "d279e76d-9ceb-41c9-ab56-764f62774d44",
   "metadata": {},
   "outputs": [
    {
     "name": "stdout",
     "output_type": "stream",
     "text": [
      "tensor(0.1060)\n"
     ]
    },
    {
     "data": {
      "text/plain": [
       "tensor(0.0899)"
      ]
     },
     "execution_count": 25,
     "metadata": {},
     "output_type": "execute_result"
    }
   ],
   "source": [
    "actuals = torch.cat([y[0] for x, y in iter(val_dataloader)])\n",
    "predictions = best_model.predict(val_dataloader)\n",
    "print(SMAPE()(predictions, actuals))\n",
    "(actuals - predictions).abs().mean()"
   ]
  },
  {
   "cell_type": "code",
   "execution_count": 26,
   "id": "25ddbe02-7726-487f-a170-ce27768d6c55",
   "metadata": {},
   "outputs": [],
   "source": [
    "raw_predictions, x = best_model.predict(val_dataloader, mode=\"raw\", return_x=True)"
   ]
  },
  {
   "cell_type": "code",
   "execution_count": 3,
   "id": "612e407e-9df2-4145-85e0-9c44479683a2",
   "metadata": {},
   "outputs": [
    {
     "ename": "NameError",
     "evalue": "name 'best_model' is not defined",
     "output_type": "error",
     "traceback": [
      "\u001b[1;31m---------------------------------------------------------------------------\u001b[0m",
      "\u001b[1;31mNameError\u001b[0m                                 Traceback (most recent call last)",
      "\u001b[1;32m~\\AppData\\Local\\Temp/ipykernel_3704/3195349956.py\u001b[0m in \u001b[0;36m<module>\u001b[1;34m\u001b[0m\n\u001b[0;32m      1\u001b[0m \u001b[1;32mfor\u001b[0m \u001b[0midx\u001b[0m \u001b[1;32min\u001b[0m \u001b[0mrange\u001b[0m\u001b[1;33m(\u001b[0m\u001b[1;36m7\u001b[0m\u001b[1;33m)\u001b[0m\u001b[1;33m:\u001b[0m  \u001b[1;31m# plot 10 examples\u001b[0m\u001b[1;33m\u001b[0m\u001b[1;33m\u001b[0m\u001b[0m\n\u001b[1;32m----> 2\u001b[1;33m     \u001b[0mbest_model\u001b[0m\u001b[1;33m.\u001b[0m\u001b[0mplot_prediction\u001b[0m\u001b[1;33m(\u001b[0m\u001b[0mx\u001b[0m\u001b[1;33m,\u001b[0m \u001b[0mraw_predictions\u001b[0m\u001b[1;33m,\u001b[0m \u001b[0midx\u001b[0m\u001b[1;33m=\u001b[0m\u001b[0midx\u001b[0m\u001b[1;33m,\u001b[0m \u001b[0madd_loss_to_title\u001b[0m\u001b[1;33m=\u001b[0m\u001b[1;32mTrue\u001b[0m\u001b[1;33m)\u001b[0m\u001b[1;33m;\u001b[0m\u001b[1;33m\u001b[0m\u001b[1;33m\u001b[0m\u001b[0m\n\u001b[0m",
      "\u001b[1;31mNameError\u001b[0m: name 'best_model' is not defined"
     ]
    }
   ],
   "source": [
    "for idx in range(7):  # plot 10 examples\n",
    "    best_model.plot_prediction(x, raw_predictions, idx=idx, add_loss_to_title=True);"
   ]
  },
  {
   "cell_type": "code",
   "execution_count": 2,
   "id": "c8975405-259e-4250-b7c6-f29902b6ffcc",
   "metadata": {},
   "outputs": [
    {
     "ename": "NameError",
     "evalue": "name 'best_model' is not defined",
     "output_type": "error",
     "traceback": [
      "\u001b[1;31m---------------------------------------------------------------------------\u001b[0m",
      "\u001b[1;31mNameError\u001b[0m                                 Traceback (most recent call last)",
      "\u001b[1;32m~\\AppData\\Local\\Temp/ipykernel_3704/1663082482.py\u001b[0m in \u001b[0;36m<module>\u001b[1;34m\u001b[0m\n\u001b[0;32m      1\u001b[0m \u001b[1;32mfor\u001b[0m \u001b[0midx\u001b[0m \u001b[1;32min\u001b[0m \u001b[0mrange\u001b[0m\u001b[1;33m(\u001b[0m\u001b[1;36m7\u001b[0m\u001b[1;33m)\u001b[0m\u001b[1;33m:\u001b[0m  \u001b[1;31m# plot 10 examples\u001b[0m\u001b[1;33m\u001b[0m\u001b[1;33m\u001b[0m\u001b[0m\n\u001b[1;32m----> 2\u001b[1;33m     \u001b[0mbest_model\u001b[0m\u001b[1;33m.\u001b[0m\u001b[0mplot_interpretation\u001b[0m\u001b[1;33m(\u001b[0m\u001b[0mx\u001b[0m\u001b[1;33m,\u001b[0m \u001b[0mraw_predictions\u001b[0m\u001b[1;33m,\u001b[0m \u001b[0midx\u001b[0m\u001b[1;33m=\u001b[0m\u001b[0midx\u001b[0m\u001b[1;33m)\u001b[0m\u001b[1;33m;\u001b[0m\u001b[1;33m\u001b[0m\u001b[1;33m\u001b[0m\u001b[0m\n\u001b[0m",
      "\u001b[1;31mNameError\u001b[0m: name 'best_model' is not defined"
     ]
    }
   ],
   "source": [
    "for idx in range(7):  # plot 10 examples\n",
    "    best_model.plot_interpretation(x, raw_predictions, idx=idx);"
   ]
  },
  {
   "cell_type": "code",
   "execution_count": 1,
   "id": "6b66ddf0-9e67-4239-87c2-a53ee0888894",
   "metadata": {},
   "outputs": [
    {
     "ename": "NameError",
     "evalue": "name 'raw_predictions' is not defined",
     "output_type": "error",
     "traceback": [
      "\u001b[1;31m---------------------------------------------------------------------------\u001b[0m",
      "\u001b[1;31mNameError\u001b[0m                                 Traceback (most recent call last)",
      "\u001b[1;32m~\\AppData\\Local\\Temp/ipykernel_3704/739043642.py\u001b[0m in \u001b[0;36m<module>\u001b[1;34m\u001b[0m\n\u001b[1;32m----> 1\u001b[1;33m \u001b[0mx_value\u001b[0m\u001b[1;33m=\u001b[0m\u001b[0mraw_predictions\u001b[0m\u001b[1;33m.\u001b[0m\u001b[0mseasonality\u001b[0m\u001b[1;33m\u001b[0m\u001b[1;33m\u001b[0m\u001b[0m\n\u001b[0m\u001b[0;32m      2\u001b[0m \u001b[0mx\u001b[0m\u001b[1;33m=\u001b[0m\u001b[0mx_value\u001b[0m\u001b[1;33m.\u001b[0m\u001b[0mcpu\u001b[0m\u001b[1;33m(\u001b[0m\u001b[1;33m)\u001b[0m\u001b[1;33m.\u001b[0m\u001b[0mdetach\u001b[0m\u001b[1;33m(\u001b[0m\u001b[1;33m)\u001b[0m\u001b[1;33m.\u001b[0m\u001b[0mnumpy\u001b[0m\u001b[1;33m(\u001b[0m\u001b[1;33m)\u001b[0m\u001b[1;33m\u001b[0m\u001b[1;33m\u001b[0m\u001b[0m\n\u001b[0;32m      3\u001b[0m \u001b[0mseasonality\u001b[0m\u001b[1;33m=\u001b[0m\u001b[0mnp\u001b[0m\u001b[1;33m.\u001b[0m\u001b[0mreshape\u001b[0m\u001b[1;33m(\u001b[0m\u001b[0mx\u001b[0m\u001b[1;33m,\u001b[0m\u001b[1;33m(\u001b[0m\u001b[1;36m1095\u001b[0m\u001b[1;33m,\u001b[0m\u001b[1;33m)\u001b[0m\u001b[1;33m)\u001b[0m\u001b[1;33m\u001b[0m\u001b[1;33m\u001b[0m\u001b[0m\n\u001b[0;32m      4\u001b[0m \u001b[0mseasonality\u001b[0m\u001b[1;33m\u001b[0m\u001b[1;33m\u001b[0m\u001b[0m\n\u001b[0;32m      5\u001b[0m \u001b[0mprint\u001b[0m\u001b[1;33m(\u001b[0m\u001b[0mlen\u001b[0m\u001b[1;33m(\u001b[0m\u001b[0mseasonality\u001b[0m\u001b[1;33m)\u001b[0m\u001b[1;33m)\u001b[0m\u001b[1;33m\u001b[0m\u001b[1;33m\u001b[0m\u001b[0m\n",
      "\u001b[1;31mNameError\u001b[0m: name 'raw_predictions' is not defined"
     ]
    }
   ],
   "source": [
    "x_value=raw_predictions.seasonality\n",
    "x=x_value.cpu().detach().numpy()\n",
    "seasonality=np.reshape(x,(1095,))\n",
    "seasonality\n",
    "print(len(seasonality))\n",
    "seasonality\n"
   ]
  },
  {
   "cell_type": "code",
   "execution_count": 125,
   "id": "2767bd72-4539-443a-adc5-64ad286ee694",
   "metadata": {},
   "outputs": [
    {
     "data": {
      "text/html": [
       "<div>\n",
       "<style scoped>\n",
       "    .dataframe tbody tr th:only-of-type {\n",
       "        vertical-align: middle;\n",
       "    }\n",
       "\n",
       "    .dataframe tbody tr th {\n",
       "        vertical-align: top;\n",
       "    }\n",
       "\n",
       "    .dataframe thead th {\n",
       "        text-align: right;\n",
       "    }\n",
       "</style>\n",
       "<table border=\"1\" class=\"dataframe\">\n",
       "  <thead>\n",
       "    <tr style=\"text-align: right;\">\n",
       "      <th></th>\n",
       "      <th>date</th>\n",
       "      <th>trend</th>\n",
       "      <th>yearly</th>\n",
       "      <th>weekly</th>\n",
       "    </tr>\n",
       "  </thead>\n",
       "  <tbody>\n",
       "    <tr>\n",
       "      <th>0</th>\n",
       "      <td>NaN</td>\n",
       "      <td>NaN</td>\n",
       "      <td>0.559919</td>\n",
       "      <td>NaN</td>\n",
       "    </tr>\n",
       "    <tr>\n",
       "      <th>1</th>\n",
       "      <td>NaN</td>\n",
       "      <td>NaN</td>\n",
       "      <td>0.565740</td>\n",
       "      <td>NaN</td>\n",
       "    </tr>\n",
       "    <tr>\n",
       "      <th>2</th>\n",
       "      <td>NaN</td>\n",
       "      <td>NaN</td>\n",
       "      <td>0.566699</td>\n",
       "      <td>NaN</td>\n",
       "    </tr>\n",
       "    <tr>\n",
       "      <th>3</th>\n",
       "      <td>NaN</td>\n",
       "      <td>NaN</td>\n",
       "      <td>0.568277</td>\n",
       "      <td>NaN</td>\n",
       "    </tr>\n",
       "    <tr>\n",
       "      <th>4</th>\n",
       "      <td>NaN</td>\n",
       "      <td>NaN</td>\n",
       "      <td>0.573263</td>\n",
       "      <td>NaN</td>\n",
       "    </tr>\n",
       "  </tbody>\n",
       "</table>\n",
       "</div>"
      ],
      "text/plain": [
       "  date trend    yearly weekly\n",
       "0  NaN   NaN  0.559919    NaN\n",
       "1  NaN   NaN  0.565740    NaN\n",
       "2  NaN   NaN  0.566699    NaN\n",
       "3  NaN   NaN  0.568277    NaN\n",
       "4  NaN   NaN  0.573263    NaN"
      ]
     },
     "execution_count": 125,
     "metadata": {},
     "output_type": "execute_result"
    }
   ],
   "source": [
    "series = pd.date_range(start='2016-01-01', end='2021-12-31', freq='D')\n",
    "df_prediction = pd.DataFrame(columns=['date', 'trend', 'yearly', 'weekly'])\n",
    "df_prediction['yearly'] = seasonality\n",
    "df_prediction.head()"
   ]
  },
  {
   "cell_type": "code",
   "execution_count": 188,
   "id": "ca09f024-2f18-4ca0-9656-358b8f8148d8",
   "metadata": {},
   "outputs": [
    {
     "name": "stdout",
     "output_type": "stream",
     "text": [
      "{'encoder_cat': tensor([], size=(1, 730, 0), dtype=torch.int64), 'encoder_cont': tensor([[[-0.0099],\n",
      "         [-0.0640],\n",
      "         [ 0.3645],\n",
      "         [ 0.2245],\n",
      "         [ 0.1229],\n",
      "         [ 0.6278],\n",
      "         [ 0.1605],\n",
      "         [ 0.2700],\n",
      "         [ 0.0054],\n",
      "         [ 0.4645],\n",
      "         [ 0.2078],\n",
      "         [ 0.2811],\n",
      "         [ 0.6010],\n",
      "         [ 0.5001],\n",
      "         [-0.0674],\n",
      "         [ 0.7069],\n",
      "         [ 0.1801],\n",
      "         [ 0.1591],\n",
      "         [ 0.5899],\n",
      "         [ 0.6820],\n",
      "         [ 0.2926],\n",
      "         [ 0.6585],\n",
      "         [ 0.1855],\n",
      "         [ 0.2150],\n",
      "         [ 0.7394],\n",
      "         [ 0.2738],\n",
      "         [ 1.0900],\n",
      "         [ 0.4443],\n",
      "         [ 0.8170],\n",
      "         [ 1.0465],\n",
      "         [ 0.6112],\n",
      "         [ 0.7755],\n",
      "         [ 0.8977],\n",
      "         [ 0.4382],\n",
      "         [ 0.4644],\n",
      "         [ 0.6863],\n",
      "         [ 1.2351],\n",
      "         [ 1.0291],\n",
      "         [ 0.5534],\n",
      "         [ 0.4529],\n",
      "         [ 0.9525],\n",
      "         [ 1.3093],\n",
      "         [ 0.7102],\n",
      "         [ 0.6870],\n",
      "         [ 0.6632],\n",
      "         [ 1.2576],\n",
      "         [ 0.5769],\n",
      "         [ 1.2364],\n",
      "         [ 0.8469],\n",
      "         [ 1.3502],\n",
      "         [ 0.5871],\n",
      "         [ 1.2748],\n",
      "         [ 1.4223],\n",
      "         [ 1.4381],\n",
      "         [ 1.1032],\n",
      "         [ 1.6198],\n",
      "         [ 1.7369],\n",
      "         [ 1.3504],\n",
      "         [ 1.5716],\n",
      "         [ 1.4319],\n",
      "         [ 1.0567],\n",
      "         [ 1.0954],\n",
      "         [ 1.4938],\n",
      "         [ 0.6354],\n",
      "         [ 1.2128],\n",
      "         [ 0.9555],\n",
      "         [ 1.5702],\n",
      "         [ 1.4872],\n",
      "         [ 1.6501],\n",
      "         [ 1.6488],\n",
      "         [ 1.5229],\n",
      "         [ 1.0498],\n",
      "         [ 0.7968],\n",
      "         [ 0.7315],\n",
      "         [ 1.2119],\n",
      "         [ 0.7258],\n",
      "         [ 1.5096],\n",
      "         [ 1.4420],\n",
      "         [ 1.1254],\n",
      "         [ 1.1346],\n",
      "         [ 1.5753],\n",
      "         [ 1.6037],\n",
      "         [ 1.8420],\n",
      "         [ 1.6042],\n",
      "         [ 1.4612],\n",
      "         [ 1.4922],\n",
      "         [ 1.5559],\n",
      "         [ 1.1115],\n",
      "         [ 1.5277],\n",
      "         [ 0.7823],\n",
      "         [ 1.9149],\n",
      "         [ 1.1159],\n",
      "         [ 1.1924],\n",
      "         [ 1.4083],\n",
      "         [ 1.5939],\n",
      "         [ 1.2868],\n",
      "         [ 1.2432],\n",
      "         [ 1.6542],\n",
      "         [ 1.7034],\n",
      "         [ 1.9339],\n",
      "         [ 1.3373],\n",
      "         [ 1.3873],\n",
      "         [ 2.1266],\n",
      "         [ 1.4003],\n",
      "         [ 1.3268],\n",
      "         [ 1.5064],\n",
      "         [ 1.6764],\n",
      "         [ 0.8734],\n",
      "         [ 1.3192],\n",
      "         [ 1.3924],\n",
      "         [ 1.5898],\n",
      "         [ 1.4635],\n",
      "         [ 1.6411],\n",
      "         [ 1.0979],\n",
      "         [ 1.4261],\n",
      "         [ 1.1152],\n",
      "         [ 1.1324],\n",
      "         [ 1.6002],\n",
      "         [ 1.4349],\n",
      "         [ 1.2149],\n",
      "         [ 0.8632],\n",
      "         [ 1.3051],\n",
      "         [ 0.8515],\n",
      "         [ 1.4720],\n",
      "         [ 1.2998],\n",
      "         [ 0.9571],\n",
      "         [ 0.9898],\n",
      "         [ 1.1884],\n",
      "         [ 0.8812],\n",
      "         [ 1.5537],\n",
      "         [ 0.7130],\n",
      "         [ 0.9471],\n",
      "         [ 1.4735],\n",
      "         [ 0.8328],\n",
      "         [ 0.8863],\n",
      "         [ 1.4135],\n",
      "         [ 1.1946],\n",
      "         [ 1.0084],\n",
      "         [ 0.7467],\n",
      "         [ 0.2182],\n",
      "         [ 1.3726],\n",
      "         [ 1.0362],\n",
      "         [ 1.1333],\n",
      "         [ 1.1656],\n",
      "         [ 0.8413],\n",
      "         [ 1.2378],\n",
      "         [ 0.7734],\n",
      "         [ 0.7541],\n",
      "         [ 1.1664],\n",
      "         [ 0.9770],\n",
      "         [ 0.7993],\n",
      "         [ 1.1801],\n",
      "         [ 0.5336],\n",
      "         [ 0.4804],\n",
      "         [ 0.4448],\n",
      "         [ 0.8539],\n",
      "         [ 0.8314],\n",
      "         [ 0.8619],\n",
      "         [ 0.4672],\n",
      "         [ 0.6092],\n",
      "         [ 0.8240],\n",
      "         [ 0.4436],\n",
      "         [ 0.5652],\n",
      "         [ 0.2925],\n",
      "         [ 0.9602],\n",
      "         [ 0.6458],\n",
      "         [ 0.6322],\n",
      "         [ 0.0391],\n",
      "         [-0.0719],\n",
      "         [ 0.3443],\n",
      "         [ 0.1370],\n",
      "         [ 0.6871],\n",
      "         [ 0.7614],\n",
      "         [-0.0695],\n",
      "         [ 0.0705],\n",
      "         [ 0.4826],\n",
      "         [-0.0735],\n",
      "         [ 0.5102],\n",
      "         [ 0.7149],\n",
      "         [-0.1847],\n",
      "         [-0.0172],\n",
      "         [-0.0917],\n",
      "         [ 0.3683],\n",
      "         [ 0.2688],\n",
      "         [-0.2509],\n",
      "         [-0.2196],\n",
      "         [-0.4964],\n",
      "         [-0.3435],\n",
      "         [ 0.2873],\n",
      "         [ 0.1555],\n",
      "         [ 0.1765],\n",
      "         [ 0.0774],\n",
      "         [-0.4938],\n",
      "         [-0.4689],\n",
      "         [ 0.1457],\n",
      "         [-0.5409],\n",
      "         [-0.6320],\n",
      "         [-0.2072],\n",
      "         [-0.5422],\n",
      "         [-0.7123],\n",
      "         [-0.2182],\n",
      "         [ 0.1637],\n",
      "         [-0.3846],\n",
      "         [-0.7577],\n",
      "         [-0.3333],\n",
      "         [-0.0361],\n",
      "         [-0.4529],\n",
      "         [-0.9447],\n",
      "         [-0.1396],\n",
      "         [-0.4375],\n",
      "         [-0.4684],\n",
      "         [-0.2398],\n",
      "         [-0.4304],\n",
      "         [-0.3561],\n",
      "         [-0.7933],\n",
      "         [-0.6303],\n",
      "         [-0.8867],\n",
      "         [-0.9016],\n",
      "         [-0.5475],\n",
      "         [-0.7565],\n",
      "         [-0.7063],\n",
      "         [-0.8031],\n",
      "         [-0.7856],\n",
      "         [-0.7994],\n",
      "         [-0.3300],\n",
      "         [-1.0284],\n",
      "         [-1.2069],\n",
      "         [-1.1691],\n",
      "         [-0.7626],\n",
      "         [-0.6726],\n",
      "         [-0.8957],\n",
      "         [-1.2423],\n",
      "         [-0.8209],\n",
      "         [-1.0578],\n",
      "         [-0.8280],\n",
      "         [-1.2175],\n",
      "         [-1.3702],\n",
      "         [-1.1231],\n",
      "         [-1.2365],\n",
      "         [-0.7868],\n",
      "         [-0.7833],\n",
      "         [-1.3422],\n",
      "         [-1.2169],\n",
      "         [-1.1750],\n",
      "         [-1.1157],\n",
      "         [-0.8264],\n",
      "         [-1.2003],\n",
      "         [-1.1631],\n",
      "         [-1.4417],\n",
      "         [-0.5016],\n",
      "         [-0.8500],\n",
      "         [-1.1092],\n",
      "         [-1.0939],\n",
      "         [-1.3655],\n",
      "         [-1.1475],\n",
      "         [-1.1625],\n",
      "         [-1.0910],\n",
      "         [-1.5311],\n",
      "         [-1.2978],\n",
      "         [-1.1053],\n",
      "         [-1.1364],\n",
      "         [-0.6779],\n",
      "         [-1.1273],\n",
      "         [-1.4065],\n",
      "         [-1.0345],\n",
      "         [-1.5003],\n",
      "         [-1.2225],\n",
      "         [-1.5855],\n",
      "         [-0.5277],\n",
      "         [-1.2867],\n",
      "         [-1.2373],\n",
      "         [-1.4254],\n",
      "         [-0.8035],\n",
      "         [-1.3490],\n",
      "         [-1.4090],\n",
      "         [-1.8434],\n",
      "         [-1.4953],\n",
      "         [-1.2109],\n",
      "         [-1.5319],\n",
      "         [-0.9850],\n",
      "         [-1.5813],\n",
      "         [-1.1841],\n",
      "         [-1.3955],\n",
      "         [-1.4013],\n",
      "         [-1.2330],\n",
      "         [-0.8014],\n",
      "         [-1.6594],\n",
      "         [-1.4550],\n",
      "         [-1.0072],\n",
      "         [-1.4466],\n",
      "         [-1.3132],\n",
      "         [-0.8517],\n",
      "         [-1.0286],\n",
      "         [-1.7317],\n",
      "         [-1.1690],\n",
      "         [-1.5453],\n",
      "         [-1.2036],\n",
      "         [-1.3583],\n",
      "         [-1.2770],\n",
      "         [-1.0438],\n",
      "         [-1.1200],\n",
      "         [-1.3433],\n",
      "         [-1.0215],\n",
      "         [-1.5602],\n",
      "         [-1.2562],\n",
      "         [-1.2027],\n",
      "         [-0.8596],\n",
      "         [-1.6387],\n",
      "         [-0.9313],\n",
      "         [-1.5430],\n",
      "         [-0.9084],\n",
      "         [-1.0605],\n",
      "         [-0.3155],\n",
      "         [-0.4119],\n",
      "         [-1.1079],\n",
      "         [-0.6285],\n",
      "         [-1.1032],\n",
      "         [-0.5823],\n",
      "         [-1.1920],\n",
      "         [-0.9193],\n",
      "         [-1.0207],\n",
      "         [-0.5729],\n",
      "         [-0.9505],\n",
      "         [-0.9934],\n",
      "         [-0.4485],\n",
      "         [-0.7158],\n",
      "         [-0.7103],\n",
      "         [-0.6942],\n",
      "         [-0.5546],\n",
      "         [-0.8027],\n",
      "         [-0.8541],\n",
      "         [-0.8976],\n",
      "         [-0.2120],\n",
      "         [-0.7314],\n",
      "         [-0.9849],\n",
      "         [-0.4410],\n",
      "         [-0.6831],\n",
      "         [-0.8729],\n",
      "         [-0.2684],\n",
      "         [-0.4254],\n",
      "         [-0.3986],\n",
      "         [ 0.2732],\n",
      "         [-0.4304],\n",
      "         [-0.2140],\n",
      "         [-0.3894],\n",
      "         [-0.5490],\n",
      "         [-0.8237],\n",
      "         [-0.1209],\n",
      "         [-0.3637],\n",
      "         [-0.2801],\n",
      "         [-0.2895],\n",
      "         [-0.0892],\n",
      "         [-0.2153],\n",
      "         [-0.3185],\n",
      "         [-0.2108],\n",
      "         [-0.4484],\n",
      "         [-0.4915],\n",
      "         [ 0.0179],\n",
      "         [-0.1320],\n",
      "         [ 0.0838],\n",
      "         [ 0.0788],\n",
      "         [-0.0856],\n",
      "         [ 0.3014],\n",
      "         [ 0.1586],\n",
      "         [ 0.0300],\n",
      "         [ 0.1905],\n",
      "         [ 0.1136],\n",
      "         [-0.1005],\n",
      "         [ 0.0174],\n",
      "         [ 0.3608],\n",
      "         [ 0.1858],\n",
      "         [ 0.0326],\n",
      "         [ 0.2929],\n",
      "         [ 0.1047],\n",
      "         [ 0.2882],\n",
      "         [ 0.2775],\n",
      "         [ 0.1553],\n",
      "         [ 0.6967],\n",
      "         [ 0.1812],\n",
      "         [ 0.7588],\n",
      "         [ 0.4317],\n",
      "         [ 0.5818],\n",
      "         [ 0.0935],\n",
      "         [ 0.7185],\n",
      "         [ 0.7349],\n",
      "         [ 0.2966],\n",
      "         [ 0.5823],\n",
      "         [ 0.3355],\n",
      "         [ 0.3362],\n",
      "         [ 0.7957],\n",
      "         [ 0.6704],\n",
      "         [ 0.5756],\n",
      "         [ 0.7353],\n",
      "         [ 0.0455],\n",
      "         [ 0.5977],\n",
      "         [ 1.0572],\n",
      "         [ 1.2356],\n",
      "         [ 0.7194],\n",
      "         [ 0.7721],\n",
      "         [ 0.6778],\n",
      "         [ 0.9028],\n",
      "         [ 0.2837],\n",
      "         [ 0.6937],\n",
      "         [ 0.8642],\n",
      "         [ 0.5497],\n",
      "         [ 1.1171],\n",
      "         [ 0.5156],\n",
      "         [ 0.7488],\n",
      "         [ 1.1274],\n",
      "         [ 1.1814],\n",
      "         [ 1.2226],\n",
      "         [ 1.0680],\n",
      "         [ 0.4072],\n",
      "         [ 0.7356],\n",
      "         [ 0.7136],\n",
      "         [ 0.9853],\n",
      "         [ 0.7675],\n",
      "         [ 0.8773],\n",
      "         [ 0.8535],\n",
      "         [ 1.2962],\n",
      "         [ 1.2629],\n",
      "         [ 1.0995],\n",
      "         [ 1.2167],\n",
      "         [ 1.0786],\n",
      "         [ 1.1392],\n",
      "         [ 0.5997],\n",
      "         [ 1.0152],\n",
      "         [ 1.2286],\n",
      "         [ 1.4485],\n",
      "         [ 1.2642],\n",
      "         [ 1.4847],\n",
      "         [ 0.7054],\n",
      "         [ 1.1981],\n",
      "         [ 1.1519],\n",
      "         [ 1.2888],\n",
      "         [ 1.4521],\n",
      "         [ 1.0307],\n",
      "         [ 1.7075],\n",
      "         [ 1.3279],\n",
      "         [ 1.2884],\n",
      "         [ 0.9671],\n",
      "         [ 1.5245],\n",
      "         [ 1.2554],\n",
      "         [ 0.7540],\n",
      "         [ 1.8893],\n",
      "         [ 1.1912],\n",
      "         [ 1.5632],\n",
      "         [ 1.1614],\n",
      "         [ 0.8082],\n",
      "         [ 1.2885],\n",
      "         [ 1.2460],\n",
      "         [ 1.1745],\n",
      "         [ 1.5761],\n",
      "         [ 1.3509],\n",
      "         [ 1.3143],\n",
      "         [ 1.1535],\n",
      "         [ 1.6587],\n",
      "         [ 1.0930],\n",
      "         [ 1.5272],\n",
      "         [ 1.3033],\n",
      "         [ 0.8525],\n",
      "         [ 1.0656],\n",
      "         [ 1.7518],\n",
      "         [ 1.4647],\n",
      "         [ 1.3234],\n",
      "         [ 1.5773],\n",
      "         [ 1.2794],\n",
      "         [ 1.1118],\n",
      "         [ 1.3784],\n",
      "         [ 1.4566],\n",
      "         [ 1.1101],\n",
      "         [ 1.3821],\n",
      "         [ 1.3078],\n",
      "         [ 0.8355],\n",
      "         [ 1.3214],\n",
      "         [ 0.7445],\n",
      "         [ 1.1796],\n",
      "         [ 0.8553],\n",
      "         [ 1.2445],\n",
      "         [ 0.9998],\n",
      "         [ 1.1626],\n",
      "         [ 0.9453],\n",
      "         [ 1.3091],\n",
      "         [ 1.5611],\n",
      "         [ 1.3943],\n",
      "         [ 1.4683],\n",
      "         [ 0.8396],\n",
      "         [ 0.9221],\n",
      "         [ 0.9537],\n",
      "         [ 1.0790],\n",
      "         [ 0.9557],\n",
      "         [ 1.3235],\n",
      "         [ 0.8210],\n",
      "         [ 1.1508],\n",
      "         [ 0.8530],\n",
      "         [ 0.7605],\n",
      "         [ 0.7300],\n",
      "         [ 0.6326],\n",
      "         [ 0.6123],\n",
      "         [ 0.7878],\n",
      "         [ 1.1727],\n",
      "         [ 0.3725],\n",
      "         [ 0.3988],\n",
      "         [ 0.9347],\n",
      "         [ 0.9680],\n",
      "         [ 0.6172],\n",
      "         [ 0.8224],\n",
      "         [ 0.8285],\n",
      "         [ 0.8728],\n",
      "         [ 0.4979],\n",
      "         [ 0.6994],\n",
      "         [ 0.3042],\n",
      "         [ 0.7684],\n",
      "         [ 0.4647],\n",
      "         [ 0.4054],\n",
      "         [ 0.7984],\n",
      "         [ 1.3008],\n",
      "         [ 0.7469],\n",
      "         [ 0.3051],\n",
      "         [ 0.6155],\n",
      "         [ 0.8777],\n",
      "         [ 0.5335],\n",
      "         [ 0.5696],\n",
      "         [-0.0921],\n",
      "         [ 0.4205],\n",
      "         [ 0.6232],\n",
      "         [ 1.0031],\n",
      "         [ 0.3411],\n",
      "         [ 0.3340],\n",
      "         [ 0.6681],\n",
      "         [-0.1739],\n",
      "         [ 0.2360],\n",
      "         [ 0.2472],\n",
      "         [ 0.1557],\n",
      "         [-0.1397],\n",
      "         [ 0.3896],\n",
      "         [-0.1646],\n",
      "         [ 0.5518],\n",
      "         [ 0.1572],\n",
      "         [ 0.3712],\n",
      "         [ 0.3384],\n",
      "         [ 0.2169],\n",
      "         [-0.1762],\n",
      "         [-0.0228],\n",
      "         [ 0.2042],\n",
      "         [-0.0598],\n",
      "         [ 0.3179],\n",
      "         [-0.0495],\n",
      "         [-0.0563],\n",
      "         [-0.2825],\n",
      "         [-0.0756],\n",
      "         [-0.2084],\n",
      "         [-0.0714],\n",
      "         [-0.2533],\n",
      "         [-0.4613],\n",
      "         [-0.5999],\n",
      "         [ 0.1115],\n",
      "         [-0.6262],\n",
      "         [-0.5329],\n",
      "         [-0.5334],\n",
      "         [-0.4020],\n",
      "         [-0.6029],\n",
      "         [-0.2227],\n",
      "         [-0.7330],\n",
      "         [-0.3005],\n",
      "         [-0.5070],\n",
      "         [-0.3903],\n",
      "         [-0.8845],\n",
      "         [-0.5391],\n",
      "         [-1.0268],\n",
      "         [-1.0925],\n",
      "         [-1.0685],\n",
      "         [-0.4035],\n",
      "         [-0.9905],\n",
      "         [-0.5974],\n",
      "         [-0.7398],\n",
      "         [-0.6842],\n",
      "         [-0.5375],\n",
      "         [-1.0925],\n",
      "         [-1.2708],\n",
      "         [-0.9815],\n",
      "         [-1.1590],\n",
      "         [-0.5320],\n",
      "         [-0.1869],\n",
      "         [-0.8810],\n",
      "         [-1.2344],\n",
      "         [-0.8453],\n",
      "         [-0.7815],\n",
      "         [-0.7373],\n",
      "         [-0.9868],\n",
      "         [-1.2861],\n",
      "         [-1.1976],\n",
      "         [-1.0290],\n",
      "         [-1.2326],\n",
      "         [-1.3918],\n",
      "         [-1.1805],\n",
      "         [-1.1562],\n",
      "         [-1.3876],\n",
      "         [-0.8905],\n",
      "         [-0.7657],\n",
      "         [-1.2103],\n",
      "         [-1.1914],\n",
      "         [-0.9553],\n",
      "         [-1.1022],\n",
      "         [-1.1524],\n",
      "         [-1.7536],\n",
      "         [-1.2092],\n",
      "         [-1.3634],\n",
      "         [-1.3517],\n",
      "         [-1.1932],\n",
      "         [-1.5013],\n",
      "         [-0.8814],\n",
      "         [-1.2362],\n",
      "         [-1.1559],\n",
      "         [-1.2228],\n",
      "         [-1.4989],\n",
      "         [-1.3655],\n",
      "         [-1.2946],\n",
      "         [-1.4043],\n",
      "         [-1.6237],\n",
      "         [-0.9244],\n",
      "         [-1.5450],\n",
      "         [-1.5102],\n",
      "         [-1.7086],\n",
      "         [-0.5139],\n",
      "         [-1.2240],\n",
      "         [-1.5200],\n",
      "         [-0.7764],\n",
      "         [-1.3241],\n",
      "         [-1.4147],\n",
      "         [-1.0266],\n",
      "         [-1.3081],\n",
      "         [-1.3774],\n",
      "         [-1.1163],\n",
      "         [-1.4477],\n",
      "         [-1.3353],\n",
      "         [-1.3630],\n",
      "         [-1.9455],\n",
      "         [-1.7319],\n",
      "         [-1.7613],\n",
      "         [-2.1415],\n",
      "         [-1.1925],\n",
      "         [-1.4340],\n",
      "         [-1.4249],\n",
      "         [-1.4976],\n",
      "         [-1.4159],\n",
      "         [-1.6150],\n",
      "         [-1.7592],\n",
      "         [-0.9087],\n",
      "         [-1.4994],\n",
      "         [-1.3328],\n",
      "         [-1.5266],\n",
      "         [-1.0584],\n",
      "         [-1.0472],\n",
      "         [-1.5818],\n",
      "         [-1.2193],\n",
      "         [-1.1291],\n",
      "         [-1.5234],\n",
      "         [-1.5852],\n",
      "         [-1.4360],\n",
      "         [-1.2822],\n",
      "         [-1.4484],\n",
      "         [-0.9221],\n",
      "         [-1.0346],\n",
      "         [-1.4427],\n",
      "         [-1.4188],\n",
      "         [-1.3480],\n",
      "         [-0.9571],\n",
      "         [-0.9305],\n",
      "         [-0.7856],\n",
      "         [-0.9288],\n",
      "         [-1.4658],\n",
      "         [-0.8438],\n",
      "         [-1.3381],\n",
      "         [-0.8620],\n",
      "         [-1.2772],\n",
      "         [-0.9180],\n",
      "         [-1.1239],\n",
      "         [-1.2698],\n",
      "         [-1.2740],\n",
      "         [-1.3354],\n",
      "         [-0.9876],\n",
      "         [-0.9967],\n",
      "         [-1.0343],\n",
      "         [-0.8312],\n",
      "         [-0.5539],\n",
      "         [-0.9775],\n",
      "         [-0.8173],\n",
      "         [-0.9593],\n",
      "         [-0.4758],\n",
      "         [-1.1005],\n",
      "         [-1.5576],\n",
      "         [-0.9340],\n",
      "         [-0.9201],\n",
      "         [-0.5283],\n",
      "         [-0.9938],\n",
      "         [-1.1886],\n",
      "         [ 0.0199],\n",
      "         [-1.1843],\n",
      "         [-0.8727],\n",
      "         [-0.6234],\n",
      "         [-0.5612],\n",
      "         [-0.6492],\n",
      "         [-0.9984],\n",
      "         [-1.3200],\n",
      "         [-0.5561],\n",
      "         [-0.9977],\n",
      "         [-0.2924],\n",
      "         [-0.8148],\n",
      "         [-0.7147],\n",
      "         [-0.4281],\n",
      "         [-0.6476],\n",
      "         [-0.2555],\n",
      "         [-0.4489],\n",
      "         [-0.1235],\n",
      "         [-1.0059],\n",
      "         [-0.5500],\n",
      "         [-0.5060],\n",
      "         [ 0.0810],\n",
      "         [-0.5591],\n",
      "         [-0.4950],\n",
      "         [-0.1134],\n",
      "         [-0.3193],\n",
      "         [-0.7414],\n",
      "         [-0.7053],\n",
      "         [ 0.1077],\n",
      "         [-0.0800],\n",
      "         [-0.1205],\n",
      "         [ 0.2982],\n",
      "         [-0.1011]]]), 'encoder_target': tensor([[0.5543, 0.5430, 0.6324, 0.6032, 0.5820, 0.6874, 0.5899, 0.6127, 0.5575,\n",
      "         0.6533, 0.5998, 0.6150, 0.6818, 0.6607, 0.5423, 0.7038, 0.5940, 0.5896,\n",
      "         0.6795, 0.6987, 0.6174, 0.6938, 0.5951, 0.6013, 0.7106, 0.6135, 0.7838,\n",
      "         0.6491, 0.7268, 0.7747, 0.6839, 0.7182, 0.7437, 0.6478, 0.6533, 0.6996,\n",
      "         0.8140, 0.7711, 0.6718, 0.6509, 0.7551, 0.8295, 0.7045, 0.6997, 0.6947,\n",
      "         0.8187, 0.6767, 0.8143, 0.7330, 0.8381, 0.6789, 0.8223, 0.8531, 0.8564,\n",
      "         0.7865, 0.8943, 0.9187, 0.8381, 0.8842, 0.8551, 0.7768, 0.7849, 0.8680,\n",
      "         0.6889, 0.8094, 0.7557, 0.8839, 0.8666, 0.9006, 0.9003, 0.8741, 0.7754,\n",
      "         0.7226, 0.7090, 0.8092, 0.7078, 0.8713, 0.8572, 0.7912, 0.7931, 0.8850,\n",
      "         0.8909, 0.9406, 0.8910, 0.8612, 0.8677, 0.8809, 0.7883, 0.8751, 0.7196,\n",
      "         0.9558, 0.7892, 0.8051, 0.8502, 0.8889, 0.8248, 0.8157, 0.9015, 0.9117,\n",
      "         0.9598, 0.8354, 0.8458, 1.0000, 0.8485, 0.8332, 0.8706, 0.9061, 0.7386,\n",
      "         0.8316, 0.8469, 0.8880, 0.8617, 0.8987, 0.7854, 0.8539, 0.7890, 0.7926,\n",
      "         0.8902, 0.8557, 0.8098, 0.7364, 0.8286, 0.7340, 0.8634, 0.8275, 0.7561,\n",
      "         0.7629, 0.8043, 0.7402, 0.8805, 0.7051, 0.7540, 0.8638, 0.7301, 0.7413,\n",
      "         0.8512, 0.8056, 0.7667, 0.7121, 0.6019, 0.8427, 0.7725, 0.7928, 0.7995,\n",
      "         0.7319, 0.8146, 0.7177, 0.7137, 0.7997, 0.7602, 0.7231, 0.8026, 0.6677,\n",
      "         0.6566, 0.6492, 0.7345, 0.7298, 0.7362, 0.6538, 0.6835, 0.7283, 0.6489,\n",
      "         0.6743, 0.6174, 0.7567, 0.6911, 0.6883, 0.5646, 0.5414, 0.6282, 0.5850,\n",
      "         0.6997, 0.7152, 0.5419, 0.5711, 0.6571, 0.5411, 0.6628, 0.7055, 0.5179,\n",
      "         0.5528, 0.5373, 0.6332, 0.6125, 0.5041, 0.5106, 0.4529, 0.4847, 0.6163,\n",
      "         0.5888, 0.5932, 0.5725, 0.4534, 0.4586, 0.5868, 0.4436, 0.4246, 0.5132,\n",
      "         0.4433, 0.4078, 0.5109, 0.5905, 0.4762, 0.3983, 0.4869, 0.5489, 0.4619,\n",
      "         0.3593, 0.5273, 0.4651, 0.4587, 0.5064, 0.4666, 0.4821, 0.3909, 0.4249,\n",
      "         0.3714, 0.3683, 0.4422, 0.3986, 0.4091, 0.3889, 0.3925, 0.3897, 0.4876,\n",
      "         0.3419, 0.3046, 0.3125, 0.3973, 0.4161, 0.3696, 0.2973, 0.3852, 0.3357,\n",
      "         0.3837, 0.3024, 0.2706, 0.3221, 0.2985, 0.3923, 0.3930, 0.2764, 0.3026,\n",
      "         0.3113, 0.3237, 0.3840, 0.3060, 0.3138, 0.2557, 0.4518, 0.3791, 0.3250,\n",
      "         0.3282, 0.2716, 0.3170, 0.3139, 0.3288, 0.2370, 0.2857, 0.3258, 0.3194,\n",
      "         0.4150, 0.3213, 0.2630, 0.3406, 0.2435, 0.3014, 0.2257, 0.4463, 0.2880,\n",
      "         0.2983, 0.2591, 0.3888, 0.2750, 0.2625, 0.1719, 0.2445, 0.3038, 0.2368,\n",
      "         0.3509, 0.2266, 0.3094, 0.2653, 0.2641, 0.2992, 0.3892, 0.2103, 0.2529,\n",
      "         0.3463, 0.2547, 0.2825, 0.3787, 0.3418, 0.1952, 0.3125, 0.2341, 0.3053,\n",
      "         0.2731, 0.2900, 0.3387, 0.3228, 0.2762, 0.3433, 0.2310, 0.2944, 0.3055,\n",
      "         0.3771, 0.2146, 0.3621, 0.2345, 0.3669, 0.3352, 0.4906, 0.4705, 0.3253,\n",
      "         0.4253, 0.3263, 0.4349, 0.3078, 0.3646, 0.3435, 0.4369, 0.3581, 0.3492,\n",
      "         0.4628, 0.4071, 0.4082, 0.4116, 0.4407, 0.3889, 0.3782, 0.3692, 0.5122,\n",
      "         0.4038, 0.3510, 0.4644, 0.4139, 0.3743, 0.5004, 0.4677, 0.4733, 0.6134,\n",
      "         0.4666, 0.5117, 0.4752, 0.4419, 0.3846, 0.5312, 0.4805, 0.4980, 0.4960,\n",
      "         0.5378, 0.5115, 0.4900, 0.5124, 0.4629, 0.4539, 0.5601, 0.5289, 0.5739,\n",
      "         0.5728, 0.5385, 0.6193, 0.5895, 0.5626, 0.5961, 0.5801, 0.5354, 0.5600,\n",
      "         0.6317, 0.5952, 0.5632, 0.6175, 0.5782, 0.6165, 0.6143, 0.5888, 0.7017,\n",
      "         0.5942, 0.7147, 0.6464, 0.6777, 0.5759, 0.7063, 0.7097, 0.6183, 0.6779,\n",
      "         0.6264, 0.6265, 0.7224, 0.6962, 0.6765, 0.7098, 0.5659, 0.6811, 0.7769,\n",
      "         0.8141, 0.7065, 0.7174, 0.6978, 0.7447, 0.6156, 0.7011, 0.7367, 0.6711,\n",
      "         0.7894, 0.6640, 0.7126, 0.7916, 0.8028, 0.8114, 0.7792, 0.6413, 0.7098,\n",
      "         0.7053, 0.7619, 0.7165, 0.7394, 0.7344, 0.8268, 0.8198, 0.7857, 0.8102,\n",
      "         0.7814, 0.7940, 0.6815, 0.7682, 0.8127, 0.8586, 0.8201, 0.8661, 0.7035,\n",
      "         0.8063, 0.7967, 0.8252, 0.8593, 0.7714, 0.9126, 0.8334, 0.8251, 0.7581,\n",
      "         0.8744, 0.8183, 0.7137, 0.9505, 0.8049, 0.8825, 0.7987, 0.7250, 0.8252,\n",
      "         0.8163, 0.8014, 0.8852, 0.8382, 0.8306, 0.7970, 0.9024, 0.7844, 0.8750,\n",
      "         0.8283, 0.7342, 0.7787, 0.9218, 0.8619, 0.8324, 0.8854, 0.8233, 0.7883,\n",
      "         0.8439, 0.8602, 0.7880, 0.8447, 0.8292, 0.7307, 0.8320, 0.7117, 0.8025,\n",
      "         0.7348, 0.8160, 0.7650, 0.7989, 0.7536, 0.8295, 0.8820, 0.8472, 0.8627,\n",
      "         0.7315, 0.7487, 0.7553, 0.7815, 0.7557, 0.8325, 0.7276, 0.7965, 0.7343,\n",
      "         0.7150, 0.7087, 0.6884, 0.6841, 0.7207, 0.8010, 0.6341, 0.6396, 0.7514,\n",
      "         0.7583, 0.6851, 0.7279, 0.7292, 0.7385, 0.6603, 0.7023, 0.6198, 0.7167,\n",
      "         0.6533, 0.6410, 0.7229, 0.8277, 0.7122, 0.6200, 0.6848, 0.7395, 0.6677,\n",
      "         0.6752, 0.5372, 0.6441, 0.6864, 0.7656, 0.6276, 0.6261, 0.6958, 0.5201,\n",
      "         0.6056, 0.6080, 0.5889, 0.5273, 0.6377, 0.5221, 0.6715, 0.5892, 0.6338,\n",
      "         0.6270, 0.6016, 0.5197, 0.5516, 0.5990, 0.5439, 0.6227, 0.5461, 0.5447,\n",
      "         0.4975, 0.5406, 0.5129, 0.5415, 0.5036, 0.4602, 0.4313, 0.5796, 0.4258,\n",
      "         0.4452, 0.4451, 0.4725, 0.4306, 0.5099, 0.4035, 0.4937, 0.4506, 0.4750,\n",
      "         0.3719, 0.4439, 0.3422, 0.3285, 0.3335, 0.4722, 0.3498, 0.4318, 0.4021,\n",
      "         0.4137, 0.4443, 0.3285, 0.2913, 0.3517, 0.3146, 0.4454, 0.5174, 0.3726,\n",
      "         0.2989, 0.3801, 0.3934, 0.4026, 0.3506, 0.2881, 0.3066, 0.3418, 0.2993,\n",
      "         0.2661, 0.3102, 0.3152, 0.2670, 0.3706, 0.3967, 0.3039, 0.3079, 0.3571,\n",
      "         0.3265, 0.3160, 0.1906, 0.3042, 0.2720, 0.2744, 0.3075, 0.2432, 0.3726,\n",
      "         0.2985, 0.3153, 0.3013, 0.2437, 0.2716, 0.2864, 0.2635, 0.2177, 0.3636,\n",
      "         0.2341, 0.2414, 0.2000, 0.4492, 0.3011, 0.2393, 0.3945, 0.2802, 0.2613,\n",
      "         0.3423, 0.2835, 0.2691, 0.3235, 0.2544, 0.2779, 0.2721, 0.1506, 0.1951,\n",
      "         0.1890, 0.1097, 0.3077, 0.2573, 0.2592, 0.2440, 0.2611, 0.2195, 0.1894,\n",
      "         0.3668, 0.2436, 0.2784, 0.2380, 0.3356, 0.3380, 0.2264, 0.3021, 0.3209,\n",
      "         0.2386, 0.2257, 0.2569, 0.2889, 0.2543, 0.3641, 0.3406, 0.2555, 0.2604,\n",
      "         0.2752, 0.3568, 0.3623, 0.3925, 0.3627, 0.2506, 0.3804, 0.2773, 0.3766,\n",
      "         0.2900, 0.3649, 0.3220, 0.2915, 0.2907, 0.2778, 0.3504, 0.3485, 0.3407,\n",
      "         0.3830, 0.4409, 0.3525, 0.3859, 0.3563, 0.4571, 0.3268, 0.2315, 0.3616,\n",
      "         0.3645, 0.4462, 0.3491, 0.3085, 0.5606, 0.3094, 0.3743, 0.4264, 0.4393,\n",
      "         0.4210, 0.3481, 0.2811, 0.4404, 0.3483, 0.4954, 0.3864, 0.4073, 0.4671,\n",
      "         0.4213, 0.5031, 0.4628, 0.5306, 0.3466, 0.4417, 0.4508, 0.5733, 0.4398,\n",
      "         0.4531, 0.5327, 0.4898, 0.4018, 0.4093, 0.5789, 0.5397, 0.5313, 0.6186,\n",
      "         0.5353]]), 'encoder_lengths': tensor([730]), 'decoder_cat': tensor([], size=(1, 365, 0), dtype=torch.int64), 'decoder_cont': tensor([[[ 4.7497e-02],\n",
      "         [-1.2384e-01],\n",
      "         [ 2.6970e-01],\n",
      "         [ 8.6295e-05],\n",
      "         [-2.7446e-02],\n",
      "         [-6.2038e-01],\n",
      "         [ 1.6788e-01],\n",
      "         [-4.0691e-01],\n",
      "         [ 2.7008e-02],\n",
      "         [-7.6676e-02],\n",
      "         [-3.3684e-01],\n",
      "         [ 3.2436e-02],\n",
      "         [ 1.7344e-01],\n",
      "         [ 4.0001e-02],\n",
      "         [ 6.1988e-01],\n",
      "         [ 7.7580e-04],\n",
      "         [ 2.8782e-01],\n",
      "         [ 7.2163e-01],\n",
      "         [ 4.3241e-01],\n",
      "         [ 2.8093e-01],\n",
      "         [ 3.0228e-01],\n",
      "         [ 6.3345e-01],\n",
      "         [ 4.3689e-01],\n",
      "         [-4.6097e-02],\n",
      "         [ 1.1203e-01],\n",
      "         [ 5.0216e-01],\n",
      "         [ 6.5389e-01],\n",
      "         [ 1.1512e-01],\n",
      "         [ 6.6280e-02],\n",
      "         [ 4.1500e-01],\n",
      "         [ 2.0522e-01],\n",
      "         [ 4.6261e-01],\n",
      "         [ 5.4202e-01],\n",
      "         [ 6.9576e-01],\n",
      "         [ 4.6288e-01],\n",
      "         [ 6.5413e-01],\n",
      "         [ 2.0199e-01],\n",
      "         [ 5.2041e-01],\n",
      "         [ 5.1379e-01],\n",
      "         [ 1.0191e+00],\n",
      "         [ 1.0909e+00],\n",
      "         [ 6.0888e-01],\n",
      "         [ 7.8073e-01],\n",
      "         [ 7.7054e-01],\n",
      "         [ 3.6148e-01],\n",
      "         [ 3.6929e-01],\n",
      "         [ 7.6815e-01],\n",
      "         [ 6.4533e-01],\n",
      "         [ 6.4884e-01],\n",
      "         [ 3.8134e-01],\n",
      "         [ 3.5876e-01],\n",
      "         [ 5.9213e-01],\n",
      "         [ 5.8757e-01],\n",
      "         [ 1.3472e+00],\n",
      "         [ 4.7065e-01],\n",
      "         [ 7.5026e-01],\n",
      "         [ 7.1938e-01],\n",
      "         [ 6.7104e-01],\n",
      "         [ 9.7584e-01],\n",
      "         [ 9.6636e-01],\n",
      "         [ 9.4596e-01],\n",
      "         [ 1.3528e+00],\n",
      "         [ 7.1214e-01],\n",
      "         [ 6.4128e-01],\n",
      "         [ 4.7661e-01],\n",
      "         [ 6.8914e-01],\n",
      "         [ 9.2065e-01],\n",
      "         [ 1.0599e+00],\n",
      "         [ 1.7100e+00],\n",
      "         [ 1.1545e+00],\n",
      "         [ 1.0367e+00],\n",
      "         [ 1.2893e+00],\n",
      "         [ 9.2068e-01],\n",
      "         [ 1.4806e+00],\n",
      "         [ 8.3359e-01],\n",
      "         [ 1.5233e+00],\n",
      "         [ 6.4597e-01],\n",
      "         [ 7.9997e-01],\n",
      "         [ 1.0278e+00],\n",
      "         [ 1.0466e+00],\n",
      "         [ 1.0336e+00],\n",
      "         [ 1.1926e+00],\n",
      "         [ 1.2004e+00],\n",
      "         [ 1.2113e+00],\n",
      "         [ 1.2024e+00],\n",
      "         [ 1.1588e+00],\n",
      "         [ 1.2199e+00],\n",
      "         [ 1.1463e+00],\n",
      "         [ 1.1672e+00],\n",
      "         [ 9.0502e-01],\n",
      "         [ 1.7184e+00],\n",
      "         [ 9.0987e-01],\n",
      "         [ 8.6658e-01],\n",
      "         [ 1.2181e+00],\n",
      "         [ 1.5011e+00],\n",
      "         [ 8.9830e-01],\n",
      "         [ 9.5327e-01],\n",
      "         [ 9.5175e-01],\n",
      "         [ 9.5232e-01],\n",
      "         [ 1.1255e+00],\n",
      "         [ 1.5021e+00],\n",
      "         [ 1.4527e+00],\n",
      "         [ 1.2732e+00],\n",
      "         [ 1.4719e+00],\n",
      "         [ 9.8399e-01],\n",
      "         [ 1.3826e+00],\n",
      "         [ 9.4462e-01],\n",
      "         [ 1.2204e+00],\n",
      "         [ 9.5495e-01],\n",
      "         [ 9.4199e-01],\n",
      "         [ 1.4900e+00],\n",
      "         [ 1.0719e+00],\n",
      "         [ 4.5801e-01],\n",
      "         [ 8.0970e-01],\n",
      "         [ 7.5878e-01],\n",
      "         [ 8.8135e-01],\n",
      "         [ 7.6160e-01],\n",
      "         [ 1.1831e+00],\n",
      "         [ 1.0039e+00],\n",
      "         [ 9.7201e-01],\n",
      "         [ 8.0463e-01],\n",
      "         [ 8.0918e-01],\n",
      "         [ 7.9930e-01],\n",
      "         [ 5.8231e-01],\n",
      "         [ 3.9820e-01],\n",
      "         [ 1.1413e+00],\n",
      "         [ 5.7214e-01],\n",
      "         [ 7.5007e-01],\n",
      "         [ 8.1673e-01],\n",
      "         [ 1.3084e+00],\n",
      "         [ 6.4798e-01],\n",
      "         [ 8.6441e-01],\n",
      "         [ 8.2160e-01],\n",
      "         [ 7.6921e-01],\n",
      "         [ 7.4357e-01],\n",
      "         [ 6.5054e-01],\n",
      "         [ 6.4944e-01],\n",
      "         [ 5.9331e-01],\n",
      "         [ 6.4494e-01],\n",
      "         [ 7.1974e-01],\n",
      "         [ 4.7356e-01],\n",
      "         [ 4.2591e-01],\n",
      "         [ 4.9517e-01],\n",
      "         [ 4.9631e-01],\n",
      "         [ 9.4652e-01],\n",
      "         [ 2.8875e-01],\n",
      "         [ 4.7320e-01],\n",
      "         [ 3.1604e-01],\n",
      "         [ 5.6875e-01],\n",
      "         [ 3.4857e-01],\n",
      "         [ 3.9891e-01],\n",
      "         [ 1.7076e-01],\n",
      "         [ 9.4685e-01],\n",
      "         [ 2.3814e-01],\n",
      "         [ 7.1809e-01],\n",
      "         [ 1.7168e-01],\n",
      "         [ 1.4151e-01],\n",
      "         [ 3.0020e-01],\n",
      "         [ 4.3048e-01],\n",
      "         [ 2.1313e-01],\n",
      "         [-1.7574e-01],\n",
      "         [-2.2548e-01],\n",
      "         [ 5.1670e-01],\n",
      "         [ 1.0729e-01],\n",
      "         [ 4.0604e-01],\n",
      "         [ 3.5684e-02],\n",
      "         [-1.6431e-02],\n",
      "         [ 3.9788e-01],\n",
      "         [ 3.3259e-01],\n",
      "         [-3.4188e-01],\n",
      "         [-4.0470e-02],\n",
      "         [-5.2749e-01],\n",
      "         [-5.7104e-02],\n",
      "         [-3.4654e-01],\n",
      "         [-1.3958e-01],\n",
      "         [ 2.8751e-01],\n",
      "         [-6.3395e-01],\n",
      "         [-3.2758e-01],\n",
      "         [ 5.2914e-03],\n",
      "         [-2.9432e-01],\n",
      "         [-2.6294e-01],\n",
      "         [-2.8100e-01],\n",
      "         [ 5.7582e-02],\n",
      "         [-2.3425e-01],\n",
      "         [-5.4949e-01],\n",
      "         [-3.6874e-01],\n",
      "         [ 2.3369e-01],\n",
      "         [-2.1973e-01],\n",
      "         [-8.8564e-01],\n",
      "         [-1.6345e-01],\n",
      "         [-5.2452e-01],\n",
      "         [-6.7574e-01],\n",
      "         [-6.8502e-01],\n",
      "         [-2.4120e-01],\n",
      "         [-8.8324e-01],\n",
      "         [-4.5850e-01],\n",
      "         [-4.1627e-01],\n",
      "         [-7.2485e-01],\n",
      "         [-2.1564e-01],\n",
      "         [-1.5642e-01],\n",
      "         [-7.8161e-01],\n",
      "         [-4.2290e-01],\n",
      "         [-7.5562e-01],\n",
      "         [-4.5469e-01],\n",
      "         [-7.2022e-01],\n",
      "         [-8.9982e-01],\n",
      "         [-8.4279e-01],\n",
      "         [-5.5751e-01],\n",
      "         [-1.2003e+00],\n",
      "         [-1.2746e+00],\n",
      "         [-1.0204e+00],\n",
      "         [-6.1845e-01],\n",
      "         [-5.9270e-01],\n",
      "         [-6.8764e-01],\n",
      "         [-8.5665e-01],\n",
      "         [-8.8886e-01],\n",
      "         [-8.7355e-01],\n",
      "         [-7.3075e-01],\n",
      "         [-1.2973e+00],\n",
      "         [-6.2745e-01],\n",
      "         [-1.7144e+00],\n",
      "         [-8.1863e-01],\n",
      "         [-1.0232e+00],\n",
      "         [-8.7704e-01],\n",
      "         [-1.7797e+00],\n",
      "         [-1.0824e+00],\n",
      "         [-1.3448e+00],\n",
      "         [-8.3227e-01],\n",
      "         [-1.0904e+00],\n",
      "         [-1.1694e+00],\n",
      "         [-6.8508e-01],\n",
      "         [-9.6264e-01],\n",
      "         [-1.4334e+00],\n",
      "         [-1.7358e+00],\n",
      "         [-1.3747e+00],\n",
      "         [-1.1121e+00],\n",
      "         [-1.5242e+00],\n",
      "         [-1.4890e+00],\n",
      "         [-1.0236e+00],\n",
      "         [-1.4388e+00],\n",
      "         [-1.2402e+00],\n",
      "         [-1.7117e+00],\n",
      "         [-1.5147e+00],\n",
      "         [-1.3900e+00],\n",
      "         [-1.0660e+00],\n",
      "         [-1.6983e+00],\n",
      "         [-1.2815e+00],\n",
      "         [-1.7261e+00],\n",
      "         [-1.5195e+00],\n",
      "         [-1.2549e+00],\n",
      "         [-1.3626e+00],\n",
      "         [-1.6195e+00],\n",
      "         [-1.7494e+00],\n",
      "         [-1.1030e+00],\n",
      "         [-1.9236e+00],\n",
      "         [-1.3356e+00],\n",
      "         [-1.3485e+00],\n",
      "         [-1.5958e+00],\n",
      "         [-1.5391e+00],\n",
      "         [-1.3535e+00],\n",
      "         [-1.7273e+00],\n",
      "         [-1.8227e+00],\n",
      "         [-1.7683e+00],\n",
      "         [-1.9215e+00],\n",
      "         [-1.9893e+00],\n",
      "         [-1.2491e+00],\n",
      "         [-1.8048e+00],\n",
      "         [-1.5728e+00],\n",
      "         [-1.5504e+00],\n",
      "         [-1.5182e+00],\n",
      "         [-1.4657e+00],\n",
      "         [-1.7336e+00],\n",
      "         [-1.5723e+00],\n",
      "         [-1.5711e+00],\n",
      "         [-1.8649e+00],\n",
      "         [-1.6311e+00],\n",
      "         [-1.4590e+00],\n",
      "         [-1.7562e+00],\n",
      "         [-1.6079e+00],\n",
      "         [-1.6941e+00],\n",
      "         [-1.4188e+00],\n",
      "         [-1.5057e+00],\n",
      "         [-1.5381e+00],\n",
      "         [-1.2236e+00],\n",
      "         [-1.6353e+00],\n",
      "         [-1.2439e+00],\n",
      "         [-1.3940e+00],\n",
      "         [-1.6823e+00],\n",
      "         [-1.7085e+00],\n",
      "         [-1.1976e+00],\n",
      "         [-1.4891e+00],\n",
      "         [-9.5982e-01],\n",
      "         [-1.6884e+00],\n",
      "         [-1.4311e+00],\n",
      "         [-1.2949e+00],\n",
      "         [-1.4653e+00],\n",
      "         [-1.1980e+00],\n",
      "         [-1.6075e+00],\n",
      "         [-1.4576e+00],\n",
      "         [-1.6646e+00],\n",
      "         [-1.3366e+00],\n",
      "         [-1.3432e+00],\n",
      "         [-1.3710e+00],\n",
      "         [-9.8957e-01],\n",
      "         [-9.8721e-01],\n",
      "         [-1.6802e+00],\n",
      "         [-9.7559e-01],\n",
      "         [-1.5843e+00],\n",
      "         [-8.9148e-01],\n",
      "         [-1.0468e+00],\n",
      "         [-1.2927e+00],\n",
      "         [-1.5835e+00],\n",
      "         [-1.9056e+00],\n",
      "         [-1.3738e+00],\n",
      "         [-1.1678e+00],\n",
      "         [-1.3549e+00],\n",
      "         [-4.2165e-01],\n",
      "         [-1.8279e+00],\n",
      "         [-1.2278e+00],\n",
      "         [-1.0724e+00],\n",
      "         [-6.0410e-01],\n",
      "         [-1.0724e+00],\n",
      "         [-1.1428e+00],\n",
      "         [-1.3347e+00],\n",
      "         [-1.3747e+00],\n",
      "         [-1.1321e+00],\n",
      "         [-1.2607e+00],\n",
      "         [-1.4376e+00],\n",
      "         [-1.2851e+00],\n",
      "         [-1.0646e+00],\n",
      "         [-1.1900e+00],\n",
      "         [-1.1162e+00],\n",
      "         [-9.3875e-01],\n",
      "         [-7.0118e-01],\n",
      "         [-1.0574e+00],\n",
      "         [-1.2029e+00],\n",
      "         [-6.8142e-01],\n",
      "         [-1.0613e+00],\n",
      "         [-7.7853e-01],\n",
      "         [-8.5897e-01],\n",
      "         [-7.1209e-01],\n",
      "         [-5.2016e-01],\n",
      "         [-2.8800e-01],\n",
      "         [-9.3952e-01],\n",
      "         [-4.7820e-01],\n",
      "         [-8.8274e-01],\n",
      "         [-9.3281e-01],\n",
      "         [-3.8511e-01],\n",
      "         [-4.1899e-01],\n",
      "         [-1.3463e-01],\n",
      "         [-7.1387e-01],\n",
      "         [-5.7126e-01],\n",
      "         [-9.2624e-01],\n",
      "         [-7.1065e-01],\n",
      "         [-2.8514e-01],\n",
      "         [-7.4214e-01],\n",
      "         [ 1.6065e-01],\n",
      "         [-3.1756e-01],\n",
      "         [-5.2694e-01],\n",
      "         [-5.0244e-02],\n",
      "         [-4.0083e-01],\n",
      "         [-5.0391e-02],\n",
      "         [-5.4535e-01],\n",
      "         [-3.5651e-01],\n",
      "         [ 5.8141e-02]]]), 'decoder_target': tensor([[0.5663, 0.5306, 0.6127, 0.5564, 0.5507, 0.4270, 0.5914, 0.4715, 0.5620,\n",
      "         0.5404, 0.4861, 0.5632, 0.5926, 0.5647, 0.6857, 0.5566, 0.6164, 0.7069,\n",
      "         0.6466, 0.6150, 0.6195, 0.6885, 0.6475, 0.5468, 0.5798, 0.6611, 0.6928,\n",
      "         0.5804, 0.5702, 0.6430, 0.5992, 0.6529, 0.6695, 0.7015, 0.6530, 0.6928,\n",
      "         0.5985, 0.6650, 0.6636, 0.7690, 0.7839, 0.6834, 0.7193, 0.7171, 0.6318,\n",
      "         0.6334, 0.7166, 0.6910, 0.6917, 0.6359, 0.6312, 0.6799, 0.6790, 0.8374,\n",
      "         0.6546, 0.7129, 0.7065, 0.6964, 0.7600, 0.7580, 0.7537, 0.8386, 0.7049,\n",
      "         0.6902, 0.6558, 0.7001, 0.7484, 0.7775, 0.9131, 0.7972, 0.7726, 0.8253,\n",
      "         0.7484, 0.8652, 0.7303, 0.8741, 0.6911, 0.7233, 0.7708, 0.7747, 0.7720,\n",
      "         0.8052, 0.8068, 0.8091, 0.8072, 0.7981, 0.8109, 0.7955, 0.7999, 0.7452,\n",
      "         0.9149, 0.7462, 0.7372, 0.8105, 0.8695, 0.7438, 0.7552, 0.7549, 0.7550,\n",
      "         0.7912, 0.8697, 0.8594, 0.8220, 0.8634, 0.7617, 0.8448, 0.7534, 0.8110,\n",
      "         0.7556, 0.7529, 0.8672, 0.7800, 0.6519, 0.7253, 0.7147, 0.7402, 0.7153,\n",
      "         0.8032, 0.7658, 0.7592, 0.7242, 0.7252, 0.7231, 0.6779, 0.6395, 0.7945,\n",
      "         0.6757, 0.7129, 0.7268, 0.8293, 0.6916, 0.7367, 0.7278, 0.7168, 0.7115,\n",
      "         0.6921, 0.6919, 0.6802, 0.6909, 0.7065, 0.6552, 0.6452, 0.6597, 0.6599,\n",
      "         0.7538, 0.6166, 0.6551, 0.6223, 0.6750, 0.6291, 0.6396, 0.5920, 0.7539,\n",
      "         0.6061, 0.7062, 0.5922, 0.5859, 0.6190, 0.6462, 0.6009, 0.5197, 0.5094,\n",
      "         0.6642, 0.5788, 0.6411, 0.5638, 0.5530, 0.6394, 0.6258, 0.4851, 0.5480,\n",
      "         0.4464, 0.5445, 0.4841, 0.5273, 0.6164, 0.4242, 0.4881, 0.5575, 0.4950,\n",
      "         0.5015, 0.4978, 0.5684, 0.5075, 0.4418, 0.4795, 0.6051, 0.5106, 0.3717,\n",
      "         0.5223, 0.4470, 0.4154, 0.4135, 0.5061, 0.3722, 0.4608, 0.4696, 0.4052,\n",
      "         0.5114, 0.5238, 0.3934, 0.4682, 0.3988, 0.4616, 0.4062, 0.3687, 0.3806,\n",
      "         0.4401, 0.3060, 0.2905, 0.3436, 0.4274, 0.4328, 0.4130, 0.3777, 0.3710,\n",
      "         0.3742, 0.4040, 0.2858, 0.4255, 0.1988, 0.3856, 0.3430, 0.3735, 0.1852,\n",
      "         0.3306, 0.2759, 0.3828, 0.3289, 0.3125, 0.4135, 0.3556, 0.2574, 0.1943,\n",
      "         0.2697, 0.3244, 0.2385, 0.2458, 0.3429, 0.2563, 0.2977, 0.1993, 0.2404,\n",
      "         0.2665, 0.3340, 0.2021, 0.2891, 0.1963, 0.2394, 0.2946, 0.2722, 0.2186,\n",
      "         0.1915, 0.3263, 0.1552, 0.2778, 0.2751, 0.2235, 0.2354, 0.2741, 0.1961,\n",
      "         0.1762, 0.1875, 0.1556, 0.1414, 0.2958, 0.1799, 0.2283, 0.2330, 0.2397,\n",
      "         0.2507, 0.1948, 0.2284, 0.2287, 0.1674, 0.2162, 0.2521, 0.1901, 0.2210,\n",
      "         0.2030, 0.2605, 0.2423, 0.2356, 0.3012, 0.2153, 0.2969, 0.2656, 0.2055,\n",
      "         0.2000, 0.3066, 0.2458, 0.3562, 0.2042, 0.2579, 0.2863, 0.2507, 0.3065,\n",
      "         0.2211, 0.2523, 0.2092, 0.2776, 0.2762, 0.2704, 0.3500, 0.3505, 0.2059,\n",
      "         0.3529, 0.2259, 0.3704, 0.3380, 0.2867, 0.2261, 0.1589, 0.2698, 0.3128,\n",
      "         0.2738, 0.4684, 0.1751, 0.3003, 0.3327, 0.4304, 0.3327, 0.3180, 0.2780,\n",
      "         0.2696, 0.3203, 0.2934, 0.2565, 0.2883, 0.3343, 0.3082, 0.3236, 0.3606,\n",
      "         0.4101, 0.3358, 0.3055, 0.4143, 0.3350, 0.3940, 0.3772, 0.4079, 0.4479,\n",
      "         0.4963, 0.3604, 0.4566, 0.3723, 0.3618, 0.4761, 0.4690, 0.5283, 0.4075,\n",
      "         0.4372, 0.3632, 0.4082, 0.4969, 0.4016, 0.5899, 0.4902, 0.4465, 0.5459,\n",
      "         0.4728, 0.5459, 0.4426, 0.4820, 0.5685]]), 'decoder_lengths': tensor([365]), 'decoder_time_idx': tensor([[1827, 1828, 1829, 1830, 1831, 1832, 1833, 1834, 1835, 1836, 1837, 1838,\n",
      "         1839, 1840, 1841, 1842, 1843, 1844, 1845, 1846, 1847, 1848, 1849, 1850,\n",
      "         1851, 1852, 1853, 1854, 1855, 1856, 1857, 1858, 1859, 1860, 1861, 1862,\n",
      "         1863, 1864, 1865, 1866, 1867, 1868, 1869, 1870, 1871, 1872, 1873, 1874,\n",
      "         1875, 1876, 1877, 1878, 1879, 1880, 1881, 1882, 1883, 1884, 1885, 1886,\n",
      "         1887, 1888, 1889, 1890, 1891, 1892, 1893, 1894, 1895, 1896, 1897, 1898,\n",
      "         1899, 1900, 1901, 1902, 1903, 1904, 1905, 1906, 1907, 1908, 1909, 1910,\n",
      "         1911, 1912, 1913, 1914, 1915, 1916, 1917, 1918, 1919, 1920, 1921, 1922,\n",
      "         1923, 1924, 1925, 1926, 1927, 1928, 1929, 1930, 1931, 1932, 1933, 1934,\n",
      "         1935, 1936, 1937, 1938, 1939, 1940, 1941, 1942, 1943, 1944, 1945, 1946,\n",
      "         1947, 1948, 1949, 1950, 1951, 1952, 1953, 1954, 1955, 1956, 1957, 1958,\n",
      "         1959, 1960, 1961, 1962, 1963, 1964, 1965, 1966, 1967, 1968, 1969, 1970,\n",
      "         1971, 1972, 1973, 1974, 1975, 1976, 1977, 1978, 1979, 1980, 1981, 1982,\n",
      "         1983, 1984, 1985, 1986, 1987, 1988, 1989, 1990, 1991, 1992, 1993, 1994,\n",
      "         1995, 1996, 1997, 1998, 1999, 2000, 2001, 2002, 2003, 2004, 2005, 2006,\n",
      "         2007, 2008, 2009, 2010, 2011, 2012, 2013, 2014, 2015, 2016, 2017, 2018,\n",
      "         2019, 2020, 2021, 2022, 2023, 2024, 2025, 2026, 2027, 2028, 2029, 2030,\n",
      "         2031, 2032, 2033, 2034, 2035, 2036, 2037, 2038, 2039, 2040, 2041, 2042,\n",
      "         2043, 2044, 2045, 2046, 2047, 2048, 2049, 2050, 2051, 2052, 2053, 2054,\n",
      "         2055, 2056, 2057, 2058, 2059, 2060, 2061, 2062, 2063, 2064, 2065, 2066,\n",
      "         2067, 2068, 2069, 2070, 2071, 2072, 2073, 2074, 2075, 2076, 2077, 2078,\n",
      "         2079, 2080, 2081, 2082, 2083, 2084, 2085, 2086, 2087, 2088, 2089, 2090,\n",
      "         2091, 2092, 2093, 2094, 2095, 2096, 2097, 2098, 2099, 2100, 2101, 2102,\n",
      "         2103, 2104, 2105, 2106, 2107, 2108, 2109, 2110, 2111, 2112, 2113, 2114,\n",
      "         2115, 2116, 2117, 2118, 2119, 2120, 2121, 2122, 2123, 2124, 2125, 2126,\n",
      "         2127, 2128, 2129, 2130, 2131, 2132, 2133, 2134, 2135, 2136, 2137, 2138,\n",
      "         2139, 2140, 2141, 2142, 2143, 2144, 2145, 2146, 2147, 2148, 2149, 2150,\n",
      "         2151, 2152, 2153, 2154, 2155, 2156, 2157, 2158, 2159, 2160, 2161, 2162,\n",
      "         2163, 2164, 2165, 2166, 2167, 2168, 2169, 2170, 2171, 2172, 2173, 2174,\n",
      "         2175, 2176, 2177, 2178, 2179, 2180, 2181, 2182, 2183, 2184, 2185, 2186,\n",
      "         2187, 2188, 2189, 2190, 2191]]), 'groups': tensor([[0]]), 'target_scale': tensor([[0.5564, 0.2086]])}\n",
      "torch.Size([1, 730])\n"
     ]
    },
    {
     "data": {
      "text/plain": [
       "(5,)"
      ]
     },
     "execution_count": 188,
     "metadata": {},
     "output_type": "execute_result"
    }
   ],
   "source": [
    "print(x)\n",
    "print(np.shape(raw_predictions.backcast))\n",
    "np.shape(raw_predictions)"
   ]
  },
  {
   "cell_type": "code",
   "execution_count": 189,
   "id": "705dfddc-44f5-40d6-a06e-fe9755b57b3d",
   "metadata": {},
   "outputs": [
    {
     "data": {
      "text/html": [
       "<div>\n",
       "<style scoped>\n",
       "    .dataframe tbody tr th:only-of-type {\n",
       "        vertical-align: middle;\n",
       "    }\n",
       "\n",
       "    .dataframe tbody tr th {\n",
       "        vertical-align: top;\n",
       "    }\n",
       "\n",
       "    .dataframe thead th {\n",
       "        text-align: right;\n",
       "    }\n",
       "</style>\n",
       "<table border=\"1\" class=\"dataframe\">\n",
       "  <thead>\n",
       "    <tr style=\"text-align: right;\">\n",
       "      <th></th>\n",
       "      <th>group</th>\n",
       "      <th>time_idx</th>\n",
       "      <th>value</th>\n",
       "    </tr>\n",
       "  </thead>\n",
       "  <tbody>\n",
       "    <tr>\n",
       "      <th>1820</th>\n",
       "      <td>0</td>\n",
       "      <td>1820</td>\n",
       "      <td>0.401751</td>\n",
       "    </tr>\n",
       "    <tr>\n",
       "      <th>1821</th>\n",
       "      <td>0</td>\n",
       "      <td>1821</td>\n",
       "      <td>0.409281</td>\n",
       "    </tr>\n",
       "    <tr>\n",
       "      <th>1822</th>\n",
       "      <td>0</td>\n",
       "      <td>1822</td>\n",
       "      <td>0.578859</td>\n",
       "    </tr>\n",
       "    <tr>\n",
       "      <th>1823</th>\n",
       "      <td>0</td>\n",
       "      <td>1823</td>\n",
       "      <td>0.539713</td>\n",
       "    </tr>\n",
       "    <tr>\n",
       "      <th>1824</th>\n",
       "      <td>0</td>\n",
       "      <td>1824</td>\n",
       "      <td>0.531257</td>\n",
       "    </tr>\n",
       "    <tr>\n",
       "      <th>1825</th>\n",
       "      <td>0</td>\n",
       "      <td>1825</td>\n",
       "      <td>0.618593</td>\n",
       "    </tr>\n",
       "    <tr>\n",
       "      <th>1826</th>\n",
       "      <td>0</td>\n",
       "      <td>1826</td>\n",
       "      <td>0.535315</td>\n",
       "    </tr>\n",
       "  </tbody>\n",
       "</table>\n",
       "</div>"
      ],
      "text/plain": [
       "      group  time_idx     value\n",
       "1820      0      1820  0.401751\n",
       "1821      0      1821  0.409281\n",
       "1822      0      1822  0.578859\n",
       "1823      0      1823  0.539713\n",
       "1824      0      1824  0.531257\n",
       "1825      0      1825  0.618593\n",
       "1826      0      1826  0.535315"
      ]
     },
     "execution_count": 189,
     "metadata": {},
     "output_type": "execute_result"
    }
   ],
   "source": [
    "df1[1820:1827]"
   ]
  },
  {
   "cell_type": "code",
   "execution_count": null,
   "id": "f0ca6f10-d80c-4768-832a-f8de82271b8d",
   "metadata": {},
   "outputs": [],
   "source": []
  }
 ],
 "metadata": {
  "kernelspec": {
   "display_name": "Python 3 (ipykernel)",
   "language": "python",
   "name": "python3"
  },
  "language_info": {
   "codemirror_mode": {
    "name": "ipython",
    "version": 3
   },
   "file_extension": ".py",
   "mimetype": "text/x-python",
   "name": "python",
   "nbconvert_exporter": "python",
   "pygments_lexer": "ipython3",
   "version": "3.9.7"
  }
 },
 "nbformat": 4,
 "nbformat_minor": 5
}
